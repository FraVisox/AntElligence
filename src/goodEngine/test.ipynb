{
 "cells": [
  {
   "cell_type": "code",
   "execution_count": null,
   "id": "98b0835a",
   "metadata": {},
   "outputs": [],
   "source": [
    "\n",
    "import ctypes\n",
    "import os\n",
    "from abc import ABC, abstractmethod\n"
   ]
  },
  {
   "cell_type": "code",
   "execution_count": null,
   "id": "6d4968a3",
   "metadata": {},
   "outputs": [],
   "source": [
    "path = os.path.join(os.getcwd(), \"cpp/interface.so\")\n",
    "dll = ctypes.CDLL(path)\n",
    "\n",
    "getBoard=dll._Z10base_statei\n",
    "copyBoard=dll._Z9copyBoardP6EBoard\n",
    "updateState=dll._Z10next_stateP6EBoardl\n",
    "getAction=dll._Z10getActionsP6EBoardPl\n",
    "actionToString=dll._Z14actionToStringl\n",
    "printAct=dll._Z16printActionFancyl\n",
    "\n",
    "actionToString.restype = ctypes.c_char_p\n",
    "actionToString.argtypes = [ctypes.c_uint64]\n",
    "printAct.argtypes = [ctypes.c_uint64]\n",
    "getAction.argtypes = [ctypes.c_void_p,ctypes.POINTER(ctypes.c_uint64)]"
   ]
  },
  {
   "cell_type": "code",
   "execution_count": null,
   "id": "04cf47f2-f32d-40e6-a2d6-ebda4bc62da7",
   "metadata": {},
   "outputs": [],
   "source": [
    "b=getBoard()"
   ]
  },
  {
   "cell_type": "code",
   "execution_count": null,
   "id": "e5451da3",
   "metadata": {},
   "outputs": [],
   "source": [
    "RisType = ctypes.c_uint64 * 256\n",
    "\n",
    "ris=RisType()\n",
    "ris[0]=2"
   ]
  },
  {
   "cell_type": "code",
   "execution_count": null,
   "id": "3372e96d-71b3-4b4b-97cc-cf6e63b07e30",
   "metadata": {},
   "outputs": [],
   "source": [
    "import time\n",
    "time.time()"
   ]
  },
  {
   "cell_type": "code",
   "execution_count": null,
   "id": "929586a3-1742-4276-9575-f1e726f78feb",
   "metadata": {},
   "outputs": [],
   "source": [
    "from game_rule import DLLGameRule \n",
    "GR=DLLGameRule()\n",
    "import time\n",
    "import random\n",
    "import ctypes\n",
    "import math\n",
    "import time"
   ]
  },
  {
   "cell_type": "code",
   "execution_count": null,
   "id": "243e945e",
   "metadata": {},
   "outputs": [],
   "source": [
    "totMov = 0\n",
    "t_start = time.time()\n",
    "\n",
    "for rt in range(200):\n",
    "    state = GR.init_state()\n",
    "    i = 0\n",
    "\n",
    "    ris = (ctypes.c_int * 256)()  # buffer for actions\n",
    "    while i<200000:\n",
    "\n",
    "        ris=GR.getActions(state)\n",
    "        # .EBoard_getNextsActions(board, ris)\n",
    "\n",
    "        num_actions = ris[0]\n",
    "        m = random.randint(1, num_actions)\n",
    "        GR.next_state(state, ris[m])\n",
    "\n",
    "        out = GR.checkStatus(state)\n",
    "        if out != 1:\n",
    "            print(i)\n",
    "            break\n",
    "        totMov += 1\n",
    "        \n",
    "        i += 1\n",
    "\n",
    "    \n",
    "t_end = time.time()\n",
    "print(\"Tempo totale mossa\", (t_end - t_start) /totMov, \"s\")\n",
    "print(totMov)\n"
   ]
  },
  {
   "cell_type": "code",
   "execution_count": null,
   "id": "43c438f4",
   "metadata": {},
   "outputs": [],
   "source": [
    "state = GR.init_state()\n",
    "ris=GR.getActions(state)\n",
    "GR.next_state(state, ris[0])\n",
    "out = GR.checkStatus(state)\n",
    "        "
   ]
  },
  {
   "cell_type": "code",
   "execution_count": null,
   "id": "1b63af5c",
   "metadata": {},
   "outputs": [],
   "source": [
    "\n",
    "ris=GR.getActions(state)\n",
    "GR.next_state(state, ris[0])\n",
    "out = GR.checkStatus(state)"
   ]
  },
  {
   "cell_type": "code",
   "execution_count": null,
   "id": "5c13fbf4-3266-404d-95ba-e9f60706c32e",
   "metadata": {},
   "outputs": [],
   "source": [
    "out"
   ]
  },
  {
   "cell_type": "code",
   "execution_count": null,
   "id": "d34d2095-8f2c-4f9a-8139-2c568e3fcec1",
   "metadata": {},
   "outputs": [],
   "source": [
    "for i in range(1,ris[0]+1):\n",
    "    print(ris[i], actionToString(ris[i]).decode('utf-8'))\n",
    "    printAct(ris[i])\n",
    "    print(\"\")"
   ]
  },
  {
   "cell_type": "code",
   "execution_count": null,
   "id": "f4c1d923",
   "metadata": {},
   "outputs": [],
   "source": [
    "path = os.path.join(os.getcwd(), \"cpp/engine.dll\")\n",
    "dll = ctypes.CDLL(path)\n",
    "        "
   ]
  },
  {
   "cell_type": "code",
   "execution_count": null,
   "id": "4ed332b6",
   "metadata": {},
   "outputs": [],
   "source": [
    "dll._Z10validMovesv.restype=ctypes.POINTER(ctypes.POINTER(ctypes.c_char))# ctypes.POINTER(ctypes.c_char_p)\n",
    "r=dll._Z10validMovesv()\n"
   ]
  },
  {
   "cell_type": "code",
   "execution_count": null,
   "id": "e0c73686",
   "metadata": {},
   "outputs": [],
   "source": [
    "r[2][5]"
   ]
  },
  {
   "cell_type": "code",
   "execution_count": 1,
   "id": "92f36827",
   "metadata": {},
   "outputs": [
    {
     "ename": "NameError",
     "evalue": "name 'game_rule' is not defined",
     "output_type": "error",
     "traceback": [
      "\u001b[0;31m---------------------------------------------------------------------------\u001b[0m",
      "\u001b[0;31mNameError\u001b[0m                                 Traceback (most recent call last)",
      "Cell \u001b[0;32mIn[1], line 1\u001b[0m\n\u001b[0;32m----> 1\u001b[0m \u001b[38;5;28;01mclass\u001b[39;00m \u001b[38;5;21;01mgame_rule_cpp_imp\u001b[39;00m(\u001b[43mgame_rule\u001b[49m):\n\u001b[1;32m      2\u001b[0m     \u001b[38;5;28;01mdef\u001b[39;00m \u001b[38;5;21m__init__\u001b[39m(\u001b[38;5;28mself\u001b[39m):\n\u001b[1;32m      3\u001b[0m         path \u001b[38;5;241m=\u001b[39m os\u001b[38;5;241m.\u001b[39mpath\u001b[38;5;241m.\u001b[39mjoin(os\u001b[38;5;241m.\u001b[39mgetcwd(), \u001b[38;5;124m\"\u001b[39m\u001b[38;5;124mcpp/engine.dll\u001b[39m\u001b[38;5;124m\"\u001b[39m)\n",
      "\u001b[0;31mNameError\u001b[0m: name 'game_rule' is not defined"
     ]
    }
   ],
   "source": [
    "class game_rule_cpp_imp(game_rule):\n",
    "    def __init__(self):\n",
    "        path = os.path.join(os.getcwd(), \"cpp/engine.dll\")\n",
    "        self.dll = ctypes.CDLL(path)\n",
    "        self._setup_functions()\n",
    "\n",
    "\n",
    "    def _setup_functions(self):\n",
    "        # Set up game functions\n",
    "        self.dll._Z10init_statev.restype = ctypes.c_uint64*32;\n",
    "        \n",
    "        self.dll._Z10next_statePmm.argtypes = [ctypes.c_uint64*32];\n",
    "        self.dll._Z10next_statePmm.restype = ctypes.c_uint64*5;\n",
    "        \n",
    "        self.dll._Z10getActionsPm.argtypes = [ctypes.c_uint64*32];\n",
    "        self.dll._Z10getActionsPm.restype = ctypes.c_uint64*512;\n",
    "        \n",
    "        self.dll._Z11checkStatusPm.argtypes = [ctypes.c_uint64*32];\n",
    "        self.dll._Z11checkStatusPm.restype = ctypes.c_ushort;\n",
    "        \n",
    "    def init_state(self):\n",
    "        return self.dll._Z10init_statev()\n",
    "    \n",
    "    def next_state(self,state,action):\n",
    "        return self.dll._Z10next_statePmm(state,action)\n",
    "    \n",
    "    def getActions(self,state):\n",
    "        return self.dll._Z10next_statePmm(state)\n",
    "    \n",
    "    def checkStatus(self,state):\n",
    "        return self.dll._Z11checkStatusPm(state)"
   ]
  },
  {
   "cell_type": "code",
   "execution_count": null,
   "id": "e2258704",
   "metadata": {},
   "outputs": [],
   "source": [
    "a=game_rule_cpp_imp()"
   ]
  },
  {
   "cell_type": "code",
   "execution_count": null,
   "id": "23a1f746",
   "metadata": {},
   "outputs": [],
   "source": [
    "a.init_state()"
   ]
  },
  {
   "cell_type": "code",
   "execution_count": 1,
   "id": "b91c1435",
   "metadata": {},
   "outputs": [],
   "source": [
    "from game_rule import DLLGameRule \n",
    "GR=DLLGameRule()\n",
    "import time\n",
    "import random\n",
    "import ctypes\n",
    "import math\n",
    "import time"
   ]
  },
  {
   "cell_type": "code",
   "execution_count": 2,
   "id": "0fc60652-5039-4dd4-bbcc-72b99130173b",
   "metadata": {},
   "outputs": [],
   "source": [
    "from game_rule import DLLGameRule \n",
    "GR=DLLGameRule()\n",
    "import time\n",
    "import random\n",
    "import ctypes\n",
    "import math\n",
    "import time"
   ]
  },
  {
   "cell_type": "code",
   "execution_count": 3,
   "id": "40909615-65f9-4c90-8f2d-e1c618bba863",
   "metadata": {},
   "outputs": [],
   "source": [
    "import random\n",
    "\n",
    "# contatore globale di valutazioni statiche\n",
    "evN = 0\n",
    "\n",
    "def minimax(state, depth, maximizing_player, w, alpha=-1e9, beta=+1e9, currentTurn=0):\n",
    "    \"\"\"\n",
    "    Restituisce (valore, migliore_azione)\n",
    "    \"\"\"\n",
    "    global evN\n",
    "\n",
    "    # 1) verifica immediata di terminale\n",
    "    status = GR.checkStatus(state)\n",
    "    if status != 1:  # 1 == ongoing\n",
    "        t = currentTurn% 2 == 0\n",
    "        # se è vittoria per chi muove in questo stato\n",
    "        if (status == 3 and t == 0) or (status == 4 and t == 1):\n",
    "            return +1000, None\n",
    "        else:\n",
    "            return -1000, None\n",
    "\n",
    "    # 2) cutoff di profondità → valutazione statica\n",
    "    if depth == 0:\n",
    "        evN += 1\n",
    "        return GR.calcVal(state, w), None\n",
    "\n",
    "    actionsVect = GR.getActions(state)  # es. [n, a1, a2, ..., a_n]\n",
    "    n = actionsVect[0]\n",
    "    localActions=[actionsVect[i] for i in range(1,n+1)]\n",
    "    best_action = localActions[0]\n",
    "    \n",
    "    if maximizing_player:\n",
    "        max_eval = -1e9\n",
    "        for action in localActions:\n",
    "            child = GR.copyBoard(state)\n",
    "            GR.next_state(child, action)\n",
    "            evalV, _ = minimax(child, depth-1, False, w, alpha, beta,currentTurn=currentTurn+1)\n",
    "            GR.delBoard(child)\n",
    "\n",
    "            if evalV > max_eval:\n",
    "                max_eval = evalV\n",
    "                best_action = action\n",
    "\n",
    "            alpha = max(alpha, evalV)\n",
    "            if beta <= alpha:\n",
    "                break  # β-cut\n",
    "\n",
    "        return max_eval, best_action\n",
    "\n",
    "    else:\n",
    "        min_eval = +1e9\n",
    "        for action in localActions:\n",
    "            child = GR.copyBoard(state)\n",
    "            GR.next_state(child, action)\n",
    "            evalV, _ = minimax(child, depth-1, True, w, alpha, beta,currentTurn=currentTurn+1)\n",
    "            GR.delBoard(child)\n",
    "\n",
    "            if evalV < min_eval:\n",
    "                min_eval = evalV\n",
    "                best_action = action\n",
    "\n",
    "            beta = min(beta, evalV)\n",
    "            if beta <= alpha:\n",
    "                break  # α-cut\n",
    "\n",
    "        return min_eval, best_action\n",
    "\n",
    "\n",
    "def main():\n",
    "    Win = [0, 0]\n",
    "    \n",
    "    w=(ctypes.c_double * 6)(0,0,0,1,-2,30)\n",
    "\n",
    "    for Q in range(100):\n",
    "        state = GR.init_state()\n",
    "        i = 0\n",
    "        totMov = 0\n",
    "        while i < 300:\n",
    "            global evN\n",
    "            if i % 2 == 0:\n",
    "                evN = 0\n",
    "                score, best_action = minimax(state, 5, True, w,currentTurn=i+1)\n",
    "                print(f\"Score:: {score}\")\n",
    "            else:\n",
    "                actions = GR.getActions(state)\n",
    "                # scelta casuale per il secondo giocatore\n",
    "                m = random.randint(1, actions[0])\n",
    "                best_action = actions[m]\n",
    "\n",
    "            print(f\"Best action with: {evN} iteration for turn {i}\")\n",
    "            GR.next_state(state, best_action)\n",
    "            totMov += 1\n",
    "            i += 1\n",
    "\n",
    "            status = GR.checkStatus(state)\n",
    "            if status != 1:\n",
    "                Win[i % 2] += 1\n",
    "                break\n",
    "        GR.delBoard(state)\n",
    "        print(f\"Win: {Win[0]}   {Win[1]}\")"
   ]
  },
  {
   "cell_type": "code",
   "execution_count": null,
   "id": "fc683528-a804-4424-824c-5e3c628c7ef4",
   "metadata": {},
   "outputs": [],
   "source": [
    "main()"
   ]
  },
  {
   "cell_type": "code",
   "execution_count": null,
   "id": "4aa9ab25-b1cc-426d-8ac8-989feca73e55",
   "metadata": {},
   "outputs": [],
   "source": [
    "\n",
    "state = GR.init_state()\n"
   ]
  },
  {
   "cell_type": "code",
   "execution_count": null,
   "id": "8b5bca81-21f8-4344-841b-ae1b4533cbfe",
   "metadata": {},
   "outputs": [],
   "source": [
    "V=GR.toVect(state)"
   ]
  },
  {
   "cell_type": "code",
   "execution_count": null,
   "id": "965fb5e9-82d6-4ffe-b19a-0d2d33977e90",
   "metadata": {},
   "outputs": [],
   "source": [
    "act=GR.getActions(state)"
   ]
  },
  {
   "cell_type": "code",
   "execution_count": null,
   "id": "e64ad4fb-1502-4842-885d-cd462b06cc9e",
   "metadata": {},
   "outputs": [],
   "source": [
    "GR.actionToString(act[4])"
   ]
  },
  {
   "cell_type": "code",
   "execution_count": null,
   "id": "02affff8-94c4-4fbf-9f1a-e72f135b8f44",
   "metadata": {},
   "outputs": [],
   "source": [
    "\";\".join([GR.actionToString(act[i]) ])"
   ]
  },
  {
   "cell_type": "code",
   "execution_count": 1,
   "id": "8662d058-15c0-443e-8f63-5b75b9789419",
   "metadata": {},
   "outputs": [
    {
     "ename": "NameError",
     "evalue": "name 'act' is not defined",
     "output_type": "error",
     "traceback": [
      "\u001b[0;31m---------------------------------------------------------------------------\u001b[0m",
      "\u001b[0;31mNameError\u001b[0m                                 Traceback (most recent call last)",
      "Cell \u001b[0;32mIn[1], line 1\u001b[0m\n\u001b[0;32m----> 1\u001b[0m \u001b[38;5;124m\"\u001b[39m\u001b[38;5;124m;\u001b[39m\u001b[38;5;124m\"\u001b[39m\u001b[38;5;241m.\u001b[39mjoin([GR\u001b[38;5;241m.\u001b[39mactionToString(act[i])\u001b[38;5;241m.\u001b[39mdecode() \u001b[38;5;28;01mfor\u001b[39;00m i \u001b[38;5;129;01min\u001b[39;00m \u001b[38;5;28mrange\u001b[39m(\u001b[38;5;241m1\u001b[39m,\u001b[43mact\u001b[49m[\u001b[38;5;241m0\u001b[39m]\u001b[38;5;241m+\u001b[39m\u001b[38;5;241m1\u001b[39m)])\n",
      "\u001b[0;31mNameError\u001b[0m: name 'act' is not defined"
     ]
    }
   ],
   "source": [
    "\";\".join([GR.actionToString(act[i]).decode() for i in range(1,act[0]+1)])"
   ]
  },
  {
   "cell_type": "code",
   "execution_count": 1,
   "id": "146bddc4-60fb-44c3-872c-ba6b2af0d63a",
   "metadata": {},
   "outputs": [],
   "source": [
    "from subprocess import Popen, PIPE\n",
    "file_exe=\"../../../Mzinga.LinuxX64/MzingaEngine\"\n",
    "player = Popen(file_exe, stdin=PIPE, stdout=PIPE, stderr=PIPE, encoding=\"UTF8\", bufsize=1)\n",
    "\n",
    "player.stdout.readline()\n",
    "player.stdout.readline()\n",
    "player.stdout.readline()\n",
    "from game_rule import DLLGameRule \n",
    "GR=DLLGameRule()\n",
    "import time\n",
    "import random\n",
    "import ctypes\n",
    "import math\n",
    "import time\n",
    "\n"
   ]
  },
  {
   "cell_type": "code",
   "execution_count": 2,
   "id": "084304bc-dbc0-4f51-974f-3d0c9cc13a49",
   "metadata": {},
   "outputs": [],
   "source": [
    "\n",
    "interactionProgram=\"\"\n",
    "def initNewGame(player,gamemode=0):\n",
    "    global interactionProgram\n",
    "    b=\"\"\n",
    "    match gamemode:\n",
    "        case 0:\n",
    "            b=\"Base\"\n",
    "        case 1:\n",
    "            b=\"Base+M\"\n",
    "        case 2:\n",
    "            b=\"Base+L\"\n",
    "        case 3:\n",
    "            b=\"Base+P\"\n",
    "        case 4:\n",
    "            b=\"Base+ML\"\n",
    "        case 5:\n",
    "            b=\"Base+MP\"\n",
    "        case 6:\n",
    "            b=\"Base+LP\"\n",
    "        case 7:\n",
    "            b=\"Base+MLP\"\n",
    "            \n",
    "        \n",
    "    player.stdin.write(\"newgame \"+b+\"\\n\")\n",
    "    interactionProgram+=\" > newgame\\n\"\n",
    "    \n",
    "    interactionProgram+=\" < \"+player.stdout.readline()+\"\\n\"\n",
    "    interactionProgram+=\" < \"+player.stdout.readline()+\"\\n\"\n",
    "    \n",
    "def getValidMoves(player):\n",
    "    global interactionProgram\n",
    "    player.stdin.write(\"validmoves\\n\")\n",
    "    interactionProgram+=\" > validmoves\\n\"\n",
    "    read=player.stdout.readline()\n",
    "    s=read[:-1].split(\";\")  \n",
    "    interactionProgram+=\" < \"+read+\"\\n\"\n",
    "    interactionProgram+=\" < \"+player.stdout.readline()+\"\\n\"\n",
    "    return s\n",
    "\n",
    "def playMove(p):\n",
    "    global interactionProgram\n",
    "    global risAct\n",
    "    player.stdin.write(\"play \"+p+\"\\n\")\n",
    "    interactionProgram+=\" > play \"+p+\"\\n\"\n",
    "    risAct=player.stdout.readline()\n",
    "    interactionProgram+=\" < \"+risAct+\"\\n\"\n",
    "    interactionProgram+=\" < \"+player.stdout.readline()+\"\\n\"\n",
    "    \n",
    "def playBoth(p,state,act):\n",
    "    playMove(act)\n",
    "    GR.next_state(state,GR.stringToAction(state,act))\n",
    "    \n",
    "    "
   ]
  },
  {
   "cell_type": "code",
   "execution_count": 3,
   "id": "7a296861-9676-47dd-8257-a63a4b9dff9c",
   "metadata": {},
   "outputs": [
    {
     "name": "stdout",
     "output_type": "stream",
     "text": [
      "GT:1\n"
     ]
    }
   ],
   "source": [
    "initNewGame(player,1)\n",
    "state = GR.init_state(1)\n",
    "\n",
    "#GR.next_state(state,9)\n",
    "\n",
    "#[GR.boardToCVect_low(state)[i] for i in range(284)]\n"
   ]
  },
  {
   "cell_type": "code",
   "execution_count": 4,
   "id": "8dabcc9e-7734-48af-ac45-3bc5e3f61e87",
   "metadata": {},
   "outputs": [
    {
     "data": {
      "text/plain": [
       "5"
      ]
     },
     "execution_count": 4,
     "metadata": {},
     "output_type": "execute_result"
    }
   ],
   "source": [
    "\n",
    "actTMPC = GR.getActions(state)\n",
    "actTMPC[0]\n"
   ]
  },
  {
   "cell_type": "code",
   "execution_count": 5,
   "id": "4036a058-6d56-40c9-a5ca-03151bb2fd29",
   "metadata": {},
   "outputs": [
    {
     "data": {
      "text/plain": [
       "['wS1', 'wB1', 'wG1', 'wA1', 'wM']"
      ]
     },
     "execution_count": 5,
     "metadata": {},
     "output_type": "execute_result"
    }
   ],
   "source": [
    "[GR.actionToString(actTMPC[i]) for i in range(1,actTMPC[0]+1)]"
   ]
  },
  {
   "cell_type": "code",
   "execution_count": 6,
   "id": "cd0c4f9c-5eba-4201-a2b1-633f1b3b65f9",
   "metadata": {},
   "outputs": [
    {
     "data": {
      "text/plain": [
       "['wS1', 'wB1', 'wG1', 'wA1', 'wM']"
      ]
     },
     "execution_count": 6,
     "metadata": {},
     "output_type": "execute_result"
    }
   ],
   "source": [
    "getValidMoves(player)"
   ]
  },
  {
   "cell_type": "code",
   "execution_count": 7,
   "id": "2110e5ef-4f3f-4b84-8cd4-e2bafc430e90",
   "metadata": {},
   "outputs": [
    {
     "data": {
      "text/plain": [
       "5"
      ]
     },
     "execution_count": 7,
     "metadata": {},
     "output_type": "execute_result"
    }
   ],
   "source": [
    "actTMPC[0]"
   ]
  },
  {
   "cell_type": "code",
   "execution_count": 8,
   "id": "8d8c6af6-a29e-4158-b488-c84eecc326fe",
   "metadata": {},
   "outputs": [
    {
     "name": "stdout",
     "output_type": "stream",
     "text": [
      "GT:3\n",
      "ERROR: Different lenght\n",
      "1. wA1\n",
      "2. bS1 wA1-\n",
      "3. wQ -wA1\n",
      "4. bQ bS1/\n",
      "5. wP /wQ\n",
      "6. bP bQ\\\n",
      "7. wS1 wQ/\n",
      "8. bS2 bQ-\n",
      "9. wS2 \\wP\n",
      "10. bQ bS2\\\n",
      "11. wA2 /wA1\n",
      "12. bA1 bQ\\\n",
      "13. wA3 /wS2\n",
      "14. bG1 bA1\\\n",
      "15. wA3 wS1/\n",
      "16. bB1 bG1-\n",
      "17. wA3 \\wS2\n",
      "18. bG2 bB1-\n",
      "19. wA2 /bB1\n",
      "20. bB2 \\bS2\n",
      "21. wB1 /wA2\n",
      "22. bB2 bS2/\n",
      "23. wG1 wB1\\\n",
      "24. bG3 bB2-\n",
      "25. wA3 /bS1\n",
      "26. bA2 bQ-\n",
      "27. wS1 \\bS2\n",
      "28. bA2 -wS1\n",
      "29. wA3 wA2\\\n",
      "30. bA3 \\bA2\n",
      "31. wG1 /bG2\n",
      "32. bA3 /bA2\n",
      "33. wA3 /bQ\n",
      "\n"
     ]
    }
   ],
   "source": [
    "evN=0\n",
    "v1=[]\n",
    "v2=[]\n",
    "v2r=[]\n",
    "moves=\"\";\n",
    "allVe=[]\n",
    "\n",
    "def test():\n",
    "    global v1\n",
    "    global v2\n",
    "    global v2r\n",
    "    global allVe\n",
    "    \n",
    "    state = None\n",
    "    for Q in range(100):\n",
    "        \n",
    "        geConf=\"\"\n",
    "        state = GR.init_state(3)\n",
    "        initNewGame(player,3)\n",
    "\n",
    "        iM = 0\n",
    "        totMov = 0\n",
    "        while iM <1000:\n",
    "            global evN\n",
    "\n",
    "            actTMPC = GR.getActions(state)\n",
    "            actStrTE = getValidMoves(player)\n",
    "\n",
    "            actNumE=[GR.stringToAction(state,mov) for mov in actStrTE]\n",
    "            actNumC=[actTMPC[i] for i in range(1,actTMPC[0]+1)]\n",
    "            \n",
    "            actStrC=[GR.actionToString(x) for x in actNumC]\n",
    "            actStrE=[GR.actionToString(x) for x in actNumE]\n",
    "            actNumE.sort()\n",
    "            actNumC.sort()\n",
    "            actStrE.sort()\n",
    "            actStrC.sort()\n",
    "\n",
    "            \n",
    "            lE=len(actNumE)\n",
    "            lC=len(actNumC)\n",
    "            \n",
    "            if lE!=lC:\n",
    "                print(\"ERROR: Different lenght\")\n",
    "                v1=[GR.actionToString(x) for x in actNumE]\n",
    "                v2=[GR.actionToString(x) for x in actNumC]\n",
    "                v2r=actNumC\n",
    "                allVe=(actStrTE,actTMPC,actNumE,actNumC,actStrE,actStrC)\n",
    "                print(geConf)\n",
    "                return\n",
    "            else:\n",
    "                for i in range(lE):\n",
    "                    if(actStrC[i]!=actStrE[i]):\n",
    "                        print(\"ERROR : not same actions\")\n",
    "                        v1=[GR.actionToString(x) for x in actNumE]\n",
    "                        v2=[GR.actionToString(x) for x in actNumC]\n",
    "                        allVe=(actTMPC,actStrTE,actNumE,actNumC,actStrE,actStrC)\n",
    "                        v2r=actNumC\n",
    "                        print(geConf)\n",
    "                        return\n",
    "            # scelta casuale per il secondo giocatore\n",
    "            \n",
    "            m = random.randint(1, lC)\n",
    "\n",
    "            geConf+=(f\"{iM+1}. {actStrC[m-1]}\\n\")\n",
    "            playBoth(player,state,actStrC[m-1])\n",
    "            \n",
    "            #GR.next_state(state,GR.stringToAction(state,actStrC[m-1]))\n",
    "    \n",
    "            totMov += 1\n",
    "            iM += 1\n",
    "            \n",
    "\n",
    "            status = GR.checkStatus(state)\n",
    "            if status != 1:\n",
    "                print(\"iM\",iM)\n",
    "                iM=1000\n",
    "                break\n",
    "        print(\"Q:\",Q)\n",
    "        GR.delBoard(state)\n",
    "test()"
   ]
  },
  {
   "cell_type": "code",
   "execution_count": 11,
   "id": "d5fc6592-3af7-4ea8-a6b3-89c7c1369b24",
   "metadata": {},
   "outputs": [
    {
     "data": {
      "text/plain": [
       "(84, 86)"
      ]
     },
     "execution_count": 11,
     "metadata": {},
     "output_type": "execute_result"
    }
   ],
   "source": [
    "l1=len(v1)\n",
    "l2=len(v2)\n",
    "l1,l2\n",
    "#[(allVe[2][i]==allVe[0][i+1],allVe[2][i],allVe[0][i+1]) for i in range(l1)]"
   ]
  },
  {
   "cell_type": "code",
   "execution_count": 12,
   "id": "2590e91f-19df-49eb-b8f3-f8e5e8103b1c",
   "metadata": {},
   "outputs": [
    {
     "data": {
      "text/plain": [
       "(84, 86)"
      ]
     },
     "execution_count": 12,
     "metadata": {},
     "output_type": "execute_result"
    }
   ],
   "source": [
    "(l1,l2)"
   ]
  },
  {
   "cell_type": "code",
   "execution_count": 13,
   "id": "d6b0a27d-0bfc-4cc7-88b5-8d7fd547b20c",
   "metadata": {},
   "outputs": [],
   "source": [
    "v1.sort()\n",
    "v2.sort()"
   ]
  },
  {
   "cell_type": "code",
   "execution_count": 14,
   "id": "cb0f17bf-01da-40f2-8b49-2c82df997df8",
   "metadata": {},
   "outputs": [
    {
     "name": "stdout",
     "output_type": "stream",
     "text": [
      "        \t wA3 /bP\n",
      "        \t wA3 /wS1\n"
     ]
    }
   ],
   "source": [
    "for i in range(max(l1,l2)):\n",
    "    if((v1[i] if i<l1 else \"       \")!=(v2[i] if i<l2 else 0)):\n",
    "        print(v1[i] if i<l1 else \"       \",\"\\t\",v2[i] if i<l2 else 0)"
   ]
  },
  {
   "cell_type": "code",
   "execution_count": 36,
   "id": "ca6fa4d8-25b9-4b7c-ae13-c4480afde4a1",
   "metadata": {},
   "outputs": [
    {
     "data": {
      "text/plain": [
       "['bA1 -bQ',\n",
       " 'bA1 /bQ',\n",
       " 'bA1 /bS1',\n",
       " 'bA1 /bS1',\n",
       " 'bA1 bP-',\n",
       " 'bA1 bP\\\\',\n",
       " 'bA1 bP\\\\',\n",
       " 'bA1 bQ\\\\',\n",
       " 'bA1 bS1-',\n",
       " 'bB1 -bQ',\n",
       " 'bB1 /bQ',\n",
       " 'bB1 /bS1',\n",
       " 'bB1 bP-',\n",
       " 'bB1 bP\\\\',\n",
       " 'bB1 bQ\\\\',\n",
       " 'bB1 bS1-',\n",
       " 'bG1 -bQ',\n",
       " 'bG1 /bQ',\n",
       " 'bG1 /bS1',\n",
       " 'bG1 bP-',\n",
       " 'bG1 bP\\\\',\n",
       " 'bG1 bQ\\\\',\n",
       " 'bG1 bS1-',\n",
       " 'bQ bP-',\n",
       " 'bQ bS1-',\n",
       " 'bS2 -bQ',\n",
       " 'bS2 /bQ',\n",
       " 'bS2 /bS1',\n",
       " 'bS2 bP-',\n",
       " 'bS2 bP\\\\',\n",
       " 'bS2 bQ\\\\',\n",
       " 'bS2 bS1-']"
      ]
     },
     "execution_count": 36,
     "metadata": {},
     "output_type": "execute_result"
    }
   ],
   "source": [
    "v2"
   ]
  },
  {
   "cell_type": "code",
   "execution_count": 17,
   "id": "3a65e17b-0f0d-4ada-b3c0-7a046ce5f767",
   "metadata": {},
   "outputs": [
    {
     "data": {
      "text/plain": [
       "128"
      ]
     },
     "execution_count": 17,
     "metadata": {},
     "output_type": "execute_result"
    }
   ],
   "source": [
    "9227321486950268931>>56"
   ]
  },
  {
   "cell_type": "code",
   "execution_count": 13,
   "id": "62d1f24a-1328-42c4-a58c-b23e5099352e",
   "metadata": {},
   "outputs": [
    {
     "data": {
      "text/plain": [
       "['wA2 -wB1',\n",
       " 'wA2 /wB1',\n",
       " 'wA2 \\\\wA1',\n",
       " 'wA2 \\\\wB1',\n",
       " 'wA2 wA1/',\n",
       " 'wA2 wB1/',\n",
       " 'wA2 wQ-',\n",
       " 'wA2 wQ/',\n",
       " 'wB1 /wP',\n",
       " 'wB1 /wP',\n",
       " 'wB1 /wQ',\n",
       " 'wB1 \\\\wP',\n",
       " 'wB1 wP',\n",
       " 'wB2 -wB1',\n",
       " 'wB2 /wB1',\n",
       " 'wB2 \\\\wA1',\n",
       " 'wB2 \\\\wB1',\n",
       " 'wB2 wA1/',\n",
       " 'wB2 wB1/',\n",
       " 'wB2 wQ-',\n",
       " 'wB2 wQ/',\n",
       " 'wG1 -wB1',\n",
       " 'wG1 /wB1',\n",
       " 'wG1 \\\\wA1',\n",
       " 'wG1 \\\\wB1',\n",
       " 'wG1 wA1/',\n",
       " 'wG1 wB1/',\n",
       " 'wG1 wQ-',\n",
       " 'wG1 wQ/',\n",
       " 'wQ wA1/',\n",
       " 'wQ wA1\\\\',\n",
       " 'wS1 -wB1',\n",
       " 'wS1 /wB1',\n",
       " 'wS1 \\\\wA1',\n",
       " 'wS1 \\\\wB1',\n",
       " 'wS1 wA1/',\n",
       " 'wS1 wB1/',\n",
       " 'wS1 wQ-',\n",
       " 'wS1 wQ/']"
      ]
     },
     "execution_count": 13,
     "metadata": {},
     "output_type": "execute_result"
    }
   ],
   "source": [
    "v2"
   ]
  },
  {
   "cell_type": "code",
   "execution_count": null,
   "id": "be1f25e4-8a3d-476d-93fd-0e4641ca10ce",
   "metadata": {},
   "outputs": [],
   "source": [
    "totMov = 0\n",
    "t_start = time.time()\n",
    "\n",
    "for rt in range(5):\n",
    "    initNewGame(player)    \n",
    "    i = 0\n",
    "\n",
    "    while i<200000:\n",
    "\n",
    "        # .EBoard_getNextsActions(board, ris)\n",
    "        actStrE = getValidMoves(player)\n",
    "\n",
    "        num_actions = len(actStrE)\n",
    "        m = random.randint(1, num_actions)\n",
    "        if num_actions<=1:\n",
    "            print(i)\n",
    "            break\n",
    "        playMove(actStrE[m-1])\n",
    "        \n",
    "        totMov += 1\n",
    "        \n",
    "        i += 1\n",
    "\n",
    "    \n",
    "t_end = time.time()\n",
    "print(\"Tempo totale mossa\", (t_end - t_start) /totMov, \"s\")\n",
    "print(totMov)\n"
   ]
  },
  {
   "cell_type": "code",
   "execution_count": 16,
   "id": "17bd1333-018f-4cf6-9492-b4bd8c1f8f1b",
   "metadata": {},
   "outputs": [
    {
     "data": {
      "text/plain": [
       "0"
      ]
     },
     "execution_count": 16,
     "metadata": {},
     "output_type": "execute_result"
    }
   ],
   "source": [
    "(9227321486950268931>>56)&31\n"
   ]
  },
  {
   "cell_type": "code",
   "execution_count": null,
   "id": "c4fd9668-66e3-45a1-97c3-046087807494",
   "metadata": {},
   "outputs": [],
   "source": []
  }
 ],
 "metadata": {
  "kernelspec": {
   "display_name": "Python 3 (ipykernel)",
   "language": "python",
   "name": "python3"
  },
  "language_info": {
   "codemirror_mode": {
    "name": "ipython",
    "version": 3
   },
   "file_extension": ".py",
   "mimetype": "text/x-python",
   "name": "python",
   "nbconvert_exporter": "python",
   "pygments_lexer": "ipython3",
   "version": "3.10.9"
  },
  "vscode": {
   "interpreter": {
    "hash": "e7370f93d1d0cde622a1f8e1c04877d8463912d04d973331ad4851f04de6915a"
   }
  }
 },
 "nbformat": 4,
 "nbformat_minor": 5
}
