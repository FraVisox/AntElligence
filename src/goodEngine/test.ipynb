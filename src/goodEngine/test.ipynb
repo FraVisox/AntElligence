{
 "cells": [
  {
   "cell_type": "code",
   "execution_count": 1,
   "id": "146bddc4-60fb-44c3-872c-ba6b2af0d63a",
   "metadata": {},
   "outputs": [],
   "source": [
    "from subprocess import Popen, PIPE\n",
    "file_exe=\"../../../Mzinga.LinuxX64/MzingaEngine\"\n",
    "player = Popen(file_exe, stdin=PIPE, stdout=PIPE, stderr=PIPE, encoding=\"UTF8\", bufsize=1)\n",
    "\n",
    "player.stdout.readline()\n",
    "player.stdout.readline()\n",
    "player.stdout.readline()\n",
    "from game_rule import DLLGameRule \n",
    "GR=DLLGameRule()\n",
    "import time\n",
    "import random\n",
    "import ctypes\n",
    "import math\n",
    "import time\n",
    "\n"
   ]
  },
  {
   "cell_type": "code",
   "execution_count": 2,
   "id": "084304bc-dbc0-4f51-974f-3d0c9cc13a49",
   "metadata": {},
   "outputs": [],
   "source": [
    "\n",
    "interactionProgram=\"\"\n",
    "def initNewGame(player,gamemode=0):\n",
    "    global interactionProgram\n",
    "    interactionProgram=\"\"\n",
    "    match gamemode:\n",
    "        case 0:\n",
    "            b=\"Base\"\n",
    "        case 1:\n",
    "            b=\"Base+M\"\n",
    "        case 2:\n",
    "            b=\"Base+L\"\n",
    "        case 3:\n",
    "            b=\"Base+P\"\n",
    "        case 4:\n",
    "            b=\"Base+ML\"\n",
    "        case 5:\n",
    "            b=\"Base+MP\"\n",
    "        case 6:\n",
    "            b=\"Base+LP\"\n",
    "        case 7:\n",
    "            b=\"Base+MLP\"\n",
    "            \n",
    "        \n",
    "    player.stdin.write(\"newgame \"+b+\"\\n\")\n",
    "    s=\"newgame \"+b+\"\\n\"\n",
    "    #interactionProgram+=s\n",
    "    s=player.stdout.readline()\n",
    "    #interactionProgram+=\" < \"+s+\"\\n\"\n",
    "    s=player.stdout.readline()\n",
    "    #interactionProgram+=\" < \"+s+\"\\n\"\n",
    "    \n",
    "def getValidMoves(player):\n",
    "    global interactionProgram\n",
    "    player.stdin.write(\"validmoves\\n\")\n",
    "    #interactionProgram+=\" > validmoves\\n\"\n",
    "    read=player.stdout.readline()\n",
    "    s=read[:-1].split(\";\")  \n",
    "    #interactionProgram+=\" < \"+read+\"\\n\"\n",
    "    s=player.stdout.readline()\n",
    "    #interactionProgram+=\" < \"+s+\"\\n\"\n",
    "    return s\n",
    "\n",
    "def playMove(p):\n",
    "    global interactionProgram\n",
    "    global risAct\n",
    "    player.stdin.write(\"play \"+p+\"\\n\")\n",
    "    #interactionProgram+=\" > play \"+p+\"\\n\"\n",
    "    risAct=player.stdout.readline()\n",
    "    #interactionProgram+=\" < \"+risAct\n",
    "    checkOk=player.stdout.readline()\n",
    "    #interactionProgram+=\" < \"+checkOk\n",
    "    if checkOk==\"ok\\n\":\n",
    "        return 0\n",
    "    return checkOk\n",
    "def playBoth(p,state,act):\n",
    "    playMove(act)\n",
    "    GR.next_state(state,GR.stringToAction(state,act))\n",
    "    \n",
    "    "
   ]
  },
  {
   "cell_type": "code",
   "execution_count": 3,
   "id": "7a296861-9676-47dd-8257-a63a4b9dff9c",
   "metadata": {},
   "outputs": [
    {
     "name": "stdout",
     "output_type": "stream",
     "text": [
      "GT:1\n"
     ]
    }
   ],
   "source": [
    "initNewGame(player,1)\n",
    "state = GR.init_state(1)\n",
    "\n",
    "#GR.next_state(state,9)\n",
    "\n",
    "#[GR.boardToCVect_low(state)[i] for i in range(284)]\n"
   ]
  },
  {
   "cell_type": "code",
   "execution_count": 8,
   "id": "8d8c6af6-a29e-4158-b488-c84eecc326fe",
   "metadata": {},
   "outputs": [
    {
     "name": "stdout",
     "output_type": "stream",
     "text": [
      "GT:7\n",
      "totMoves: 110\n",
      "Q: 0\n",
      "GT:7\n",
      "totMoves: 386\n",
      "Q: 1\n",
      "GT:7\n",
      "totMoves: 2381\n",
      "Q: 2\n",
      "GT:7\n",
      "totMoves: 147\n",
      "Q: 3\n",
      "GT:7\n",
      "totMoves: 72\n",
      "Q: 4\n",
      "GT:7\n",
      "totMoves: 184\n",
      "Q: 5\n",
      "GT:7\n",
      "totMoves: 1866\n",
      "Q: 6\n",
      "GT:7\n",
      "Q: 7\n",
      "GT:7\n",
      "totMoves: 72\n",
      "Q: 8\n",
      "GT:7\n",
      "Q: 9\n"
     ]
    }
   ],
   "source": [
    "evN=0\n",
    "v1=[]\n",
    "v2=[]\n",
    "v2r=[]\n",
    "moves=\"\";\n",
    "allVe=[]\n",
    "\n",
    "mode2=True;\n",
    "def test():\n",
    "    global v1\n",
    "    global mode2\n",
    "    global v2\n",
    "    global v2r\n",
    "    global allVe\n",
    "    global geConf\n",
    "    state = None\n",
    "    for Q in range(10):\n",
    "        actStrTE=[]\n",
    "        actStrC=[]\n",
    "        actStrE=[]\n",
    "        actNumE=[]\n",
    "        \n",
    "        actNumC=[]\n",
    "        geConf=\"\"\n",
    "        state = GR.init_state(7)\n",
    "        initNewGame(player,7)\n",
    "\n",
    "        iM = 0\n",
    "        totMov = 0\n",
    "        while iM <8000:\n",
    "            global evN\n",
    "\n",
    "            actTMPC = GR.getActions(state)\n",
    "            actNumC=[actTMPC[i] for i in range(1,actTMPC[0]+1)]\n",
    "            actStrC=[GR.actionToString(x,state) for x in actNumC]\n",
    "            actNumC.sort()\n",
    "            actStrC.sort()\n",
    "            \n",
    "            if not mode2:\n",
    "                actStrTE = getValidMoves(player)\n",
    "                actNumE=[GR.stringToAction(state,mov) for mov in actStrTE]\n",
    "                \n",
    "                actStrE=[GR.actionToString(x,state) for x in actNumE]\n",
    "                actNumE.sort()\n",
    "                actStrE.sort()\n",
    "                \n",
    "            \n",
    "            lE=len(actNumE)\n",
    "            lC=len(actNumC)\n",
    "            if lE!=lC and not mode2:\n",
    "                print(\"ERROR: Different lenght\")\n",
    "                v1=[GR.actionToString(x,state) for x in actNumE]\n",
    "                v2=[GR.actionToString(x,state) for x in actNumC]\n",
    "                v2r=actNumC\n",
    "                allVe=(actStrTE,actTMPC,actNumE,actNumC,actStrE,actStrC)\n",
    "                print(geConf)\n",
    "                return\n",
    "            else:\n",
    "                for i in range(lE):\n",
    "                    if(actStrC[i]!=actStrE[i]) and not mode2:\n",
    "                        print(\"ERROR : not same actions\")\n",
    "                        v1=[GR.actionToString(x,state) for x in actNumE]\n",
    "                        v2=[GR.actionToString(x,state) for x in actNumC]\n",
    "                        allVe=(actTMPC,actStrTE,actNumE,actNumC,actStrE,actStrC)\n",
    "                        v2r=actNumC\n",
    "                        print(geConf)\n",
    "                        return\n",
    "            # scelta casuale per il secondo giocatore\n",
    "            \n",
    "            m = random.randint(1, lC)\n",
    "            geConf+=(f\"{iM+1}. {actStrC[m-1]}\\n\")\n",
    "            \n",
    "            #play move\n",
    "            act=actStrC[m-1]\n",
    "            ris=playMove(act)\n",
    "            if(ris!=0):\n",
    "                print(\"ERROR : not same actions, message status:_\",ris,\"_\", len(ris))\n",
    "                v1=[GR.actionToString(x,state) for x in actNumE]\n",
    "                v2=[GR.actionToString(x,state) for x in actNumC]\n",
    "                allVe=(actTMPC,actStrTE,actNumE,actNumC,actStrE,actStrC)\n",
    "                v2r=actNumC\n",
    "                print(geConf)\n",
    "                return\n",
    "            GR.next_state(state,GR.stringToAction(state,act))\n",
    "        \n",
    "            #GR.next_state(state,GR.stringToAction(state,actStrC[m-1]))\n",
    "    \n",
    "            totMov += 1\n",
    "            iM += 1\n",
    "            \n",
    "            status = GR.checkStatus(state)\n",
    "            if status != 1:\n",
    "                print(\"totMoves:\", iM)\n",
    "                iM=100000\n",
    "                break\n",
    "        print(\"Q:\",Q)\n",
    "        GR.delBoard(state)\n",
    "test()"
   ]
  },
  {
   "cell_type": "code",
   "execution_count": 7,
   "id": "d5fc6592-3af7-4ea8-a6b3-89c7c1369b24",
   "metadata": {},
   "outputs": [
    {
     "data": {
      "text/plain": [
       "(0, 0)"
      ]
     },
     "execution_count": 7,
     "metadata": {},
     "output_type": "execute_result"
    }
   ],
   "source": [
    "l1=len(v1)\n",
    "l2=len(v2)\n",
    "l1,l2\n"
   ]
  },
  {
   "cell_type": "code",
   "execution_count": 10,
   "id": "13274a07-1b04-43e4-b5b1-3218bbf295b8",
   "metadata": {},
   "outputs": [],
   "source": [
    "GR.getMask_low=GR.dll._Z7getMaskP6EBoard\n",
    "GR.getMask_low.argtypes = [ctypes.c_void_p]\n",
    "GR.getMask_low.restype = ctypes.POINTER(ctypes.c_int8)"
   ]
  },
  {
   "cell_type": "code",
   "execution_count": 11,
   "id": "a97975fe-7790-438c-ad66-f2d1565bb9fe",
   "metadata": {},
   "outputs": [
    {
     "data": {
      "text/plain": [
       "33263120"
      ]
     },
     "execution_count": 11,
     "metadata": {},
     "output_type": "execute_result"
    }
   ],
   "source": [
    "state"
   ]
  },
  {
   "cell_type": "code",
   "execution_count": 17,
   "id": "2590e91f-19df-49eb-b8f3-f8e5e8103b1c",
   "metadata": {},
   "outputs": [],
   "source": [
    "ptr = GR.getMask_low(state)"
   ]
  },
  {
   "cell_type": "code",
   "execution_count": 18,
   "id": "79b0a56a-6ef2-49a2-b8c7-0c551cdd7ee4",
   "metadata": {},
   "outputs": [],
   "source": [
    "import numpy as np"
   ]
  },
  {
   "cell_type": "code",
   "execution_count": 37,
   "id": "16e2573c-d66b-416c-939e-f93db7ba39d6",
   "metadata": {},
   "outputs": [],
   "source": [
    "arr = np.ctypeslib.as_array(ptr, shape=(1575,))"
   ]
  },
  {
   "cell_type": "code",
   "execution_count": 38,
   "id": "d6b0a27d-0bfc-4cc7-88b5-8d7fd547b20c",
   "metadata": {},
   "outputs": [],
   "source": [
    "v1.sort()\n",
    "v2.sort()"
   ]
  },
  {
   "cell_type": "code",
   "execution_count": 39,
   "id": "cb0f17bf-01da-40f2-8b49-2c82df997df8",
   "metadata": {},
   "outputs": [],
   "source": [
    "for i in range(max(l1,l2)):\n",
    "    if((v1[i] if i<l1 else \"       \")!=(v2[i] if i<l2 else 0)):\n",
    "        print(v1[i] if i<l1 else \"       \",\"\\t\",v2[i] if i<l2 else 0)"
   ]
  },
  {
   "cell_type": "code",
   "execution_count": 40,
   "id": "ca6fa4d8-25b9-4b7c-ae13-c4480afde4a1",
   "metadata": {},
   "outputs": [],
   "source": [
    "ris=arr.copy().astype(bool)\n"
   ]
  },
  {
   "cell_type": "code",
   "execution_count": 46,
   "id": "5a9ac48e-9fad-461a-806a-ee6b9c709474",
   "metadata": {},
   "outputs": [
    {
     "data": {
      "text/plain": [
       "5"
      ]
     },
     "execution_count": 46,
     "metadata": {},
     "output_type": "execute_result"
    }
   ],
   "source": [
    "sum(1 if ris[i]==True else 0 for i in range(1575))\n"
   ]
  },
  {
   "cell_type": "code",
   "execution_count": 47,
   "id": "3a65e17b-0f0d-4ada-b3c0-7a046ce5f767",
   "metadata": {},
   "outputs": [],
   "source": [
    "ra=GR.getActions(state)"
   ]
  },
  {
   "cell_type": "code",
   "execution_count": 48,
   "id": "62d1f24a-1328-42c4-a58c-b23e5099352e",
   "metadata": {},
   "outputs": [
    {
     "data": {
      "text/plain": [
       "5"
      ]
     },
     "execution_count": 48,
     "metadata": {},
     "output_type": "execute_result"
    }
   ],
   "source": [
    "ra[0]"
   ]
  },
  {
   "cell_type": "code",
   "execution_count": null,
   "id": "be1f25e4-8a3d-476d-93fd-0e4641ca10ce",
   "metadata": {},
   "outputs": [],
   "source": [
    "totMov = 0\n",
    "t_start = time.time()\n",
    "\n",
    "for rt in range(5):\n",
    "    initNewGame(player)    \n",
    "    i = 0\n",
    "\n",
    "    while i<200000:\n",
    "\n",
    "        # .EBoard_getNextsActions(board, ris)\n",
    "        actStrE = getValidMoves(player)\n",
    "\n",
    "        num_actions = len(actStrE)\n",
    "        m = random.randint(1, num_actions)\n",
    "        if num_actions<=1:\n",
    "            print(i)\n",
    "            break\n",
    "        playMove(actStrE[m-1])\n",
    "        \n",
    "        totMov += 1\n",
    "        \n",
    "        i += 1\n",
    "\n",
    "    \n",
    "t_end = time.time()\n",
    "print(\"Tempo totale mossa\", (t_end - t_start) /totMov, \"s\")\n",
    "print(totMov)\n"
   ]
  },
  {
   "cell_type": "code",
   "execution_count": null,
   "id": "17bd1333-018f-4cf6-9492-b4bd8c1f8f1b",
   "metadata": {},
   "outputs": [],
   "source": [
    "(9227321486950268931>>56)&31\n"
   ]
  },
  {
   "cell_type": "code",
   "execution_count": null,
   "id": "c4fd9668-66e3-45a1-97c3-046087807494",
   "metadata": {},
   "outputs": [],
   "source": [
    "import numpy as np"
   ]
  },
  {
   "cell_type": "code",
   "execution_count": null,
   "id": "bd89182f-2727-43bf-bfc4-af48328d36d0",
   "metadata": {},
   "outputs": [],
   "source": []
  },
  {
   "cell_type": "code",
   "execution_count": null,
   "id": "fbda439f-5d1a-4c0b-bc9d-2f1c2b4430fc",
   "metadata": {},
   "outputs": [],
   "source": [
    "a=np.unpackbits(np.ctypeslib.asarray("
   ]
  },
  {
   "cell_type": "code",
   "execution_count": null,
   "id": "e3666f69-6432-40cb-9498-ec241b4e7ae1",
   "metadata": {},
   "outputs": [],
   "source": [
    "state = GR.init_state(1)\n",
    "\n",
    "GR.getActions(state)\n"
   ]
  },
  {
   "cell_type": "code",
   "execution_count": null,
   "id": "bd6881e5-652d-477f-b036-c682f64d7176",
   "metadata": {},
   "outputs": [],
   "source": [
    "GM=GR.dll._Z7getMaskP6EBoard\n",
    "GM.argtypes = [ctypes.c_void_p]\n",
    "GM.restype=np.ctypeslib.ctypes.pointer(np.ctypeslib.ctypes.c_uint8)\n",
    "#ctypes.POINTER(ctypes.c_uint8)"
   ]
  },
  {
   "cell_type": "code",
   "execution_count": null,
   "id": "11e224e0-31cb-40b6-8a43-0648762e8794",
   "metadata": {},
   "outputs": [],
   "source": [
    "ris1=GM(state)"
   ]
  },
  {
   "cell_type": "code",
   "execution_count": null,
   "id": "98d4a57c-5e66-4ca7-93a2-a3b1b3ab76c5",
   "metadata": {},
   "outputs": [],
   "source": [
    "ris1\n"
   ]
  },
  {
   "cell_type": "code",
   "execution_count": null,
   "id": "fd4b1687-3d08-432f-b90c-9ac8d5b67f9c",
   "metadata": {},
   "outputs": [],
   "source": []
  },
  {
   "cell_type": "code",
   "execution_count": null,
   "id": "5e52579a-5444-4db0-a858-e8fa9847aedd",
   "metadata": {},
   "outputs": [],
   "source": [
    "s=0\n",
    "for i in range(1575):\n",
    "    s+=ris1[i]\n",
    "print(s)"
   ]
  },
  {
   "cell_type": "code",
   "execution_count": null,
   "id": "de1c57b9-7e32-49b2-8e61-f226c6bffc08",
   "metadata": {},
   "outputs": [],
   "source": [
    "np.ctypeslib.as_array(ris1,np.zeros(1575))"
   ]
  },
  {
   "cell_type": "code",
   "execution_count": null,
   "id": "29b526bc-a23f-442c-85a1-fee1249cbdfb",
   "metadata": {},
   "outputs": [],
   "source": [
    "ris1"
   ]
  },
  {
   "cell_type": "code",
   "execution_count": null,
   "id": "5c2951af-ef0d-4046-803d-6e4e52dba61f",
   "metadata": {},
   "outputs": [],
   "source": [
    "z=np.zeros(30)"
   ]
  },
  {
   "cell_type": "code",
   "execution_count": null,
   "id": "29a613b6-8626-4f67-bf0f-2db6f0c03ea0",
   "metadata": {},
   "outputs": [],
   "source": [
    "z.ctypes"
   ]
  },
  {
   "cell_type": "code",
   "execution_count": null,
   "id": "aff23c2c-904a-4dbe-904c-2f53670a74e4",
   "metadata": {},
   "outputs": [],
   "source": []
  },
  {
   "cell_type": "code",
   "execution_count": null,
   "id": "9bfee3aa-73ce-4ad6-9d42-fbbed99c1fd9",
   "metadata": {},
   "outputs": [],
   "source": []
  }
 ],
 "metadata": {
  "kernelspec": {
   "display_name": "Python 3 (ipykernel)",
   "language": "python",
   "name": "python3"
  },
  "language_info": {
   "codemirror_mode": {
    "name": "ipython",
    "version": 3
   },
   "file_extension": ".py",
   "mimetype": "text/x-python",
   "name": "python",
   "nbconvert_exporter": "python",
   "pygments_lexer": "ipython3",
   "version": "3.10.9"
  },
  "vscode": {
   "interpreter": {
    "hash": "e7370f93d1d0cde622a1f8e1c04877d8463912d04d973331ad4851f04de6915a"
   }
  }
 },
 "nbformat": 4,
 "nbformat_minor": 5
}
