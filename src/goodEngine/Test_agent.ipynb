{
 "cells": [
  {
   "cell_type": "code",
   "execution_count": 1,
   "id": "92548c54-9d15-454a-9994-c339195bcde7",
   "metadata": {},
   "outputs": [],
   "source": [
    "from randomAgent import RandomAgentCPP \n",
    "from minimaxAgent import MinimaxAgentCPP \n",
    "import Agent\n",
    "import random\n",
    "from game_rule import DLLGameRule \n",
    "GR=DLLGameRule()\n",
    "        \n"
   ]
  },
  {
   "cell_type": "code",
   "execution_count": 14,
   "id": "7986b010-5616-40f5-936e-620f4053abaa",
   "metadata": {},
   "outputs": [],
   "source": [
    "def competition(agent1,agent2,roundNumber):\n",
    "    win={agent1.name:0,agent2.name:0}\n",
    "    for R in range(roundNumber):\n",
    "        numR=random.randint(0,1);\n",
    "        agent1.reset()\n",
    "        agent2.reset()\n",
    "        if numR==0:\n",
    "            agents=[agent1,agent2]\n",
    "        else:\n",
    "            agents=[agent2,agent1]\n",
    "        \n",
    "        state=GR.init_state()\n",
    "        agent1.reset()\n",
    "        agent2.reset()\n",
    "        t=0\n",
    "        while True:\n",
    "            t+=1\n",
    "\n",
    "            M=agents[t%2].bestmove()\n",
    "            agents[0].playmove(M)\n",
    "            agents[1].playmove(M)\n",
    "            GR.next_state(state,GR.stringToAction(state,M))\n",
    "            print(M)\n",
    "            if(GR.checkStatus(state)!=1):\n",
    "                win[agents[(t%2)].name]+=1\n",
    "                break\n",
    "            print(\"Eval:\",agents[1-numR].numEval)\n",
    "        print(win)\n",
    "        GR.delBoard(state)\n",
    "    "
   ]
  },
  {
   "cell_type": "code",
   "execution_count": 15,
   "id": "10172ada-f9a1-43ab-9f90-713797794b28",
   "metadata": {},
   "outputs": [],
   "source": [
    "aR=RandomAgentCPP()\n",
    "aS=MinimaxAgentCPP(depth=5)\n",
    "\n",
    "\n"
   ]
  },
  {
   "cell_type": "code",
   "execution_count": 16,
   "id": "7aed21be-a3e8-4255-ab3a-347f0787b638",
   "metadata": {},
   "outputs": [
    {
     "name": "stdout",
     "output_type": "stream",
     "text": [
      "wB1\n",
      "Eval: 0\n",
      "bS1 wB1-\n",
      "Eval: 24820\n",
      "wB2 /wB1\n",
      "Eval: 24820\n",
      "bQ bS1-\n",
      "Eval: 9853\n",
      "wQ wB2\\\n",
      "Eval: 9853\n",
      "bS2 /bQ\n",
      "Eval: 110842\n",
      "wG1 /wQ\n",
      "Eval: 110842\n",
      "bB1 bQ-\n",
      "Eval: 47002\n",
      "wS1 \\wB1\n",
      "Eval: 47002\n",
      "bB2 /bB1\n",
      "Eval: 150513\n",
      "wS2 -wS1\n",
      "Eval: 150513\n",
      "bG1 bS1/\n",
      "Eval: 93788\n",
      "wA1 \\wS2\n",
      "Eval: 93788\n",
      "bG2 bG1-\n",
      "{'RANDOM': 0, 'MINIMAX': 1}\n",
      "wA1\n",
      "Eval: 592119\n",
      "bS1 wA1-\n",
      "Eval: 24835\n",
      "wB1 /wA1\n",
      "Eval: 24835\n",
      "bQ bS1-\n",
      "Eval: 10881\n",
      "wQ \\wB1\n",
      "Eval: 10881\n",
      "bS2 bQ-\n",
      "Eval: 44036\n",
      "wS1 wQ/\n",
      "Eval: 44036\n",
      "bB1 /bQ\n",
      "Eval: 73567\n",
      "wA2 wS1/\n",
      "Eval: 73567\n",
      "bB2 /bS2\n",
      "Eval: 211335\n",
      "wB1 wA1\n",
      "Eval: 211335\n"
     ]
    },
    {
     "ename": "KeyboardInterrupt",
     "evalue": "",
     "output_type": "error",
     "traceback": [
      "\u001b[0;31m---------------------------------------------------------------------------\u001b[0m",
      "\u001b[0;31mKeyboardInterrupt\u001b[0m                         Traceback (most recent call last)",
      "Cell \u001b[0;32mIn[16], line 1\u001b[0m\n\u001b[0;32m----> 1\u001b[0m \u001b[43mcompetition\u001b[49m\u001b[43m(\u001b[49m\u001b[43maR\u001b[49m\u001b[43m,\u001b[49m\u001b[43maS\u001b[49m\u001b[43m,\u001b[49m\u001b[38;5;241;43m100\u001b[39;49m\u001b[43m)\u001b[49m\n",
      "Cell \u001b[0;32mIn[14], line 19\u001b[0m, in \u001b[0;36mcompetition\u001b[0;34m(agent1, agent2, roundNumber)\u001b[0m\n\u001b[1;32m     16\u001b[0m \u001b[38;5;28;01mwhile\u001b[39;00m \u001b[38;5;28;01mTrue\u001b[39;00m:\n\u001b[1;32m     17\u001b[0m     t\u001b[38;5;241m+\u001b[39m\u001b[38;5;241m=\u001b[39m\u001b[38;5;241m1\u001b[39m\n\u001b[0;32m---> 19\u001b[0m     M\u001b[38;5;241m=\u001b[39m\u001b[43magents\u001b[49m\u001b[43m[\u001b[49m\u001b[43mt\u001b[49m\u001b[38;5;241;43m%\u001b[39;49m\u001b[38;5;241;43m2\u001b[39;49m\u001b[43m]\u001b[49m\u001b[38;5;241;43m.\u001b[39;49m\u001b[43mbestmove\u001b[49m\u001b[43m(\u001b[49m\u001b[43m)\u001b[49m\n\u001b[1;32m     20\u001b[0m     agents[\u001b[38;5;241m0\u001b[39m]\u001b[38;5;241m.\u001b[39mplaymove(M)\n\u001b[1;32m     21\u001b[0m     agents[\u001b[38;5;241m1\u001b[39m]\u001b[38;5;241m.\u001b[39mplaymove(M)\n",
      "File \u001b[0;32m~/Desktop/Elicsir/AntElligence/src/goodEngine/minimaxAgent.py:22\u001b[0m, in \u001b[0;36mMinimaxAgentCPP.bestmove\u001b[0;34m(self)\u001b[0m\n\u001b[1;32m     21\u001b[0m \u001b[38;5;28;01mdef\u001b[39;00m \u001b[38;5;21mbestmove\u001b[39m(\u001b[38;5;28mself\u001b[39m):\n\u001b[0;32m---> 22\u001b[0m     act\u001b[38;5;241m=\u001b[39m\u001b[38;5;28;43mself\u001b[39;49m\u001b[38;5;241;43m.\u001b[39;49m\u001b[43mbestaction\u001b[49m\u001b[43m(\u001b[49m\u001b[43m)\u001b[49m\n\u001b[1;32m     23\u001b[0m     \u001b[38;5;28;01mreturn\u001b[39;00m GR\u001b[38;5;241m.\u001b[39mactionToString(act)\n",
      "File \u001b[0;32m~/Desktop/Elicsir/AntElligence/src/goodEngine/minimaxAgent.py:34\u001b[0m, in \u001b[0;36mMinimaxAgentCPP.bestaction\u001b[0;34m(self)\u001b[0m\n\u001b[1;32m     32\u001b[0m \u001b[38;5;28;01mdef\u001b[39;00m \u001b[38;5;21mbestaction\u001b[39m(\u001b[38;5;28mself\u001b[39m):\n\u001b[1;32m     33\u001b[0m     \u001b[38;5;28mself\u001b[39m\u001b[38;5;241m.\u001b[39mnumEval\u001b[38;5;241m=\u001b[39m\u001b[38;5;241m0\u001b[39m\n\u001b[0;32m---> 34\u001b[0m     _, best_action\u001b[38;5;241m=\u001b[39m \u001b[38;5;28;43mself\u001b[39;49m\u001b[38;5;241;43m.\u001b[39;49m\u001b[43mminimax\u001b[49m\u001b[43m(\u001b[49m\u001b[38;5;28;43mself\u001b[39;49m\u001b[38;5;241;43m.\u001b[39;49m\u001b[43mstate\u001b[49m\u001b[43m,\u001b[49m\u001b[38;5;28;43mself\u001b[39;49m\u001b[38;5;241;43m.\u001b[39;49m\u001b[43mdepth\u001b[49m\u001b[43m,\u001b[49m\u001b[38;5;28;43;01mTrue\u001b[39;49;00m\u001b[43m,\u001b[49m\u001b[38;5;28;43mself\u001b[39;49m\u001b[38;5;241;43m.\u001b[39;49m\u001b[43mw\u001b[49m\u001b[43m,\u001b[49m\u001b[43mcurrentTurn\u001b[49m\u001b[38;5;241;43m=\u001b[39;49m\u001b[38;5;28;43mself\u001b[39;49m\u001b[38;5;241;43m.\u001b[39;49m\u001b[43mcurrentTurn\u001b[49m\u001b[43m)\u001b[49m\n\u001b[1;32m     35\u001b[0m     \u001b[38;5;28;01mreturn\u001b[39;00m best_action\n",
      "File \u001b[0;32m~/Desktop/Elicsir/AntElligence/src/goodEngine/minimaxAgent.py:70\u001b[0m, in \u001b[0;36mMinimaxAgentCPP.minimax\u001b[0;34m(self, state, depth, maximizing_player, w, alpha, beta, currentTurn)\u001b[0m\n\u001b[1;32m     68\u001b[0m child \u001b[38;5;241m=\u001b[39m GR\u001b[38;5;241m.\u001b[39mcopyBoard(state)\n\u001b[1;32m     69\u001b[0m GR\u001b[38;5;241m.\u001b[39mnext_state(child, action)\n\u001b[0;32m---> 70\u001b[0m evalV, _ \u001b[38;5;241m=\u001b[39m \u001b[38;5;28;43mself\u001b[39;49m\u001b[38;5;241;43m.\u001b[39;49m\u001b[43mminimax\u001b[49m\u001b[43m(\u001b[49m\u001b[43mchild\u001b[49m\u001b[43m,\u001b[49m\u001b[43m \u001b[49m\u001b[43mdepth\u001b[49m\u001b[38;5;241;43m-\u001b[39;49m\u001b[38;5;241;43m1\u001b[39;49m\u001b[43m,\u001b[49m\u001b[43m \u001b[49m\u001b[38;5;28;43;01mFalse\u001b[39;49;00m\u001b[43m,\u001b[49m\u001b[43m \u001b[49m\u001b[43mw\u001b[49m\u001b[43m,\u001b[49m\u001b[43m \u001b[49m\u001b[43malpha\u001b[49m\u001b[43m,\u001b[49m\u001b[43m \u001b[49m\u001b[43mbeta\u001b[49m\u001b[43m,\u001b[49m\u001b[43mcurrentTurn\u001b[49m\u001b[38;5;241;43m=\u001b[39;49m\u001b[43mcurrentTurn\u001b[49m\u001b[38;5;241;43m+\u001b[39;49m\u001b[38;5;241;43m1\u001b[39;49m\u001b[43m)\u001b[49m\n\u001b[1;32m     71\u001b[0m GR\u001b[38;5;241m.\u001b[39mdelBoard(child)\n\u001b[1;32m     73\u001b[0m \u001b[38;5;28;01mif\u001b[39;00m evalV \u001b[38;5;241m>\u001b[39m max_eval:\n",
      "File \u001b[0;32m~/Desktop/Elicsir/AntElligence/src/goodEngine/minimaxAgent.py:88\u001b[0m, in \u001b[0;36mMinimaxAgentCPP.minimax\u001b[0;34m(self, state, depth, maximizing_player, w, alpha, beta, currentTurn)\u001b[0m\n\u001b[1;32m     86\u001b[0m child \u001b[38;5;241m=\u001b[39mGR\u001b[38;5;241m.\u001b[39mcopyBoard(state)\n\u001b[1;32m     87\u001b[0m GR\u001b[38;5;241m.\u001b[39mnext_state(child, action)\n\u001b[0;32m---> 88\u001b[0m evalV, _ \u001b[38;5;241m=\u001b[39m \u001b[38;5;28;43mself\u001b[39;49m\u001b[38;5;241;43m.\u001b[39;49m\u001b[43mminimax\u001b[49m\u001b[43m(\u001b[49m\u001b[43mchild\u001b[49m\u001b[43m,\u001b[49m\u001b[43m \u001b[49m\u001b[43mdepth\u001b[49m\u001b[38;5;241;43m-\u001b[39;49m\u001b[38;5;241;43m1\u001b[39;49m\u001b[43m,\u001b[49m\u001b[43m \u001b[49m\u001b[38;5;28;43;01mTrue\u001b[39;49;00m\u001b[43m,\u001b[49m\u001b[43m \u001b[49m\u001b[43mw\u001b[49m\u001b[43m,\u001b[49m\u001b[43m \u001b[49m\u001b[43malpha\u001b[49m\u001b[43m,\u001b[49m\u001b[43m \u001b[49m\u001b[43mbeta\u001b[49m\u001b[43m,\u001b[49m\u001b[43mcurrentTurn\u001b[49m\u001b[38;5;241;43m=\u001b[39;49m\u001b[43mcurrentTurn\u001b[49m\u001b[38;5;241;43m+\u001b[39;49m\u001b[38;5;241;43m1\u001b[39;49m\u001b[43m)\u001b[49m\n\u001b[1;32m     89\u001b[0m GR\u001b[38;5;241m.\u001b[39mdelBoard(child)\n\u001b[1;32m     91\u001b[0m \u001b[38;5;28;01mif\u001b[39;00m evalV \u001b[38;5;241m<\u001b[39m min_eval:\n",
      "File \u001b[0;32m~/Desktop/Elicsir/AntElligence/src/goodEngine/minimaxAgent.py:70\u001b[0m, in \u001b[0;36mMinimaxAgentCPP.minimax\u001b[0;34m(self, state, depth, maximizing_player, w, alpha, beta, currentTurn)\u001b[0m\n\u001b[1;32m     68\u001b[0m child \u001b[38;5;241m=\u001b[39m GR\u001b[38;5;241m.\u001b[39mcopyBoard(state)\n\u001b[1;32m     69\u001b[0m GR\u001b[38;5;241m.\u001b[39mnext_state(child, action)\n\u001b[0;32m---> 70\u001b[0m evalV, _ \u001b[38;5;241m=\u001b[39m \u001b[38;5;28;43mself\u001b[39;49m\u001b[38;5;241;43m.\u001b[39;49m\u001b[43mminimax\u001b[49m\u001b[43m(\u001b[49m\u001b[43mchild\u001b[49m\u001b[43m,\u001b[49m\u001b[43m \u001b[49m\u001b[43mdepth\u001b[49m\u001b[38;5;241;43m-\u001b[39;49m\u001b[38;5;241;43m1\u001b[39;49m\u001b[43m,\u001b[49m\u001b[43m \u001b[49m\u001b[38;5;28;43;01mFalse\u001b[39;49;00m\u001b[43m,\u001b[49m\u001b[43m \u001b[49m\u001b[43mw\u001b[49m\u001b[43m,\u001b[49m\u001b[43m \u001b[49m\u001b[43malpha\u001b[49m\u001b[43m,\u001b[49m\u001b[43m \u001b[49m\u001b[43mbeta\u001b[49m\u001b[43m,\u001b[49m\u001b[43mcurrentTurn\u001b[49m\u001b[38;5;241;43m=\u001b[39;49m\u001b[43mcurrentTurn\u001b[49m\u001b[38;5;241;43m+\u001b[39;49m\u001b[38;5;241;43m1\u001b[39;49m\u001b[43m)\u001b[49m\n\u001b[1;32m     71\u001b[0m GR\u001b[38;5;241m.\u001b[39mdelBoard(child)\n\u001b[1;32m     73\u001b[0m \u001b[38;5;28;01mif\u001b[39;00m evalV \u001b[38;5;241m>\u001b[39m max_eval:\n",
      "File \u001b[0;32m~/Desktop/Elicsir/AntElligence/src/goodEngine/minimaxAgent.py:86\u001b[0m, in \u001b[0;36mMinimaxAgentCPP.minimax\u001b[0;34m(self, state, depth, maximizing_player, w, alpha, beta, currentTurn)\u001b[0m\n\u001b[1;32m     84\u001b[0m min_eval \u001b[38;5;241m=\u001b[39m \u001b[38;5;241m+\u001b[39m\u001b[38;5;241m1000\u001b[39m\n\u001b[1;32m     85\u001b[0m \u001b[38;5;28;01mfor\u001b[39;00m action \u001b[38;5;129;01min\u001b[39;00m localActions:\n\u001b[0;32m---> 86\u001b[0m     child \u001b[38;5;241m=\u001b[39m\u001b[43mGR\u001b[49m\u001b[38;5;241;43m.\u001b[39;49m\u001b[43mcopyBoard\u001b[49m\u001b[43m(\u001b[49m\u001b[43mstate\u001b[49m\u001b[43m)\u001b[49m\n\u001b[1;32m     87\u001b[0m     GR\u001b[38;5;241m.\u001b[39mnext_state(child, action)\n\u001b[1;32m     88\u001b[0m     evalV, _ \u001b[38;5;241m=\u001b[39m \u001b[38;5;28mself\u001b[39m\u001b[38;5;241m.\u001b[39mminimax(child, depth\u001b[38;5;241m-\u001b[39m\u001b[38;5;241m1\u001b[39m, \u001b[38;5;28;01mTrue\u001b[39;00m, w, alpha, beta,currentTurn\u001b[38;5;241m=\u001b[39mcurrentTurn\u001b[38;5;241m+\u001b[39m\u001b[38;5;241m1\u001b[39m)\n",
      "\u001b[0;31mKeyboardInterrupt\u001b[0m: "
     ]
    }
   ],
   "source": [
    "competition(aR,aS,100)"
   ]
  },
  {
   "cell_type": "code",
   "execution_count": null,
   "id": "e7bfd6c0-82b4-40a6-ac74-ead3ff724bd7",
   "metadata": {},
   "outputs": [],
   "source": []
  },
  {
   "cell_type": "code",
   "execution_count": null,
   "id": "95068a95-ed13-4a47-a610-27a2645c3e38",
   "metadata": {},
   "outputs": [],
   "source": []
  }
 ],
 "metadata": {
  "kernelspec": {
   "display_name": "Python 3 (ipykernel)",
   "language": "python",
   "name": "python3"
  },
  "language_info": {
   "codemirror_mode": {
    "name": "ipython",
    "version": 3
   },
   "file_extension": ".py",
   "mimetype": "text/x-python",
   "name": "python",
   "nbconvert_exporter": "python",
   "pygments_lexer": "ipython3",
   "version": "3.10.9"
  }
 },
 "nbformat": 4,
 "nbformat_minor": 5
}
