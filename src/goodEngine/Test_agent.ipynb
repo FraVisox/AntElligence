{
 "cells": [
  {
   "cell_type": "code",
   "execution_count": 1,
   "id": "92548c54-9d15-454a-9994-c339195bcde7",
   "metadata": {},
   "outputs": [],
   "source": [
    "from randomAgent import RandomAgentCPP \n",
    "from minimaxAgent import MinimaxAgentCPP \n",
    "import Agent\n",
    "import random\n",
    "from game_rule import DLLGameRule \n",
    "GR=DLLGameRule()\n",
    "        \n",
    "import ctypes"
   ]
  },
  {
   "cell_type": "code",
   "execution_count": 22,
   "id": "7986b010-5616-40f5-936e-620f4053abaa",
   "metadata": {},
   "outputs": [],
   "source": [
    "def competition(agent1,agent2,roundNumber):\n",
    "    win={agent1.name:0,agent2.name:0}\n",
    "    for R in range(roundNumber):\n",
    "        numR=random.randint(0,1);\n",
    "        agent1.reset()\n",
    "        agent2.reset()\n",
    "        if numR==0:\n",
    "            agents=[agent1,agent2]\n",
    "        else:\n",
    "            agents=[agent2,agent1]\n",
    "        \n",
    "        state=GR.init_state()\n",
    "        agent1.reset()\n",
    "        agent2.reset()\n",
    "        t=0\n",
    "        while True:\n",
    "            t+=1\n",
    "\n",
    "            M=agents[t%2].bestmove()\n",
    "            agents[0].playmove(M)\n",
    "            agents[1].playmove(M)\n",
    "            GR.next_state(state,GR.stringToAction(state,M))\n",
    "            #print(M)\n",
    "            if(GR.checkStatus(state)!=1):\n",
    "                win[agents[(t%2)].name]+=1\n",
    "                break\n",
    "            #print(\"Eval:\",agents[1-numR].numEval)\n",
    "        print(win)\n",
    "        GR.delBoard(state)\n",
    "    "
   ]
  },
  {
   "cell_type": "code",
   "execution_count": 31,
   "id": "10172ada-f9a1-43ab-9f90-713797794b28",
   "metadata": {},
   "outputs": [],
   "source": [
    "aR=MinimaxAgentCPP(depth=1,weight=[0,0,0,1,-25,30])\n",
    "aS=RandomAgentCPP()\n",
    "#pressureOnOpponentQueen\n",
    "#pressureOnOwnQueen\n",
    "#movableSelf\n",
    "#movableOpp\n",
    "#nearMyQueen\n",
    "#nearOpposite\n",
    "\n"
   ]
  },
  {
   "cell_type": "code",
   "execution_count": 32,
   "id": "7aed21be-a3e8-4255-ab3a-347f0787b638",
   "metadata": {},
   "outputs": [
    {
     "name": "stdout",
     "output_type": "stream",
     "text": [
      "{'MINIMAX': 1, 'RANDOM': 0}\n",
      "{'MINIMAX': 2, 'RANDOM': 0}\n",
      "{'MINIMAX': 3, 'RANDOM': 0}\n",
      "{'MINIMAX': 4, 'RANDOM': 0}\n",
      "{'MINIMAX': 5, 'RANDOM': 0}\n",
      "{'MINIMAX': 6, 'RANDOM': 0}\n",
      "{'MINIMAX': 7, 'RANDOM': 0}\n",
      "{'MINIMAX': 8, 'RANDOM': 0}\n",
      "{'MINIMAX': 9, 'RANDOM': 0}\n",
      "{'MINIMAX': 10, 'RANDOM': 0}\n",
      "{'MINIMAX': 11, 'RANDOM': 0}\n",
      "{'MINIMAX': 12, 'RANDOM': 0}\n",
      "{'MINIMAX': 13, 'RANDOM': 0}\n",
      "{'MINIMAX': 14, 'RANDOM': 0}\n",
      "{'MINIMAX': 15, 'RANDOM': 0}\n",
      "{'MINIMAX': 16, 'RANDOM': 0}\n",
      "{'MINIMAX': 17, 'RANDOM': 0}\n",
      "{'MINIMAX': 18, 'RANDOM': 0}\n",
      "{'MINIMAX': 19, 'RANDOM': 0}\n",
      "{'MINIMAX': 20, 'RANDOM': 0}\n",
      "{'MINIMAX': 21, 'RANDOM': 0}\n",
      "{'MINIMAX': 22, 'RANDOM': 0}\n",
      "{'MINIMAX': 23, 'RANDOM': 0}\n",
      "{'MINIMAX': 24, 'RANDOM': 0}\n",
      "{'MINIMAX': 25, 'RANDOM': 0}\n",
      "{'MINIMAX': 26, 'RANDOM': 0}\n",
      "{'MINIMAX': 27, 'RANDOM': 0}\n",
      "{'MINIMAX': 28, 'RANDOM': 0}\n",
      "{'MINIMAX': 29, 'RANDOM': 0}\n",
      "{'MINIMAX': 30, 'RANDOM': 0}\n",
      "{'MINIMAX': 31, 'RANDOM': 0}\n",
      "{'MINIMAX': 32, 'RANDOM': 0}\n",
      "{'MINIMAX': 33, 'RANDOM': 0}\n",
      "{'MINIMAX': 34, 'RANDOM': 0}\n",
      "{'MINIMAX': 35, 'RANDOM': 0}\n",
      "{'MINIMAX': 36, 'RANDOM': 0}\n",
      "{'MINIMAX': 37, 'RANDOM': 0}\n",
      "{'MINIMAX': 38, 'RANDOM': 0}\n",
      "{'MINIMAX': 39, 'RANDOM': 0}\n",
      "{'MINIMAX': 40, 'RANDOM': 0}\n",
      "{'MINIMAX': 41, 'RANDOM': 0}\n",
      "{'MINIMAX': 42, 'RANDOM': 0}\n",
      "{'MINIMAX': 43, 'RANDOM': 0}\n",
      "{'MINIMAX': 44, 'RANDOM': 0}\n",
      "{'MINIMAX': 45, 'RANDOM': 0}\n",
      "{'MINIMAX': 46, 'RANDOM': 0}\n",
      "{'MINIMAX': 47, 'RANDOM': 0}\n",
      "{'MINIMAX': 48, 'RANDOM': 0}\n",
      "{'MINIMAX': 49, 'RANDOM': 0}\n",
      "{'MINIMAX': 50, 'RANDOM': 0}\n",
      "{'MINIMAX': 51, 'RANDOM': 0}\n",
      "{'MINIMAX': 52, 'RANDOM': 0}\n",
      "{'MINIMAX': 53, 'RANDOM': 0}\n",
      "{'MINIMAX': 54, 'RANDOM': 0}\n",
      "{'MINIMAX': 55, 'RANDOM': 0}\n",
      "{'MINIMAX': 56, 'RANDOM': 0}\n",
      "{'MINIMAX': 57, 'RANDOM': 0}\n",
      "{'MINIMAX': 58, 'RANDOM': 0}\n",
      "{'MINIMAX': 59, 'RANDOM': 0}\n",
      "{'MINIMAX': 60, 'RANDOM': 0}\n",
      "{'MINIMAX': 61, 'RANDOM': 0}\n",
      "{'MINIMAX': 62, 'RANDOM': 0}\n",
      "{'MINIMAX': 63, 'RANDOM': 0}\n",
      "{'MINIMAX': 63, 'RANDOM': 1}\n",
      "{'MINIMAX': 64, 'RANDOM': 1}\n",
      "{'MINIMAX': 65, 'RANDOM': 1}\n",
      "{'MINIMAX': 66, 'RANDOM': 1}\n",
      "{'MINIMAX': 67, 'RANDOM': 1}\n",
      "{'MINIMAX': 68, 'RANDOM': 1}\n",
      "{'MINIMAX': 69, 'RANDOM': 1}\n",
      "{'MINIMAX': 70, 'RANDOM': 1}\n",
      "{'MINIMAX': 71, 'RANDOM': 1}\n",
      "{'MINIMAX': 72, 'RANDOM': 1}\n",
      "{'MINIMAX': 73, 'RANDOM': 1}\n",
      "{'MINIMAX': 74, 'RANDOM': 1}\n",
      "{'MINIMAX': 75, 'RANDOM': 1}\n",
      "{'MINIMAX': 76, 'RANDOM': 1}\n",
      "{'MINIMAX': 77, 'RANDOM': 1}\n",
      "{'MINIMAX': 78, 'RANDOM': 1}\n",
      "{'MINIMAX': 79, 'RANDOM': 1}\n",
      "{'MINIMAX': 80, 'RANDOM': 1}\n",
      "{'MINIMAX': 81, 'RANDOM': 1}\n",
      "{'MINIMAX': 82, 'RANDOM': 1}\n",
      "{'MINIMAX': 83, 'RANDOM': 1}\n",
      "{'MINIMAX': 84, 'RANDOM': 1}\n",
      "{'MINIMAX': 84, 'RANDOM': 2}\n",
      "{'MINIMAX': 85, 'RANDOM': 2}\n",
      "{'MINIMAX': 86, 'RANDOM': 2}\n",
      "{'MINIMAX': 87, 'RANDOM': 2}\n",
      "{'MINIMAX': 88, 'RANDOM': 2}\n",
      "{'MINIMAX': 89, 'RANDOM': 2}\n",
      "{'MINIMAX': 90, 'RANDOM': 2}\n",
      "{'MINIMAX': 91, 'RANDOM': 2}\n",
      "{'MINIMAX': 92, 'RANDOM': 2}\n",
      "{'MINIMAX': 93, 'RANDOM': 2}\n",
      "{'MINIMAX': 94, 'RANDOM': 2}\n",
      "{'MINIMAX': 95, 'RANDOM': 2}\n",
      "{'MINIMAX': 96, 'RANDOM': 2}\n",
      "{'MINIMAX': 97, 'RANDOM': 2}\n",
      "{'MINIMAX': 98, 'RANDOM': 2}\n"
     ]
    }
   ],
   "source": [
    "competition(aR,aS,100)"
   ]
  },
  {
   "cell_type": "code",
   "execution_count": null,
   "id": "e7bfd6c0-82b4-40a6-ac74-ead3ff724bd7",
   "metadata": {},
   "outputs": [],
   "source": []
  },
  {
   "cell_type": "code",
   "execution_count": 23,
   "id": "95068a95-ed13-4a47-a610-27a2645c3e38",
   "metadata": {},
   "outputs": [
    {
     "data": {
      "text/plain": [
       "randomAgent.c_double_Array_6"
      ]
     },
     "execution_count": 23,
     "metadata": {},
     "output_type": "execute_result"
    }
   ],
   "source": [
    "(ctypes.c_double * 6)\n"
   ]
  },
  {
   "cell_type": "code",
   "execution_count": 24,
   "id": "173e46b8-d3e6-4dfd-a0e4-88fc9ace0d2a",
   "metadata": {},
   "outputs": [],
   "source": [
    "weight=[1,2,3,4,5,6]"
   ]
  },
  {
   "cell_type": "code",
   "execution_count": 25,
   "id": "58064663-2233-4358-b1e9-3c2600c85a86",
   "metadata": {},
   "outputs": [],
   "source": [
    "w=(ctypes.c_double * 6)()\n",
    "for i in range(6):\n",
    "    w[i]=weight[i]"
   ]
  },
  {
   "cell_type": "code",
   "execution_count": 27,
   "id": "e0659c2b-5a72-4de1-8923-10309d8e99f3",
   "metadata": {},
   "outputs": [
    {
     "data": {
      "text/plain": [
       "2.0"
      ]
     },
     "execution_count": 27,
     "metadata": {},
     "output_type": "execute_result"
    }
   ],
   "source": [
    "w[1]\n"
   ]
  },
  {
   "cell_type": "code",
   "execution_count": null,
   "id": "a940c991-a856-4ae7-bb78-717deaa877a2",
   "metadata": {},
   "outputs": [],
   "source": []
  }
 ],
 "metadata": {
  "kernelspec": {
   "display_name": "Python 3 (ipykernel)",
   "language": "python",
   "name": "python3"
  },
  "language_info": {
   "codemirror_mode": {
    "name": "ipython",
    "version": 3
   },
   "file_extension": ".py",
   "mimetype": "text/x-python",
   "name": "python",
   "nbconvert_exporter": "python",
   "pygments_lexer": "ipython3",
   "version": "3.10.9"
  }
 },
 "nbformat": 4,
 "nbformat_minor": 5
}
