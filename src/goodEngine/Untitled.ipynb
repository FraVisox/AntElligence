{
 "cells": [
  {
   "cell_type": "code",
   "execution_count": 1,
   "id": "98b0835a",
   "metadata": {},
   "outputs": [],
   "source": [
    "\n",
    "import ctypes\n",
    "import os\n",
    "from abc import ABC, abstractmethod\n"
   ]
  },
  {
   "cell_type": "code",
   "execution_count": 2,
   "id": "6d4968a3",
   "metadata": {},
   "outputs": [],
   "source": [
    "path = os.path.join(os.getcwd(), \"cpp/interface.so\")\n",
    "dll = ctypes.CDLL(path)\n",
    "\n",
    "getBoard=dll._Z10base_statei\n",
    "copyBoard=dll._Z9copyBoardP6EBoard\n",
    "updateState=dll._Z10next_stateP6EBoardl\n",
    "getAction=dll._Z10getActionsP6EBoardPl\n",
    "actionToString=dll._Z14actionToStringl\n",
    "printAct=dll._Z16printActionFancyl\n",
    "\n",
    "actionToString.restype = ctypes.c_char_p\n",
    "actionToString.argtypes = [ctypes.c_int64]\n",
    "printAct.argtypes = [ctypes.c_int64]\n",
    "getAction.argtypes = [ctypes.c_void_p,ctypes.POINTER(ctypes.c_int64)]"
   ]
  },
  {
   "cell_type": "code",
   "execution_count": 3,
   "id": "04cf47f2-f32d-40e6-a2d6-ebda4bc62da7",
   "metadata": {},
   "outputs": [],
   "source": [
    "b=getBoard()"
   ]
  },
  {
   "cell_type": "code",
   "execution_count": 4,
   "id": "e5451da3",
   "metadata": {},
   "outputs": [],
   "source": [
    "RisType = ctypes.c_int64 * 256;\n",
    "\n",
    "ris=RisType()\n",
    "ris[0]=2"
   ]
  },
  {
   "cell_type": "code",
   "execution_count": 11,
   "id": "3372e96d-71b3-4b4b-97cc-cf6e63b07e30",
   "metadata": {},
   "outputs": [
    {
     "data": {
      "text/plain": [
       "1745348198.6141953"
      ]
     },
     "execution_count": 11,
     "metadata": {},
     "output_type": "execute_result"
    }
   ],
   "source": [
    "import time\n",
    "time.time()"
   ]
  },
  {
   "cell_type": "code",
   "execution_count": 9,
   "id": "929586a3-1742-4276-9575-f1e726f78feb",
   "metadata": {},
   "outputs": [],
   "source": [
    "from game_rule import DLLGameRule \n",
    "GR=DLLGameRule()\n",
    "import time\n",
    "import random\n",
    "import ctypes\n"
   ]
  },
  {
   "cell_type": "code",
   "execution_count": 21,
   "id": "243e945e",
   "metadata": {},
   "outputs": [
    {
     "name": "stdout",
     "output_type": "stream",
     "text": [
      "1411\n",
      "1435\n",
      "900\n",
      "2683\n",
      "1942\n",
      "63\n",
      "2887\n",
      "49\n",
      "2434\n",
      "164\n",
      "256\n",
      "729\n",
      "162\n",
      "1226\n",
      "6846\n",
      "230\n",
      "654\n",
      "897\n",
      "310\n",
      "14\n",
      "4883\n",
      "693\n",
      "3765\n",
      "2458\n",
      "2150\n",
      "5663\n",
      "905\n",
      "864\n",
      "1683\n",
      "2605\n",
      "577\n",
      "350\n",
      "3721\n",
      "3761\n",
      "522\n",
      "34\n",
      "332\n",
      "382\n",
      "237\n",
      "870\n",
      "357\n",
      "502\n",
      "1320\n",
      "250\n",
      "4274\n",
      "443\n",
      "1311\n",
      "4178\n",
      "5832\n",
      "164\n",
      "78\n",
      "1594\n",
      "853\n",
      "3157\n",
      "827\n",
      "1032\n",
      "3558\n",
      "32\n",
      "512\n",
      "6967\n",
      "1158\n",
      "4080\n",
      "9605\n",
      "2991\n",
      "531\n",
      "7606\n",
      "519\n",
      "374\n",
      "1854\n",
      "3425\n",
      "1213\n",
      "805\n",
      "12329\n",
      "224\n",
      "3787\n",
      "16\n",
      "947\n",
      "2173\n",
      "614\n",
      "1028\n",
      "937\n",
      "2401\n",
      "1993\n",
      "525\n",
      "1044\n",
      "770\n",
      "3648\n",
      "6532\n",
      "4422\n",
      "2153\n",
      "239\n",
      "559\n",
      "1301\n",
      "32\n",
      "5772\n",
      "736\n",
      "1999\n",
      "2909\n",
      "1634\n",
      "3767\n",
      "1350\n",
      "967\n",
      "10959\n",
      "1467\n",
      "194\n",
      "2770\n",
      "3815\n",
      "1388\n",
      "48\n",
      "840\n",
      "1704\n",
      "1846\n",
      "184\n",
      "54\n",
      "776\n",
      "6206\n",
      "825\n",
      "386\n",
      "78\n",
      "2871\n",
      "25\n",
      "1473\n",
      "2388\n",
      "1677\n",
      "1783\n",
      "1092\n",
      "1637\n",
      "4064\n",
      "360\n",
      "1496\n",
      "2400\n",
      "994\n",
      "2371\n",
      "541\n",
      "353\n",
      "323\n",
      "2944\n",
      "8595\n",
      "24\n",
      "4857\n",
      "667\n",
      "973\n",
      "1864\n",
      "692\n",
      "1613\n",
      "790\n",
      "73\n",
      "905\n",
      "2904\n",
      "63\n",
      "2389\n",
      "127\n",
      "687\n",
      "1835\n",
      "3299\n",
      "276\n",
      "18\n",
      "1201\n",
      "14\n",
      "1481\n",
      "3676\n",
      "6133\n",
      "1114\n",
      "1393\n",
      "1818\n",
      "768\n",
      "2353\n",
      "660\n",
      "1081\n",
      "4172\n",
      "1754\n",
      "1324\n",
      "323\n",
      "79\n",
      "72\n",
      "5262\n",
      "7946\n",
      "2531\n",
      "741\n",
      "840\n",
      "1479\n",
      "1014\n",
      "2831\n",
      "481\n",
      "96\n",
      "54\n",
      "480\n",
      "1483\n",
      "76\n",
      "1362\n",
      "49\n",
      "107\n",
      "3240\n",
      "7510\n",
      "2883\n",
      "558\n",
      "1465\n",
      "999\n",
      "600\n",
      "614\n",
      "Tempo totale mossa 2.6830246487297487e-05 s\n",
      "369057\n"
     ]
    }
   ],
   "source": [
    "totMov = 0\n",
    "t_start = time.time()\n",
    "\n",
    "for rt in range(200):\n",
    "    state = GR.init_state()\n",
    "    i = 0\n",
    "\n",
    "    ris = (ctypes.c_int * 256)()  # buffer for actions\n",
    "    while i<200000:\n",
    "\n",
    "        ris=GR.getActions(state)\n",
    "        # .EBoard_getNextsActions(board, ris)\n",
    "\n",
    "        num_actions = ris[0]\n",
    "        m = random.randint(1, num_actions)\n",
    "        GR.next_state(state, ris[m])\n",
    "\n",
    "        out = GR.checkStatus(state)\n",
    "        if out != 1:\n",
    "            print(i)\n",
    "            break\n",
    "        totMov += 1\n",
    "        \n",
    "        i += 1\n",
    "\n",
    "    \n",
    "t_end = time.time()\n",
    "print(\"Tempo totale mossa\", (t_end - t_start) /totMov, \"s\")\n",
    "print(totMov)\n"
   ]
  },
  {
   "cell_type": "code",
   "execution_count": 18,
   "id": "43c438f4",
   "metadata": {},
   "outputs": [],
   "source": [
    "state = GR.init_state()\n",
    "ris=GR.getActions(state)\n",
    "GR.next_state(state, ris[0])\n",
    "out = GR.checkStatus(state)\n",
    "        "
   ]
  },
  {
   "cell_type": "code",
   "execution_count": 2,
   "id": "1b63af5c",
   "metadata": {},
   "outputs": [
    {
     "ename": "NameError",
     "evalue": "name 'GR' is not defined",
     "output_type": "error",
     "traceback": [
      "\u001b[0;31m---------------------------------------------------------------------------\u001b[0m",
      "\u001b[0;31mNameError\u001b[0m                                 Traceback (most recent call last)",
      "Cell \u001b[0;32mIn[2], line 1\u001b[0m\n\u001b[0;32m----> 1\u001b[0m ris\u001b[38;5;241m=\u001b[39m\u001b[43mGR\u001b[49m\u001b[38;5;241m.\u001b[39mgetActions(state)\n\u001b[1;32m      2\u001b[0m GR\u001b[38;5;241m.\u001b[39mnext_state(state, ris[\u001b[38;5;241m0\u001b[39m])\n\u001b[1;32m      3\u001b[0m out \u001b[38;5;241m=\u001b[39m GR\u001b[38;5;241m.\u001b[39mcheckStatus(state)\n",
      "\u001b[0;31mNameError\u001b[0m: name 'GR' is not defined"
     ]
    }
   ],
   "source": [
    "\n",
    "ris=GR.getActions(state)\n",
    "GR.next_state(state, ris[0])\n",
    "out = GR.checkStatus(state)"
   ]
  },
  {
   "cell_type": "code",
   "execution_count": null,
   "id": "5c13fbf4-3266-404d-95ba-e9f60706c32e",
   "metadata": {},
   "outputs": [],
   "source": [
    "out"
   ]
  },
  {
   "cell_type": "code",
   "execution_count": 10,
   "id": "d34d2095-8f2c-4f9a-8139-2c568e3fcec1",
   "metadata": {},
   "outputs": [
    {
     "name": "stdout",
     "output_type": "stream",
     "text": [
      "4294967311 bS1 wS1-\n",
      "\n",
      "1099511627791 bS1 wS1\\\n",
      "Act: bS1|   |   |   |wS1|   |   |   |\n",
      "\n",
      "281474976710671 bS1 /wS1\n",
      "Act: bS1|   |   |   |   |wS1|   |   |\n",
      "Act: bS1|   |   |   |   |   |wS1|   |\n",
      "\n",
      "271 bS1 -wS1\n",
      "\n",
      "65551 bS1 \\wS1\n",
      "\n",
      "16777231 bS1 wS1/\n",
      "\n",
      "4294967313 bB1 wS1-\n",
      "\n",
      "1099511627793 bB1 wS1\\\n",
      "\n",
      "281474976710673 bB1 /wS1\n",
      "\n",
      "273 bB1 -wS1\n",
      "\n",
      "65553 bB1 \\wS1\n",
      "\n",
      "16777233 bB1 wS1/\n",
      "\n",
      "4294967315 bG1 wS1-\n",
      "\n",
      "1099511627795 bG1 wS1\\\n",
      "\n",
      "281474976710675 bG1 /wS1\n",
      "\n",
      "275 bG1 -wS1\n",
      "\n",
      "65555 bG1 \\wS1\n",
      "\n",
      "16777235 bG1 wS1/\n",
      "\n",
      "4294967319 bA1 wS1-\n",
      "\n",
      "1099511627799 bA1 wS1\\\n",
      "\n",
      "281474976710679 bA1 /wS1\n",
      "\n",
      "279 bA1 -wS1\n",
      "\n",
      "65559 bA1 \\wS1\n",
      "\n",
      "16777239 bA1 wS1/\n",
      "\n",
      "Act: bS1|wS1|   |   |   |   |   |   |\n",
      "Act: bS1|   |wS1|   |   |   |   |   |\n",
      "Act: bS1|   |   |wS1|   |   |   |   |\n",
      "Act: bB1|   |   |   |wS1|   |   |   |\n",
      "Act: bB1|   |   |   |   |wS1|   |   |\n",
      "Act: bB1|   |   |   |   |   |wS1|   |\n",
      "Act: bB1|wS1|   |   |   |   |   |   |\n",
      "Act: bB1|   |wS1|   |   |   |   |   |\n",
      "Act: bB1|   |   |wS1|   |   |   |   |\n",
      "Act: bG1|   |   |   |wS1|   |   |   |\n",
      "Act: bG1|   |   |   |   |wS1|   |   |\n",
      "Act: bG1|   |   |   |   |   |wS1|   |\n",
      "Act: bG1|wS1|   |   |   |   |   |   |\n",
      "Act: bG1|   |wS1|   |   |   |   |   |\n",
      "Act: bG1|   |   |wS1|   |   |   |   |\n",
      "Act: bA1|   |   |   |wS1|   |   |   |\n",
      "Act: bA1|   |   |   |   |wS1|   |   |\n",
      "Act: bA1|   |   |   |   |   |wS1|   |\n",
      "Act: bA1|wS1|   |   |   |   |   |   |\n",
      "Act: bA1|   |wS1|   |   |   |   |   |\n",
      "Act: bA1|   |   |wS1|   |   |   |   |\n"
     ]
    }
   ],
   "source": [
    "for i in range(1,ris[0]+1):\n",
    "    print(ris[i], actionToString(ris[i]).decode('utf-8'))\n",
    "    printAct(ris[i])\n",
    "    print(\"\")"
   ]
  },
  {
   "cell_type": "code",
   "execution_count": 4,
   "id": "f4c1d923",
   "metadata": {},
   "outputs": [],
   "source": [
    "path = os.path.join(os.getcwd(), \"cpp/engine.dll\")\n",
    "dll = ctypes.CDLL(path)\n",
    "        "
   ]
  },
  {
   "cell_type": "code",
   "execution_count": 18,
   "id": "4ed332b6",
   "metadata": {},
   "outputs": [
    {
     "name": "stdout",
     "output_type": "stream",
     "text": [
      "40282240\n",
      "39449008\n",
      "40510320\n"
     ]
    }
   ],
   "source": [
    "dll._Z10validMovesv.restype=ctypes.POINTER(ctypes.POINTER(ctypes.c_char))# ctypes.POINTER(ctypes.c_char_p)\n",
    "r=dll._Z10validMovesv()\n"
   ]
  },
  {
   "cell_type": "code",
   "execution_count": 25,
   "id": "e0c73686",
   "metadata": {},
   "outputs": [
    {
     "data": {
      "text/plain": [
       "b'\\x05'"
      ]
     },
     "execution_count": 25,
     "metadata": {},
     "output_type": "execute_result"
    }
   ],
   "source": [
    "r[2][5]"
   ]
  },
  {
   "cell_type": "code",
   "execution_count": 21,
   "id": "92f36827",
   "metadata": {},
   "outputs": [
    {
     "ename": "NameError",
     "evalue": "name 'game_rule' is not defined",
     "output_type": "error",
     "traceback": [
      "\u001b[0;31m---------------------------------------------------------------------------\u001b[0m",
      "\u001b[0;31mNameError\u001b[0m                                 Traceback (most recent call last)",
      "Cell \u001b[0;32mIn[21], line 1\u001b[0m\n\u001b[0;32m----> 1\u001b[0m \u001b[38;5;28;01mclass\u001b[39;00m \u001b[38;5;21;01mgame_rule_cpp_imp\u001b[39;00m(\u001b[43mgame_rule\u001b[49m):\n\u001b[1;32m      2\u001b[0m     \u001b[38;5;28;01mdef\u001b[39;00m \u001b[38;5;21m__init__\u001b[39m(\u001b[38;5;28mself\u001b[39m):\n\u001b[1;32m      3\u001b[0m         path \u001b[38;5;241m=\u001b[39m os\u001b[38;5;241m.\u001b[39mpath\u001b[38;5;241m.\u001b[39mjoin(os\u001b[38;5;241m.\u001b[39mgetcwd(), \u001b[38;5;124m\"\u001b[39m\u001b[38;5;124mcpp/engine.dll\u001b[39m\u001b[38;5;124m\"\u001b[39m)\n",
      "\u001b[0;31mNameError\u001b[0m: name 'game_rule' is not defined"
     ]
    }
   ],
   "source": [
    "class game_rule_cpp_imp(game_rule):\n",
    "    def __init__(self):\n",
    "        path = os.path.join(os.getcwd(), \"cpp/engine.dll\")\n",
    "        self.dll = ctypes.CDLL(path)\n",
    "        self._setup_functions()\n",
    "\n",
    "\n",
    "    def _setup_functions(self):\n",
    "        # Set up game functions\n",
    "        self.dll._Z10init_statev.restype = ctypes.c_uint64*32;\n",
    "        \n",
    "        self.dll._Z10next_statePmm.argtypes = [ctypes.c_uint64*32];\n",
    "        self.dll._Z10next_statePmm.restype = ctypes.c_uint64*5;\n",
    "        \n",
    "        self.dll._Z10getActionsPm.argtypes = [ctypes.c_uint64*32];\n",
    "        self.dll._Z10getActionsPm.restype = ctypes.c_uint64*512;\n",
    "        \n",
    "        self.dll._Z11checkStatusPm.argtypes = [ctypes.c_uint64*32];\n",
    "        self.dll._Z11checkStatusPm.restype = ctypes.c_ushort;\n",
    "        \n",
    "    def init_state(self):\n",
    "        return self.dll._Z10init_statev()\n",
    "    \n",
    "    def next_state(self,state,action):\n",
    "        return self.dll._Z10next_statePmm(state,action)\n",
    "    \n",
    "    def getActions(self,state):\n",
    "        return self.dll._Z10next_statePmm(state)\n",
    "    \n",
    "    def checkStatus(self,state):\n",
    "        return self.dll._Z11checkStatusPm(state)"
   ]
  },
  {
   "cell_type": "code",
   "execution_count": null,
   "id": "e2258704",
   "metadata": {},
   "outputs": [],
   "source": [
    "a=game_rule_cpp_imp()"
   ]
  },
  {
   "cell_type": "code",
   "execution_count": null,
   "id": "23a1f746",
   "metadata": {},
   "outputs": [],
   "source": [
    "a.init_state()"
   ]
  },
  {
   "cell_type": "code",
   "execution_count": null,
   "id": "b91c1435",
   "metadata": {},
   "outputs": [],
   "source": []
  },
  {
   "cell_type": "code",
   "execution_count": null,
   "id": "484c82ad",
   "metadata": {},
   "outputs": [],
   "source": []
  }
 ],
 "metadata": {
  "kernelspec": {
   "display_name": "Python 3 (ipykernel)",
   "language": "python",
   "name": "python3"
  },
  "language_info": {
   "codemirror_mode": {
    "name": "ipython",
    "version": 3
   },
   "file_extension": ".py",
   "mimetype": "text/x-python",
   "name": "python",
   "nbconvert_exporter": "python",
   "pygments_lexer": "ipython3",
   "version": "3.10.9"
  }
 },
 "nbformat": 4,
 "nbformat_minor": 5
}
