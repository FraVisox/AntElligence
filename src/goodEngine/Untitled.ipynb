{
 "cells": [
  {
   "cell_type": "code",
   "execution_count": 1,
   "id": "98b0835a",
   "metadata": {},
   "outputs": [],
   "source": [
    "\n",
    "import ctypes\n",
    "import os\n",
    "from abc import ABC, abstractmethod\n"
   ]
  },
  {
   "cell_type": "code",
   "execution_count": 54,
   "id": "6d4968a3",
   "metadata": {},
   "outputs": [],
   "source": [
    "path = os.path.join(os.getcwd(), \"cpp/engine.dll\")\n",
    "dll = ctypes.CDLL(path)\n",
    "\n",
    "\n",
    "bg=dll._Z8baseGamev\n",
    "printBoard=dll._Z15printBoardFancyPc"
   ]
  },
  {
   "cell_type": "code",
   "execution_count": 70,
   "id": "e5451da3",
   "metadata": {},
   "outputs": [],
   "source": [
    "bg.restype=ctypes.POINTER(ctypes.c_int8*282)\n",
    "#bg.restype=ctypes.c_int8*3\n",
    "\n",
    "list(r[0])\n"
   ]
  },
  {
   "cell_type": "code",
   "execution_count": 71,
   "id": "0c86bd8f",
   "metadata": {},
   "outputs": [],
   "source": [
    "r=bg()"
   ]
  },
  {
   "cell_type": "code",
   "execution_count": 105,
   "id": "243e945e",
   "metadata": {},
   "outputs": [
    {
     "name": "stdout",
     "output_type": "stream",
     "text": [
      "NumMoves: 70\n",
      "Next move: 31\n"
     ]
    }
   ],
   "source": [
    "s=\"\"\"wS1 wA3-;wS1 wA3/;wS1 \\wA3;wS1 -wA3;wS1 /wA3;wS1 wA1\\;wS1 wA1-;wS1 wA1/;wS1 /wA1;wS1 wB2\\;wS1 wB2-;wS1 /wB2;wG1 wA3-;wG1 wA3/;wG1 \\wA3;wG1 -wA3;wG1 /wA3;wG1 wA1\\;wG1 wA1-;wG1 wA1/;wG1 /wA1;wG1 wB2\\;wG1 wB2-;wG1 /wB2;wB2 wB1-;wB2 wB1;wB2 /wB1;wA1 wA2-;wA1 wQ\\;wA1 wA2/;wA1 wB2-;wA1 wA3/;wA1 wB2\\;wA1 \\wA3;wA1 /wB2;wA1 -wA3;wA1 -wB2;wA1 /wA3;wA1 /bG1;wA1 -wQ;wA1 -bG1;wA1 bB1/;wA1 bG2\\;wA1 bA1/;wA1 /bG2;wA1 \\bA1;wA1 -bG2;wA1 -bA1;wA1 \\bG2;wA3 wA2/;wA3 -wA2;wA3 wA2-;wA3 -wQ;wA3 wA1-;wA3 bB1/;wA3 wA1\\;wA3 bA1/;wA3 /wA1;wA3 \\bA1;wA3 wB2-;wA3 -bA1;wA3 wB2\\;wA3 -bQ;wA3 /wB2;wA3 -bG2;wA3 -wB2;wA3 /bG2;wA3 /bG1;wA3 bG2\\;wA3 -bG1\"\"\"\n",
    "\n",
    "lm=s.split(\";\")\n",
    "\n",
    "print(\"NumMoves:\", len(lm))\n",
    "print(\"Next move:\", 127351941%len(lm))"
   ]
  },
  {
   "cell_type": "code",
   "execution_count": 107,
   "id": "43c438f4",
   "metadata": {},
   "outputs": [
    {
     "name": "stdout",
     "output_type": "stream",
     "text": [
      "0 :  wS1 wA3-\n",
      "1 :  wS1 wA3/\n",
      "2 :  wS1 \\wA3\n",
      "3 :  wS1 -wA3\n",
      "4 :  wS1 /wA3\n",
      "5 :  wS1 wA1\\\n",
      "6 :  wS1 wA1-\n",
      "7 :  wS1 wA1/\n",
      "8 :  wS1 /wA1\n",
      "9 :  wS1 wB2\\\n",
      "10 :  wS1 wB2-\n",
      "11 :  wS1 /wB2\n",
      "12 :  wG1 wA3-\n",
      "13 :  wG1 wA3/\n",
      "14 :  wG1 \\wA3\n",
      "15 :  wG1 -wA3\n",
      "16 :  wG1 /wA3\n",
      "17 :  wG1 wA1\\\n",
      "18 :  wG1 wA1-\n",
      "19 :  wG1 wA1/\n",
      "20 :  wG1 /wA1\n",
      "21 :  wG1 wB2\\\n",
      "22 :  wG1 wB2-\n",
      "23 :  wG1 /wB2\n",
      "24 :  wB2 wB1-\n",
      "25 :  wB2 wB1\n",
      "26 :  wB2 /wB1\n",
      "27 :  wA1 wA2-\n",
      "28 :  wA1 wQ\\\n",
      "29 :  wA1 wA2/\n",
      "30 :  wA1 wB2-\n",
      "31 :  wA1 wA3/\n",
      "32 :  wA1 wB2\\\n",
      "33 :  wA1 \\wA3\n",
      "34 :  wA1 /wB2\n",
      "35 :  wA1 -wA3\n",
      "36 :  wA1 -wB2\n",
      "37 :  wA1 /wA3\n",
      "38 :  wA1 /bG1\n",
      "39 :  wA1 -wQ\n",
      "40 :  wA1 -bG1\n",
      "41 :  wA1 bB1/\n",
      "42 :  wA1 bG2\\\n",
      "43 :  wA1 bA1/\n",
      "44 :  wA1 /bG2\n",
      "45 :  wA1 \bA1\n",
      "46 :  wA1 -bG2\n",
      "47 :  wA1 -bA1\n",
      "48 :  wA1 \bG2\n",
      "49 :  wA3 wA2/\n",
      "50 :  wA3 -wA2\n",
      "51 :  wA3 wA2-\n",
      "52 :  wA3 -wQ\n",
      "53 :  wA3 wA1-\n",
      "54 :  wA3 bB1/\n",
      "55 :  wA3 wA1\\\n",
      "56 :  wA3 bA1/\n",
      "57 :  wA3 /wA1\n",
      "58 :  wA3 \bA1\n",
      "59 :  wA3 wB2-\n",
      "60 :  wA3 -bA1\n",
      "61 :  wA3 wB2\\\n",
      "62 :  wA3 -bQ\n",
      "63 :  wA3 /wB2\n",
      "64 :  wA3 -bG2\n",
      "65 :  wA3 -wB2\n",
      "66 :  wA3 /bG2\n",
      "67 :  wA3 /bG1\n",
      "68 :  wA3 bG2\\\n",
      "69 :  wA3 -bG1\n"
     ]
    }
   ],
   "source": [
    "for i in range(len(lm)):\n",
    "    print(i,\": \", lm[i])"
   ]
  },
  {
   "cell_type": "code",
   "execution_count": 4,
   "id": "1b63af5c",
   "metadata": {
    "scrolled": false
   },
   "outputs": [
    {
     "name": "stdout",
     "output_type": "stream",
     "text": [
      "Turn: 1||1|0||0|0|0|0|0|0|0|0|\n",
      "||1|0||0|0|0|0|0|0|0|0|\n",
      "||1|0||0|0|0|0|0|0|0|0|\n",
      "||1|0||0|0|0|0|0|0|0|0|\n",
      "||1|0||0|0|0|0|0|0|0|0|\n",
      "||1|0||0|0|0|0|0|0|0|0|\n",
      "||1|0||0|0|0|0|0|0|0|0|\n",
      "||1|0||0|0|0|0|0|0|0|0|\n",
      "||1|0||0|0|0|0|0|0|0|0|\n",
      "||1|0||0|0|0|0|0|0|0|0|\n",
      "||1|0||0|0|0|0|0|0|0|0|\n",
      "||0|0||0|0|0|0|0|0|0|0|\n",
      "||0|0||0|0|0|0|0|0|0|0|\n",
      "||0|0||0|0|0|0|0|0|0|0|\n",
      "||1|0||0|0|0|0|0|0|0|0|\n",
      "||1|0||0|0|0|0|0|0|0|0|\n",
      "||1|0||0|0|0|0|0|0|0|0|\n",
      "||1|0||0|0|0|0|0|0|0|0|\n",
      "||1|0||0|0|0|0|0|0|0|0|\n",
      "||1|0||0|0|0|0|0|0|0|0|\n",
      "||1|0||0|0|0|0|0|0|0|0|\n",
      "||1|0||0|0|0|0|0|0|0|0|\n",
      "||1|0||0|0|0|0|0|0|0|0|\n",
      "||1|0||0|0|0|0|0|0|0|0|\n",
      "||1|0||0|0|0|0|0|0|0|0|\n",
      "||0|0||0|0|0|0|0|0|0|0|\n",
      "||0|0||0|0|0|0|0|0|0|0|\n",
      "||0|0||0|0|0|0|0|0|0|0|\n"
     ]
    },
    {
     "data": {
      "text/plain": [
       "-37677856"
      ]
     },
     "execution_count": 4,
     "metadata": {},
     "output_type": "execute_result"
    }
   ],
   "source": [
    "printBoard(r)"
   ]
  },
  {
   "cell_type": "code",
   "execution_count": 4,
   "id": "f4c1d923",
   "metadata": {},
   "outputs": [],
   "source": [
    "path = os.path.join(os.getcwd(), \"cpp/engine.dll\")\n",
    "dll = ctypes.CDLL(path)\n",
    "        "
   ]
  },
  {
   "cell_type": "code",
   "execution_count": 18,
   "id": "4ed332b6",
   "metadata": {},
   "outputs": [
    {
     "name": "stdout",
     "output_type": "stream",
     "text": [
      "40282240\n",
      "39449008\n",
      "40510320\n"
     ]
    }
   ],
   "source": [
    "dll._Z10validMovesv.restype=ctypes.POINTER(ctypes.POINTER(ctypes.c_char))# ctypes.POINTER(ctypes.c_char_p)\n",
    "r=dll._Z10validMovesv()\n"
   ]
  },
  {
   "cell_type": "code",
   "execution_count": 25,
   "id": "e0c73686",
   "metadata": {},
   "outputs": [
    {
     "data": {
      "text/plain": [
       "b'\\x05'"
      ]
     },
     "execution_count": 25,
     "metadata": {},
     "output_type": "execute_result"
    }
   ],
   "source": [
    "r[2][5]"
   ]
  },
  {
   "cell_type": "code",
   "execution_count": 21,
   "id": "92f36827",
   "metadata": {},
   "outputs": [
    {
     "ename": "NameError",
     "evalue": "name 'game_rule' is not defined",
     "output_type": "error",
     "traceback": [
      "\u001b[0;31m---------------------------------------------------------------------------\u001b[0m",
      "\u001b[0;31mNameError\u001b[0m                                 Traceback (most recent call last)",
      "Cell \u001b[0;32mIn[21], line 1\u001b[0m\n\u001b[0;32m----> 1\u001b[0m \u001b[38;5;28;01mclass\u001b[39;00m \u001b[38;5;21;01mgame_rule_cpp_imp\u001b[39;00m(\u001b[43mgame_rule\u001b[49m):\n\u001b[1;32m      2\u001b[0m     \u001b[38;5;28;01mdef\u001b[39;00m \u001b[38;5;21m__init__\u001b[39m(\u001b[38;5;28mself\u001b[39m):\n\u001b[1;32m      3\u001b[0m         path \u001b[38;5;241m=\u001b[39m os\u001b[38;5;241m.\u001b[39mpath\u001b[38;5;241m.\u001b[39mjoin(os\u001b[38;5;241m.\u001b[39mgetcwd(), \u001b[38;5;124m\"\u001b[39m\u001b[38;5;124mcpp/engine.dll\u001b[39m\u001b[38;5;124m\"\u001b[39m)\n",
      "\u001b[0;31mNameError\u001b[0m: name 'game_rule' is not defined"
     ]
    }
   ],
   "source": [
    "class game_rule_cpp_imp(game_rule):\n",
    "    def __init__(self):\n",
    "        path = os.path.join(os.getcwd(), \"cpp/engine.dll\")\n",
    "        self.dll = ctypes.CDLL(path)\n",
    "        self._setup_functions()\n",
    "\n",
    "\n",
    "    def _setup_functions(self):\n",
    "        # Set up game functions\n",
    "        self.dll._Z10init_statev.restype = ctypes.c_uint64*32;\n",
    "        \n",
    "        self.dll._Z10next_statePmm.argtypes = [ctypes.c_uint64*32];\n",
    "        self.dll._Z10next_statePmm.restype = ctypes.c_uint64*5;\n",
    "        \n",
    "        self.dll._Z10getActionsPm.argtypes = [ctypes.c_uint64*32];\n",
    "        self.dll._Z10getActionsPm.restype = ctypes.c_uint64*512;\n",
    "        \n",
    "        self.dll._Z11checkStatusPm.argtypes = [ctypes.c_uint64*32];\n",
    "        self.dll._Z11checkStatusPm.restype = ctypes.c_ushort;\n",
    "        \n",
    "    def init_state(self):\n",
    "        return self.dll._Z10init_statev()\n",
    "    \n",
    "    def next_state(self,state,action):\n",
    "        return self.dll._Z10next_statePmm(state,action)\n",
    "    \n",
    "    def getActions(self,state):\n",
    "        return self.dll._Z10next_statePmm(state)\n",
    "    \n",
    "    def checkStatus(self,state):\n",
    "        return self.dll._Z11checkStatusPm(state)"
   ]
  },
  {
   "cell_type": "code",
   "execution_count": null,
   "id": "e2258704",
   "metadata": {},
   "outputs": [],
   "source": [
    "a=game_rule_cpp_imp()"
   ]
  },
  {
   "cell_type": "code",
   "execution_count": null,
   "id": "23a1f746",
   "metadata": {},
   "outputs": [],
   "source": [
    "a.init_state()"
   ]
  },
  {
   "cell_type": "code",
   "execution_count": null,
   "id": "b91c1435",
   "metadata": {},
   "outputs": [],
   "source": []
  },
  {
   "cell_type": "code",
   "execution_count": null,
   "id": "484c82ad",
   "metadata": {},
   "outputs": [],
   "source": []
  }
 ],
 "metadata": {
  "kernelspec": {
   "display_name": "Python 3 (ipykernel)",
   "language": "python",
   "name": "python3"
  },
  "language_info": {
   "codemirror_mode": {
    "name": "ipython",
    "version": 3
   },
   "file_extension": ".py",
   "mimetype": "text/x-python",
   "name": "python",
   "nbconvert_exporter": "python",
   "pygments_lexer": "ipython3",
   "version": "3.10.9"
  }
 },
 "nbformat": 4,
 "nbformat_minor": 5
}
