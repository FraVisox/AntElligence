{
 "cells": [
  {
   "cell_type": "code",
   "execution_count": 3,
   "id": "98b0835a",
   "metadata": {},
   "outputs": [],
   "source": [
    "\n",
    "import ctypes\n",
    "import os\n",
    "from abc import ABC, abstractmethod\n"
   ]
  },
  {
   "cell_type": "code",
   "execution_count": 2,
   "id": "6d4968a3",
   "metadata": {},
   "outputs": [],
   "source": [
    "path = os.path.join(os.getcwd(), \"cpp/interface.so\")\n",
    "dll = ctypes.CDLL(path)\n",
    "\n",
    "getBoard=dll._Z10base_statei\n",
    "copyBoard=dll._Z9copyBoardP6EBoard\n",
    "updateState=dll._Z10next_stateP6EBoardl\n",
    "getAction=dll._Z10getActionsP6EBoardPl\n",
    "actionToString=dll._Z14actionToStringl\n",
    "printAct=dll._Z16printActionFancyl\n",
    "\n",
    "actionToString.restype = ctypes.c_char_p\n",
    "actionToString.argtypes = [ctypes.c_int64]\n",
    "printAct.argtypes = [ctypes.c_int64]\n",
    "getAction.argtypes = [ctypes.c_void_p,ctypes.POINTER(ctypes.c_int64)]"
   ]
  },
  {
   "cell_type": "code",
   "execution_count": 3,
   "id": "04cf47f2-f32d-40e6-a2d6-ebda4bc62da7",
   "metadata": {},
   "outputs": [],
   "source": [
    "b=getBoard()"
   ]
  },
  {
   "cell_type": "code",
   "execution_count": 4,
   "id": "e5451da3",
   "metadata": {},
   "outputs": [],
   "source": [
    "RisType = ctypes.c_int64 * 256;\n",
    "\n",
    "ris=RisType()\n",
    "ris[0]=2"
   ]
  },
  {
   "cell_type": "code",
   "execution_count": 5,
   "id": "3372e96d-71b3-4b4b-97cc-cf6e63b07e30",
   "metadata": {},
   "outputs": [
    {
     "data": {
      "text/plain": [
       "1745867667.2981756"
      ]
     },
     "execution_count": 5,
     "metadata": {},
     "output_type": "execute_result"
    }
   ],
   "source": [
    "import time\n",
    "time.time()"
   ]
  },
  {
   "cell_type": "code",
   "execution_count": 5,
   "id": "929586a3-1742-4276-9575-f1e726f78feb",
   "metadata": {},
   "outputs": [],
   "source": [
    "from game_rule import DLLGameRule \n",
    "GR=DLLGameRule()\n",
    "import time\n",
    "import random\n",
    "import ctypes\n",
    "import math\n",
    "import time"
   ]
  },
  {
   "cell_type": "code",
   "execution_count": null,
   "id": "243e945e",
   "metadata": {},
   "outputs": [],
   "source": [
    "totMov = 0\n",
    "t_start = time.time()\n",
    "\n",
    "for rt in range(200):\n",
    "    state = GR.init_state()\n",
    "    i = 0\n",
    "\n",
    "    ris = (ctypes.c_int * 256)()  # buffer for actions\n",
    "    while i<200000:\n",
    "\n",
    "        ris=GR.getActions(state)\n",
    "        # .EBoard_getNextsActions(board, ris)\n",
    "\n",
    "        num_actions = ris[0]\n",
    "        m = random.randint(1, num_actions)\n",
    "        GR.next_state(state, ris[m])\n",
    "\n",
    "        out = GR.checkStatus(state)\n",
    "        if out != 1:\n",
    "            print(i)\n",
    "            break\n",
    "        totMov += 1\n",
    "        \n",
    "        i += 1\n",
    "\n",
    "    \n",
    "t_end = time.time()\n",
    "print(\"Tempo totale mossa\", (t_end - t_start) /totMov, \"s\")\n",
    "print(totMov)\n"
   ]
  },
  {
   "cell_type": "code",
   "execution_count": 18,
   "id": "43c438f4",
   "metadata": {},
   "outputs": [],
   "source": [
    "state = GR.init_state()\n",
    "ris=GR.getActions(state)\n",
    "GR.next_state(state, ris[0])\n",
    "out = GR.checkStatus(state)\n",
    "        "
   ]
  },
  {
   "cell_type": "code",
   "execution_count": 2,
   "id": "1b63af5c",
   "metadata": {},
   "outputs": [
    {
     "ename": "NameError",
     "evalue": "name 'GR' is not defined",
     "output_type": "error",
     "traceback": [
      "\u001b[0;31m---------------------------------------------------------------------------\u001b[0m",
      "\u001b[0;31mNameError\u001b[0m                                 Traceback (most recent call last)",
      "Cell \u001b[0;32mIn[2], line 1\u001b[0m\n\u001b[0;32m----> 1\u001b[0m ris\u001b[38;5;241m=\u001b[39m\u001b[43mGR\u001b[49m\u001b[38;5;241m.\u001b[39mgetActions(state)\n\u001b[1;32m      2\u001b[0m GR\u001b[38;5;241m.\u001b[39mnext_state(state, ris[\u001b[38;5;241m0\u001b[39m])\n\u001b[1;32m      3\u001b[0m out \u001b[38;5;241m=\u001b[39m GR\u001b[38;5;241m.\u001b[39mcheckStatus(state)\n",
      "\u001b[0;31mNameError\u001b[0m: name 'GR' is not defined"
     ]
    }
   ],
   "source": [
    "\n",
    "ris=GR.getActions(state)\n",
    "GR.next_state(state, ris[0])\n",
    "out = GR.checkStatus(state)"
   ]
  },
  {
   "cell_type": "code",
   "execution_count": null,
   "id": "5c13fbf4-3266-404d-95ba-e9f60706c32e",
   "metadata": {},
   "outputs": [],
   "source": [
    "out"
   ]
  },
  {
   "cell_type": "code",
   "execution_count": null,
   "id": "d34d2095-8f2c-4f9a-8139-2c568e3fcec1",
   "metadata": {},
   "outputs": [],
   "source": [
    "for i in range(1,ris[0]+1):\n",
    "    print(ris[i], actionToString(ris[i]).decode('utf-8'))\n",
    "    printAct(ris[i])\n",
    "    print(\"\")"
   ]
  },
  {
   "cell_type": "code",
   "execution_count": 4,
   "id": "f4c1d923",
   "metadata": {},
   "outputs": [],
   "source": [
    "path = os.path.join(os.getcwd(), \"cpp/engine.dll\")\n",
    "dll = ctypes.CDLL(path)\n",
    "        "
   ]
  },
  {
   "cell_type": "code",
   "execution_count": 18,
   "id": "4ed332b6",
   "metadata": {},
   "outputs": [
    {
     "name": "stdout",
     "output_type": "stream",
     "text": [
      "40282240\n",
      "39449008\n",
      "40510320\n"
     ]
    }
   ],
   "source": [
    "dll._Z10validMovesv.restype=ctypes.POINTER(ctypes.POINTER(ctypes.c_char))# ctypes.POINTER(ctypes.c_char_p)\n",
    "r=dll._Z10validMovesv()\n"
   ]
  },
  {
   "cell_type": "code",
   "execution_count": 25,
   "id": "e0c73686",
   "metadata": {},
   "outputs": [
    {
     "data": {
      "text/plain": [
       "b'\\x05'"
      ]
     },
     "execution_count": 25,
     "metadata": {},
     "output_type": "execute_result"
    }
   ],
   "source": [
    "r[2][5]"
   ]
  },
  {
   "cell_type": "code",
   "execution_count": 21,
   "id": "92f36827",
   "metadata": {},
   "outputs": [
    {
     "ename": "NameError",
     "evalue": "name 'game_rule' is not defined",
     "output_type": "error",
     "traceback": [
      "\u001b[0;31m---------------------------------------------------------------------------\u001b[0m",
      "\u001b[0;31mNameError\u001b[0m                                 Traceback (most recent call last)",
      "Cell \u001b[0;32mIn[21], line 1\u001b[0m\n\u001b[0;32m----> 1\u001b[0m \u001b[38;5;28;01mclass\u001b[39;00m \u001b[38;5;21;01mgame_rule_cpp_imp\u001b[39;00m(\u001b[43mgame_rule\u001b[49m):\n\u001b[1;32m      2\u001b[0m     \u001b[38;5;28;01mdef\u001b[39;00m \u001b[38;5;21m__init__\u001b[39m(\u001b[38;5;28mself\u001b[39m):\n\u001b[1;32m      3\u001b[0m         path \u001b[38;5;241m=\u001b[39m os\u001b[38;5;241m.\u001b[39mpath\u001b[38;5;241m.\u001b[39mjoin(os\u001b[38;5;241m.\u001b[39mgetcwd(), \u001b[38;5;124m\"\u001b[39m\u001b[38;5;124mcpp/engine.dll\u001b[39m\u001b[38;5;124m\"\u001b[39m)\n",
      "\u001b[0;31mNameError\u001b[0m: name 'game_rule' is not defined"
     ]
    }
   ],
   "source": [
    "class game_rule_cpp_imp(game_rule):\n",
    "    def __init__(self):\n",
    "        path = os.path.join(os.getcwd(), \"cpp/engine.dll\")\n",
    "        self.dll = ctypes.CDLL(path)\n",
    "        self._setup_functions()\n",
    "\n",
    "\n",
    "    def _setup_functions(self):\n",
    "        # Set up game functions\n",
    "        self.dll._Z10init_statev.restype = ctypes.c_uint64*32;\n",
    "        \n",
    "        self.dll._Z10next_statePmm.argtypes = [ctypes.c_uint64*32];\n",
    "        self.dll._Z10next_statePmm.restype = ctypes.c_uint64*5;\n",
    "        \n",
    "        self.dll._Z10getActionsPm.argtypes = [ctypes.c_uint64*32];\n",
    "        self.dll._Z10getActionsPm.restype = ctypes.c_uint64*512;\n",
    "        \n",
    "        self.dll._Z11checkStatusPm.argtypes = [ctypes.c_uint64*32];\n",
    "        self.dll._Z11checkStatusPm.restype = ctypes.c_ushort;\n",
    "        \n",
    "    def init_state(self):\n",
    "        return self.dll._Z10init_statev()\n",
    "    \n",
    "    def next_state(self,state,action):\n",
    "        return self.dll._Z10next_statePmm(state,action)\n",
    "    \n",
    "    def getActions(self,state):\n",
    "        return self.dll._Z10next_statePmm(state)\n",
    "    \n",
    "    def checkStatus(self,state):\n",
    "        return self.dll._Z11checkStatusPm(state)"
   ]
  },
  {
   "cell_type": "code",
   "execution_count": null,
   "id": "e2258704",
   "metadata": {},
   "outputs": [],
   "source": [
    "a=game_rule_cpp_imp()"
   ]
  },
  {
   "cell_type": "code",
   "execution_count": null,
   "id": "23a1f746",
   "metadata": {},
   "outputs": [],
   "source": [
    "a.init_state()"
   ]
  },
  {
   "cell_type": "code",
   "execution_count": 2,
   "id": "b91c1435",
   "metadata": {},
   "outputs": [],
   "source": [
    "from game_rule import DLLGameRule \n",
    "GR=DLLGameRule()\n",
    "import time\n",
    "import random\n",
    "import ctypes\n",
    "import math\n",
    "import time"
   ]
  },
  {
   "cell_type": "code",
   "execution_count": 3,
   "id": "484c82ad",
   "metadata": {},
   "outputs": [],
   "source": [
    "evN=0\n",
    "\"\"\"def minimax(game, state, depth, maximizing_player):\n",
    "    global evN\n",
    "    status = game.checkStatus(state)\n",
    "    if depth == 0:\n",
    "        if status == 3:\n",
    "            return 1000, None  # White wins\n",
    "        elif status == 4:\n",
    "            return -1000, None  # Black wins\n",
    "        else:\n",
    "            evN+=1\n",
    "            return game.calcVal(state), None  # Non-terminal, evaluate\n",
    "\n",
    "    best_action = None\n",
    "\n",
    "    if maximizing_player:\n",
    "        max_eval = -math.inf\n",
    "        actions = game.getActions(state)\n",
    "        for i in range(1,actions[0]+1):\n",
    "            action=actions[i]\n",
    "            if action == 0:\n",
    "                continue\n",
    "            new_state = game.copyBoard(state)\n",
    "            game.next_state(new_state, action)\n",
    "            evalV, _ = minimax(game, new_state, depth - 1, False)\n",
    "            if evalV > max_eval:\n",
    "                max_eval = evalV\n",
    "                best_action = action\n",
    "            game.delBoard(new_state)\n",
    "        return max_eval, best_action\n",
    "    else:\n",
    "        min_eval = math.inf\n",
    "        actions = game.getActions(state)\n",
    "        for i in range(actions[0]):\n",
    "            action=actions[i]\n",
    "            if action == 0:\n",
    "                continue\n",
    "            new_state = game.copyBoard(state)\n",
    "            game.next_state(new_state, action)\n",
    "            evalV, _ = minimax(game, new_state, depth - 1, True)\n",
    "            if evalV < min_eval:\n",
    "                min_eval = evalV\n",
    "                best_action = action\n",
    "            game.delBoard(new_state)\n",
    "        return min_eval, best_action\n",
    "        \n",
    "        \"\"\""
   ]
  },
  {
   "cell_type": "code",
   "execution_count": 1,
   "id": "0d1b9d84-8cc1-43e5-8253-7f67f1bd3ee8",
   "metadata": {},
   "outputs": [
    {
     "ename": "NameError",
     "evalue": "name 'GR' is not defined",
     "output_type": "error",
     "traceback": [
      "\u001b[0;31m---------------------------------------------------------------------------\u001b[0m",
      "\u001b[0;31mNameError\u001b[0m                                 Traceback (most recent call last)",
      "Cell \u001b[0;32mIn[1], line 1\u001b[0m\n\u001b[0;32m----> 1\u001b[0m state \u001b[38;5;241m=\u001b[39m \u001b[43mGR\u001b[49m\u001b[38;5;241m.\u001b[39minit_state()\n\u001b[1;32m      2\u001b[0m i \u001b[38;5;241m=\u001b[39m \u001b[38;5;241m0\u001b[39m\n\u001b[1;32m      3\u001b[0m totMov\u001b[38;5;241m=\u001b[39m\u001b[38;5;241m0\u001b[39m\n",
      "\u001b[0;31mNameError\u001b[0m: name 'GR' is not defined"
     ]
    }
   ],
   "source": [
    "\n",
    "state = GR.init_state()\n",
    "i = 0\n",
    "totMov=0\n",
    "ris = (ctypes.c_int64 * 256)()  # buffer for actions\n",
    "while i<200000:\n",
    "    \n",
    "    #ris=GR.getActions(state)\n",
    "    # .EBoard_getNextsActions(board, ris)\n",
    "    \n",
    "    num_actions = ris[0]\n",
    "    score, best_action = minimax(GR, state, depth=2, maximizing_player=True)\n",
    "    print(\"Eval:\" ,evN)\n",
    "    print(best_action)\n",
    "    time.sleep(1)\n",
    "    out = GR.checkStatus(state)\n",
    "    if out != 1:\n",
    "        print(i)\n",
    "        break\n",
    "    totMov += 1\n",
    "    GR.next_state(state, best_action)\n",
    "\n",
    "    i += 1\n"
   ]
  },
  {
   "cell_type": "code",
   "execution_count": null,
   "id": "851e4207-1739-4aaf-8ffa-abded1db2793",
   "metadata": {},
   "outputs": [],
   "source": []
  },
  {
   "cell_type": "code",
   "execution_count": 3,
   "id": "a4d276a2-45c1-4eeb-a285-79b3388eec8f",
   "metadata": {},
   "outputs": [],
   "source": []
  },
  {
   "cell_type": "code",
   "execution_count": 1,
   "id": "0fc60652-5039-4dd4-bbcc-72b99130173b",
   "metadata": {},
   "outputs": [],
   "source": [
    "from game_rule import DLLGameRule \n",
    "GR=DLLGameRule()\n",
    "import time\n",
    "import random\n",
    "import ctypes\n",
    "import math\n",
    "import time"
   ]
  },
  {
   "cell_type": "code",
   "execution_count": 4,
   "id": "40909615-65f9-4c90-8f2d-e1c618bba863",
   "metadata": {},
   "outputs": [],
   "source": [
    "import random\n",
    "\n",
    "# contatore globale di valutazioni statiche\n",
    "evN = 0\n",
    "\n",
    "def minimax(state, depth, maximizing_player, w, alpha=-1e9, beta=+1e9, currentTurn=0):\n",
    "    \"\"\"\n",
    "    Restituisce (valore, migliore_azione)\n",
    "    \"\"\"\n",
    "    global evN\n",
    "\n",
    "    # 1) verifica immediata di terminale\n",
    "    status = GR.checkStatus(state)\n",
    "    if status != 1:  # 1 == ongoing\n",
    "        t = currentTurn% 2 == 0\n",
    "        # se è vittoria per chi muove in questo stato\n",
    "        if (status == 3 and t == 0) or (status == 4 and t == 1):\n",
    "            return +1000, None\n",
    "        else:\n",
    "            return -1000, None\n",
    "\n",
    "    # 2) cutoff di profondità → valutazione statica\n",
    "    if depth == 0:\n",
    "        evN += 1\n",
    "        return GR.calcVal(state, w), None\n",
    "\n",
    "    actions = GR.getActions(state)  # es. [n, a1, a2, ..., a_n]\n",
    "    n = actions[0]\n",
    "    best_action = actions[1]\n",
    "    \n",
    "    if maximizing_player:\n",
    "        max_eval = -1e9\n",
    "        for i in range(1, n+1):\n",
    "            action = actions[i]\n",
    "            child = GR.copyBoard(state)\n",
    "            GR.next_state(child, action)\n",
    "            evalV, _ = minimax(child, depth-1, False, w, alpha, beta,currentTurn=currentTurn+1)\n",
    "            GR.delBoard(child)\n",
    "\n",
    "            if evalV > max_eval:\n",
    "                max_eval = evalV\n",
    "                best_action = action\n",
    "\n",
    "            alpha = max(alpha, evalV)\n",
    "            if beta <= alpha:\n",
    "                break  # β-cut\n",
    "\n",
    "        return max_eval, best_action\n",
    "\n",
    "    else:\n",
    "        min_eval = +1e9\n",
    "        for i in range(1, n+1):\n",
    "            action = actions[i]\n",
    "            child = GR.copyBoard(state)\n",
    "            GR.next_state(child, action)\n",
    "            evalV, _ = minimax(child, depth-1, True, w, alpha, beta,currentTurn=currentTurn+1)\n",
    "            GR.delBoard(child)\n",
    "\n",
    "            if evalV < min_eval:\n",
    "                min_eval = evalV\n",
    "                best_action = action\n",
    "\n",
    "            beta = min(beta, evalV)\n",
    "            if beta <= alpha:\n",
    "                break  # α-cut\n",
    "\n",
    "        return min_eval, best_action\n",
    "\n",
    "\n",
    "def main():\n",
    "    Win = [0, 0]\n",
    "    \n",
    "    w=(ctypes.c_double * 6)(0,0,0,1,-2,30)\n",
    "\n",
    "    for Q in range(100):\n",
    "        state = GR.init_state()\n",
    "        i = 0\n",
    "        totMov = 0\n",
    "        while i < 300:\n",
    "            global evN\n",
    "            if i % 2 == 0:\n",
    "                evN = 0\n",
    "                score, best_action = minimax(state, 4, True, w,currentTurn=i+1)\n",
    "                #print(f\"Score:: {score}\")\n",
    "            else:\n",
    "                actions = GR.getActions(state)\n",
    "                # scelta casuale per il secondo giocatore\n",
    "                m = random.randint(1, actions[0])\n",
    "                best_action = actions[m]\n",
    "\n",
    "            #print(f\"Best action with: {evN} iteration for turn {i}\")\n",
    "            GR.next_state(state, best_action)\n",
    "            totMov += 1\n",
    "            i += 1\n",
    "\n",
    "            status = GR.checkStatus(state)\n",
    "            if status != 1:\n",
    "                Win[i % 2] += 1\n",
    "                break\n",
    "        GR.delBoard(state)\n",
    "        print(f\"Win: {Win[0]}   {Win[1]}\")"
   ]
  },
  {
   "cell_type": "code",
   "execution_count": 5,
   "id": "fc683528-a804-4424-824c-5e3c628c7ef4",
   "metadata": {},
   "outputs": [
    {
     "name": "stdout",
     "output_type": "stream",
     "text": [
      "Win: 0   1\n",
      "Win: 0   1\n",
      "Win: 0   1\n",
      "Win: 0   2\n"
     ]
    },
    {
     "ename": "KeyboardInterrupt",
     "evalue": "",
     "output_type": "error",
     "traceback": [
      "\u001b[0;31m---------------------------------------------------------------------------\u001b[0m",
      "\u001b[0;31mKeyboardInterrupt\u001b[0m                         Traceback (most recent call last)",
      "Cell \u001b[0;32mIn[5], line 1\u001b[0m\n\u001b[0;32m----> 1\u001b[0m \u001b[43mmain\u001b[49m\u001b[43m(\u001b[49m\u001b[43m)\u001b[49m\n",
      "Cell \u001b[0;32mIn[4], line 83\u001b[0m, in \u001b[0;36mmain\u001b[0;34m()\u001b[0m\n\u001b[1;32m     81\u001b[0m \u001b[38;5;28;01mif\u001b[39;00m i \u001b[38;5;241m%\u001b[39m \u001b[38;5;241m2\u001b[39m \u001b[38;5;241m==\u001b[39m \u001b[38;5;241m0\u001b[39m:\n\u001b[1;32m     82\u001b[0m     evN \u001b[38;5;241m=\u001b[39m \u001b[38;5;241m0\u001b[39m\n\u001b[0;32m---> 83\u001b[0m     score, best_action \u001b[38;5;241m=\u001b[39m \u001b[43mminimax\u001b[49m\u001b[43m(\u001b[49m\u001b[43mstate\u001b[49m\u001b[43m,\u001b[49m\u001b[43m \u001b[49m\u001b[38;5;241;43m3\u001b[39;49m\u001b[43m,\u001b[49m\u001b[43m \u001b[49m\u001b[38;5;28;43;01mTrue\u001b[39;49;00m\u001b[43m,\u001b[49m\u001b[43m \u001b[49m\u001b[43mw\u001b[49m\u001b[43m,\u001b[49m\u001b[43mcurrentTurn\u001b[49m\u001b[38;5;241;43m=\u001b[39;49m\u001b[43mi\u001b[49m\u001b[38;5;241;43m+\u001b[39;49m\u001b[38;5;241;43m1\u001b[39;49m\u001b[43m)\u001b[49m\n\u001b[1;32m     84\u001b[0m     \u001b[38;5;66;03m#print(f\"Score:: {score}\")\u001b[39;00m\n\u001b[1;32m     85\u001b[0m \u001b[38;5;28;01melse\u001b[39;00m:\n\u001b[1;32m     86\u001b[0m     actions \u001b[38;5;241m=\u001b[39m GR\u001b[38;5;241m.\u001b[39mgetActions(state)\n",
      "Cell \u001b[0;32mIn[4], line 37\u001b[0m, in \u001b[0;36mminimax\u001b[0;34m(state, depth, maximizing_player, w, alpha, beta, currentTurn)\u001b[0m\n\u001b[1;32m     35\u001b[0m child \u001b[38;5;241m=\u001b[39m GR\u001b[38;5;241m.\u001b[39mcopyBoard(state)\n\u001b[1;32m     36\u001b[0m GR\u001b[38;5;241m.\u001b[39mnext_state(child, action)\n\u001b[0;32m---> 37\u001b[0m evalV, _ \u001b[38;5;241m=\u001b[39m \u001b[43mminimax\u001b[49m\u001b[43m(\u001b[49m\u001b[43mchild\u001b[49m\u001b[43m,\u001b[49m\u001b[43m \u001b[49m\u001b[43mdepth\u001b[49m\u001b[38;5;241;43m-\u001b[39;49m\u001b[38;5;241;43m1\u001b[39;49m\u001b[43m,\u001b[49m\u001b[43m \u001b[49m\u001b[38;5;28;43;01mFalse\u001b[39;49;00m\u001b[43m,\u001b[49m\u001b[43m \u001b[49m\u001b[43mw\u001b[49m\u001b[43m,\u001b[49m\u001b[43m \u001b[49m\u001b[43malpha\u001b[49m\u001b[43m,\u001b[49m\u001b[43m \u001b[49m\u001b[43mbeta\u001b[49m\u001b[43m,\u001b[49m\u001b[43mcurrentTurn\u001b[49m\u001b[38;5;241;43m=\u001b[39;49m\u001b[43mcurrentTurn\u001b[49m\u001b[38;5;241;43m+\u001b[39;49m\u001b[38;5;241;43m1\u001b[39;49m\u001b[43m)\u001b[49m\n\u001b[1;32m     38\u001b[0m GR\u001b[38;5;241m.\u001b[39mdelBoard(child)\n\u001b[1;32m     40\u001b[0m \u001b[38;5;28;01mif\u001b[39;00m evalV \u001b[38;5;241m>\u001b[39m max_eval:\n",
      "Cell \u001b[0;32mIn[4], line 56\u001b[0m, in \u001b[0;36mminimax\u001b[0;34m(state, depth, maximizing_player, w, alpha, beta, currentTurn)\u001b[0m\n\u001b[1;32m     54\u001b[0m child \u001b[38;5;241m=\u001b[39m GR\u001b[38;5;241m.\u001b[39mcopyBoard(state)\n\u001b[1;32m     55\u001b[0m GR\u001b[38;5;241m.\u001b[39mnext_state(child, action)\n\u001b[0;32m---> 56\u001b[0m evalV, _ \u001b[38;5;241m=\u001b[39m \u001b[43mminimax\u001b[49m\u001b[43m(\u001b[49m\u001b[43mchild\u001b[49m\u001b[43m,\u001b[49m\u001b[43m \u001b[49m\u001b[43mdepth\u001b[49m\u001b[38;5;241;43m-\u001b[39;49m\u001b[38;5;241;43m1\u001b[39;49m\u001b[43m,\u001b[49m\u001b[43m \u001b[49m\u001b[38;5;28;43;01mTrue\u001b[39;49;00m\u001b[43m,\u001b[49m\u001b[43m \u001b[49m\u001b[43mw\u001b[49m\u001b[43m,\u001b[49m\u001b[43m \u001b[49m\u001b[43malpha\u001b[49m\u001b[43m,\u001b[49m\u001b[43m \u001b[49m\u001b[43mbeta\u001b[49m\u001b[43m,\u001b[49m\u001b[43mcurrentTurn\u001b[49m\u001b[38;5;241;43m=\u001b[39;49m\u001b[43mcurrentTurn\u001b[49m\u001b[38;5;241;43m+\u001b[39;49m\u001b[38;5;241;43m1\u001b[39;49m\u001b[43m)\u001b[49m\n\u001b[1;32m     57\u001b[0m GR\u001b[38;5;241m.\u001b[39mdelBoard(child)\n\u001b[1;32m     59\u001b[0m \u001b[38;5;28;01mif\u001b[39;00m evalV \u001b[38;5;241m<\u001b[39m min_eval:\n",
      "Cell \u001b[0;32mIn[4], line 35\u001b[0m, in \u001b[0;36mminimax\u001b[0;34m(state, depth, maximizing_player, w, alpha, beta, currentTurn)\u001b[0m\n\u001b[1;32m     33\u001b[0m \u001b[38;5;28;01mfor\u001b[39;00m i \u001b[38;5;129;01min\u001b[39;00m \u001b[38;5;28mrange\u001b[39m(\u001b[38;5;241m1\u001b[39m, n\u001b[38;5;241m+\u001b[39m\u001b[38;5;241m1\u001b[39m):\n\u001b[1;32m     34\u001b[0m     action \u001b[38;5;241m=\u001b[39m actions[i]\n\u001b[0;32m---> 35\u001b[0m     child \u001b[38;5;241m=\u001b[39m \u001b[43mGR\u001b[49m\u001b[38;5;241;43m.\u001b[39;49m\u001b[43mcopyBoard\u001b[49m\u001b[43m(\u001b[49m\u001b[43mstate\u001b[49m\u001b[43m)\u001b[49m\n\u001b[1;32m     36\u001b[0m     GR\u001b[38;5;241m.\u001b[39mnext_state(child, action)\n\u001b[1;32m     37\u001b[0m     evalV, _ \u001b[38;5;241m=\u001b[39m minimax(child, depth\u001b[38;5;241m-\u001b[39m\u001b[38;5;241m1\u001b[39m, \u001b[38;5;28;01mFalse\u001b[39;00m, w, alpha, beta,currentTurn\u001b[38;5;241m=\u001b[39mcurrentTurn\u001b[38;5;241m+\u001b[39m\u001b[38;5;241m1\u001b[39m)\n",
      "\u001b[0;31mKeyboardInterrupt\u001b[0m: "
     ]
    }
   ],
   "source": [
    "main()"
   ]
  },
  {
   "cell_type": "code",
   "execution_count": null,
   "id": "4aa9ab25-b1cc-426d-8ac8-989feca73e55",
   "metadata": {},
   "outputs": [],
   "source": []
  }
 ],
 "metadata": {
  "kernelspec": {
   "display_name": "Python 3 (ipykernel)",
   "language": "python",
   "name": "python3"
  },
  "language_info": {
   "codemirror_mode": {
    "name": "ipython",
    "version": 3
   },
   "file_extension": ".py",
   "mimetype": "text/x-python",
   "name": "python",
   "nbconvert_exporter": "python",
   "pygments_lexer": "ipython3",
   "version": "3.10.9"
  }
 },
 "nbformat": 4,
 "nbformat_minor": 5
}
