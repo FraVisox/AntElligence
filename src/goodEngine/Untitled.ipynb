{
 "cells": [
  {
   "cell_type": "code",
   "execution_count": 1,
   "id": "98b0835a",
   "metadata": {},
   "outputs": [],
   "source": [
    "\n",
    "import ctypes\n",
    "import os\n",
    "from abc import ABC, abstractmethod\n"
   ]
  },
  {
   "cell_type": "code",
   "execution_count": 2,
   "id": "6d4968a3",
   "metadata": {},
   "outputs": [],
   "source": [
    "path = os.path.join(os.getcwd(), \"cpp/interface.so\")\n",
    "dll = ctypes.CDLL(path)\n",
    "\n",
    "getBoard=dll._Z10base_statei\n",
    "copyBoard=dll._Z9copyBoardP6EBoard\n",
    "updateState=dll._Z10next_stateP6EBoardl\n",
    "getAction=dll._Z10getActionsP6EBoardPl\n",
    "actionToString=dll._Z14actionToStringl\n",
    "printAct=dll._Z16printActionFancyl\n",
    "\n",
    "actionToString.restype = ctypes.c_char_p\n",
    "actionToString.argtypes = [ctypes.c_int64]\n",
    "printAct.argtypes = [ctypes.c_int64]\n",
    "getAction.argtypes = [ctypes.c_void_p,ctypes.POINTER(ctypes.c_int64)]"
   ]
  },
  {
   "cell_type": "code",
   "execution_count": 3,
   "id": "04cf47f2-f32d-40e6-a2d6-ebda4bc62da7",
   "metadata": {},
   "outputs": [],
   "source": [
    "b=getBoard()"
   ]
  },
  {
   "cell_type": "code",
   "execution_count": 4,
   "id": "e5451da3",
   "metadata": {},
   "outputs": [],
   "source": [
    "RisType = ctypes.c_int64 * 256;\n",
    "\n",
    "ris=RisType()\n",
    "ris[0]=2"
   ]
  },
  {
   "cell_type": "code",
   "execution_count": 5,
   "id": "3372e96d-71b3-4b4b-97cc-cf6e63b07e30",
   "metadata": {},
   "outputs": [
    {
     "data": {
      "text/plain": [
       "1745867667.2981756"
      ]
     },
     "execution_count": 5,
     "metadata": {},
     "output_type": "execute_result"
    }
   ],
   "source": [
    "import time\n",
    "time.time()"
   ]
  },
  {
   "cell_type": "code",
   "execution_count": 5,
   "id": "929586a3-1742-4276-9575-f1e726f78feb",
   "metadata": {},
   "outputs": [],
   "source": [
    "from game_rule import DLLGameRule \n",
    "GR=DLLGameRule()\n",
    "import time\n",
    "import random\n",
    "import ctypes\n",
    "import math\n",
    "import time"
   ]
  },
  {
   "cell_type": "code",
   "execution_count": 9,
   "id": "243e945e",
   "metadata": {},
   "outputs": [
    {
     "name": "stdout",
     "output_type": "stream",
     "text": [
      "1107\n",
      "818\n",
      "1106\n",
      "2771\n",
      "947\n",
      "7678\n",
      "1707\n",
      "562\n",
      "1381\n",
      "2836\n",
      "3050\n",
      "817\n",
      "381\n",
      "431\n",
      "1399\n",
      "5478\n",
      "1337\n",
      "927\n",
      "1069\n",
      "2495\n",
      "631\n",
      "964\n",
      "2088\n",
      "608\n",
      "2716\n",
      "91\n",
      "854\n",
      "1481\n",
      "3187\n",
      "9762\n",
      "200\n",
      "2293\n",
      "3672\n",
      "519\n",
      "3519\n",
      "6542\n",
      "3388\n",
      "895\n",
      "1486\n",
      "135\n",
      "1518\n",
      "2183\n",
      "358\n",
      "1557\n",
      "2557\n",
      "1632\n",
      "1105\n",
      "1894\n",
      "528\n",
      "2745\n",
      "3321\n",
      "2430\n",
      "9095\n",
      "108\n",
      "1730\n",
      "1952\n",
      "2943\n",
      "6051\n",
      "4308\n",
      "1595\n",
      "502\n",
      "641\n",
      "3207\n",
      "521\n",
      "1715\n",
      "2183\n",
      "4135\n",
      "6634\n",
      "3301\n",
      "6524\n",
      "2763\n",
      "245\n",
      "2754\n",
      "3749\n",
      "342\n",
      "3868\n",
      "8173\n",
      "4456\n",
      "140\n",
      "1801\n",
      "4247\n",
      "869\n",
      "1364\n",
      "9288\n",
      "3050\n",
      "1965\n",
      "244\n",
      "3172\n",
      "6020\n",
      "288\n",
      "713\n",
      "390\n",
      "3262\n",
      "144\n",
      "7616\n",
      "731\n",
      "58\n",
      "3237\n",
      "429\n",
      "1063\n",
      "8066\n",
      "3622\n",
      "31\n",
      "599\n",
      "1382\n",
      "4185\n",
      "1304\n",
      "443\n",
      "654\n",
      "2777\n",
      "3339\n",
      "2264\n",
      "1292\n",
      "1477\n",
      "813\n",
      "528\n",
      "4894\n",
      "550\n",
      "137\n",
      "4978\n",
      "4345\n",
      "482\n",
      "2655\n",
      "2441\n",
      "2242\n",
      "4080\n",
      "2597\n",
      "582\n",
      "1224\n",
      "3810\n",
      "3736\n",
      "218\n",
      "49\n",
      "310\n",
      "719\n",
      "1061\n",
      "69\n",
      "3420\n",
      "1133\n",
      "9078\n",
      "1349\n",
      "410\n",
      "2308\n",
      "5264\n",
      "3415\n",
      "3258\n",
      "1650\n",
      "7374\n",
      "1396\n",
      "358\n",
      "1614\n",
      "729\n",
      "12665\n",
      "1874\n",
      "422\n",
      "237\n",
      "3629\n",
      "1355\n",
      "388\n",
      "3116\n",
      "904\n",
      "1163\n",
      "1399\n",
      "454\n",
      "3855\n",
      "2849\n",
      "1911\n",
      "5437\n",
      "7499\n",
      "5647\n",
      "383\n",
      "1974\n",
      "1308\n",
      "5192\n",
      "13883\n",
      "980\n",
      "1255\n",
      "344\n",
      "3551\n",
      "3214\n",
      "4307\n",
      "4098\n",
      "13825\n",
      "648\n",
      "952\n",
      "2514\n",
      "1815\n",
      "963\n",
      "12421\n",
      "6901\n",
      "441\n",
      "342\n",
      "1627\n",
      "1828\n",
      "1580\n",
      "5750\n",
      "4460\n",
      "10879\n",
      "1100\n",
      "918\n",
      "Tempo totale mossa 2.6563900228264275e-05 s\n",
      "519710\n"
     ]
    }
   ],
   "source": [
    "totMov = 0\n",
    "t_start = time.time()\n",
    "\n",
    "for rt in range(200):\n",
    "    state = GR.init_state()\n",
    "    i = 0\n",
    "\n",
    "    ris = (ctypes.c_int * 256)()  # buffer for actions\n",
    "    while i<200000:\n",
    "\n",
    "        ris=GR.getActions(state)\n",
    "        # .EBoard_getNextsActions(board, ris)\n",
    "\n",
    "        num_actions = ris[0]\n",
    "        m = random.randint(1, num_actions)\n",
    "        GR.next_state(state, ris[m])\n",
    "\n",
    "        out = GR.checkStatus(state)\n",
    "        if out != 1:\n",
    "            print(i)\n",
    "            break\n",
    "        totMov += 1\n",
    "        \n",
    "        i += 1\n",
    "\n",
    "    \n",
    "t_end = time.time()\n",
    "print(\"Tempo totale mossa\", (t_end - t_start) /totMov, \"s\")\n",
    "print(totMov)\n"
   ]
  },
  {
   "cell_type": "code",
   "execution_count": 18,
   "id": "43c438f4",
   "metadata": {},
   "outputs": [],
   "source": [
    "state = GR.init_state()\n",
    "ris=GR.getActions(state)\n",
    "GR.next_state(state, ris[0])\n",
    "out = GR.checkStatus(state)\n",
    "        "
   ]
  },
  {
   "cell_type": "code",
   "execution_count": 2,
   "id": "1b63af5c",
   "metadata": {},
   "outputs": [
    {
     "ename": "NameError",
     "evalue": "name 'GR' is not defined",
     "output_type": "error",
     "traceback": [
      "\u001b[0;31m---------------------------------------------------------------------------\u001b[0m",
      "\u001b[0;31mNameError\u001b[0m                                 Traceback (most recent call last)",
      "Cell \u001b[0;32mIn[2], line 1\u001b[0m\n\u001b[0;32m----> 1\u001b[0m ris\u001b[38;5;241m=\u001b[39m\u001b[43mGR\u001b[49m\u001b[38;5;241m.\u001b[39mgetActions(state)\n\u001b[1;32m      2\u001b[0m GR\u001b[38;5;241m.\u001b[39mnext_state(state, ris[\u001b[38;5;241m0\u001b[39m])\n\u001b[1;32m      3\u001b[0m out \u001b[38;5;241m=\u001b[39m GR\u001b[38;5;241m.\u001b[39mcheckStatus(state)\n",
      "\u001b[0;31mNameError\u001b[0m: name 'GR' is not defined"
     ]
    }
   ],
   "source": [
    "\n",
    "ris=GR.getActions(state)\n",
    "GR.next_state(state, ris[0])\n",
    "out = GR.checkStatus(state)"
   ]
  },
  {
   "cell_type": "code",
   "execution_count": null,
   "id": "5c13fbf4-3266-404d-95ba-e9f60706c32e",
   "metadata": {},
   "outputs": [],
   "source": [
    "out"
   ]
  },
  {
   "cell_type": "code",
   "execution_count": null,
   "id": "d34d2095-8f2c-4f9a-8139-2c568e3fcec1",
   "metadata": {},
   "outputs": [],
   "source": [
    "for i in range(1,ris[0]+1):\n",
    "    print(ris[i], actionToString(ris[i]).decode('utf-8'))\n",
    "    printAct(ris[i])\n",
    "    print(\"\")"
   ]
  },
  {
   "cell_type": "code",
   "execution_count": 4,
   "id": "f4c1d923",
   "metadata": {},
   "outputs": [],
   "source": [
    "path = os.path.join(os.getcwd(), \"cpp/engine.dll\")\n",
    "dll = ctypes.CDLL(path)\n",
    "        "
   ]
  },
  {
   "cell_type": "code",
   "execution_count": 18,
   "id": "4ed332b6",
   "metadata": {},
   "outputs": [
    {
     "name": "stdout",
     "output_type": "stream",
     "text": [
      "40282240\n",
      "39449008\n",
      "40510320\n"
     ]
    }
   ],
   "source": [
    "dll._Z10validMovesv.restype=ctypes.POINTER(ctypes.POINTER(ctypes.c_char))# ctypes.POINTER(ctypes.c_char_p)\n",
    "r=dll._Z10validMovesv()\n"
   ]
  },
  {
   "cell_type": "code",
   "execution_count": 25,
   "id": "e0c73686",
   "metadata": {},
   "outputs": [
    {
     "data": {
      "text/plain": [
       "b'\\x05'"
      ]
     },
     "execution_count": 25,
     "metadata": {},
     "output_type": "execute_result"
    }
   ],
   "source": [
    "r[2][5]"
   ]
  },
  {
   "cell_type": "code",
   "execution_count": 3,
   "id": "92f36827",
   "metadata": {},
   "outputs": [
    {
     "ename": "NameError",
     "evalue": "name 'game_rule' is not defined",
     "output_type": "error",
     "traceback": [
      "\u001b[0;31m---------------------------------------------------------------------------\u001b[0m",
      "\u001b[0;31mNameError\u001b[0m                                 Traceback (most recent call last)",
      "Cell \u001b[0;32mIn[3], line 1\u001b[0m\n\u001b[0;32m----> 1\u001b[0m \u001b[38;5;28;01mclass\u001b[39;00m \u001b[38;5;21;01mgame_rule_cpp_imp\u001b[39;00m(\u001b[43mgame_rule\u001b[49m):\n\u001b[1;32m      2\u001b[0m     \u001b[38;5;28;01mdef\u001b[39;00m \u001b[38;5;21m__init__\u001b[39m(\u001b[38;5;28mself\u001b[39m):\n\u001b[1;32m      3\u001b[0m         path \u001b[38;5;241m=\u001b[39m os\u001b[38;5;241m.\u001b[39mpath\u001b[38;5;241m.\u001b[39mjoin(os\u001b[38;5;241m.\u001b[39mgetcwd(), \u001b[38;5;124m\"\u001b[39m\u001b[38;5;124mcpp/engine.dll\u001b[39m\u001b[38;5;124m\"\u001b[39m)\n",
      "\u001b[0;31mNameError\u001b[0m: name 'game_rule' is not defined"
     ]
    }
   ],
   "source": [
    "class game_rule_cpp_imp(game_rule):\n",
    "    def __init__(self):\n",
    "        path = os.path.join(os.getcwd(), \"cpp/engine.dll\")\n",
    "        self.dll = ctypes.CDLL(path)\n",
    "        self._setup_functions()\n",
    "\n",
    "\n",
    "    def _setup_functions(self):\n",
    "        # Set up game functions\n",
    "        self.dll._Z10init_statev.restype = ctypes.c_uint64*32;\n",
    "        \n",
    "        self.dll._Z10next_statePmm.argtypes = [ctypes.c_uint64*32];\n",
    "        self.dll._Z10next_statePmm.restype = ctypes.c_uint64*5;\n",
    "        \n",
    "        self.dll._Z10getActionsPm.argtypes = [ctypes.c_uint64*32];\n",
    "        self.dll._Z10getActionsPm.restype = ctypes.c_uint64*512;\n",
    "        \n",
    "        self.dll._Z11checkStatusPm.argtypes = [ctypes.c_uint64*32];\n",
    "        self.dll._Z11checkStatusPm.restype = ctypes.c_ushort;\n",
    "        \n",
    "    def init_state(self):\n",
    "        return self.dll._Z10init_statev()\n",
    "    \n",
    "    def next_state(self,state,action):\n",
    "        return self.dll._Z10next_statePmm(state,action)\n",
    "    \n",
    "    def getActions(self,state):\n",
    "        return self.dll._Z10next_statePmm(state)\n",
    "    \n",
    "    def checkStatus(self,state):\n",
    "        return self.dll._Z11checkStatusPm(state)"
   ]
  },
  {
   "cell_type": "code",
   "execution_count": null,
   "id": "e2258704",
   "metadata": {},
   "outputs": [],
   "source": [
    "a=game_rule_cpp_imp()"
   ]
  },
  {
   "cell_type": "code",
   "execution_count": null,
   "id": "23a1f746",
   "metadata": {},
   "outputs": [],
   "source": [
    "a.init_state()"
   ]
  },
  {
   "cell_type": "code",
   "execution_count": 4,
   "id": "b91c1435",
   "metadata": {},
   "outputs": [],
   "source": [
    "from game_rule import DLLGameRule \n",
    "GR=DLLGameRule()\n",
    "import time\n",
    "import random\n",
    "import ctypes\n",
    "import math\n",
    "import time"
   ]
  },
  {
   "cell_type": "code",
   "execution_count": 5,
   "id": "484c82ad",
   "metadata": {},
   "outputs": [
    {
     "data": {
      "text/plain": [
       "'def minimax(game, state, depth, maximizing_player):\\n    global evN\\n    status = game.checkStatus(state)\\n    if depth == 0:\\n        if status == 3:\\n            return 1000, None  # White wins\\n        elif status == 4:\\n            return -1000, None  # Black wins\\n        else:\\n            evN+=1\\n            return game.calcVal(state), None  # Non-terminal, evaluate\\n\\n    best_action = None\\n\\n    if maximizing_player:\\n        max_eval = -math.inf\\n        actions = game.getActions(state)\\n        for i in range(1,actions[0]+1):\\n            action=actions[i]\\n            if action == 0:\\n                continue\\n            new_state = game.copyBoard(state)\\n            game.next_state(new_state, action)\\n            evalV, _ = minimax(game, new_state, depth - 1, False)\\n            if evalV > max_eval:\\n                max_eval = evalV\\n                best_action = action\\n            game.delBoard(new_state)\\n        return max_eval, best_action\\n    else:\\n        min_eval = math.inf\\n        actions = game.getActions(state)\\n        for i in range(actions[0]):\\n            action=actions[i]\\n            if action == 0:\\n                continue\\n            new_state = game.copyBoard(state)\\n            game.next_state(new_state, action)\\n            evalV, _ = minimax(game, new_state, depth - 1, True)\\n            if evalV < min_eval:\\n                min_eval = evalV\\n                best_action = action\\n            game.delBoard(new_state)\\n        return min_eval, best_action\\n        \\n        '"
      ]
     },
     "execution_count": 5,
     "metadata": {},
     "output_type": "execute_result"
    }
   ],
   "source": [
    "evN=0\n",
    "def minimax(game, state, depth, maximizing_player):\n",
    "    global evN\n",
    "    status = game.checkStatus(state)\n",
    "    if depth == 0:\n",
    "        if status == 3:\n",
    "            return 1000, None  # White wins\n",
    "        elif status == 4:\n",
    "            return -1000, None  # Black wins\n",
    "        else:\n",
    "            evN+=1\n",
    "            return game.calcVal(state), None  # Non-terminal, evaluate\n",
    "\n",
    "    best_action = None\n",
    "\n",
    "    if maximizing_player:\n",
    "        max_eval = -math.inf\n",
    "        actions = game.getActions(state)\n",
    "        for i in range(1,actions[0]+1):\n",
    "            action=actions[i]\n",
    "            if action == 0:\n",
    "                continue\n",
    "            new_state = game.copyBoard(state)\n",
    "            game.next_state(new_state, action)\n",
    "            evalV, _ = minimax(game, new_state, depth - 1, False)\n",
    "            if evalV > max_eval:\n",
    "                max_eval = evalV\n",
    "                best_action = action\n",
    "            game.delBoard(new_state)\n",
    "        return max_eval, best_action\n",
    "    else:\n",
    "        min_eval = math.inf\n",
    "        actions = game.getActions(state)\n",
    "        for i in range(actions[0]):\n",
    "            action=actions[i]\n",
    "            if action == 0:\n",
    "                continue\n",
    "            new_state = game.copyBoard(state)\n",
    "            game.next_state(new_state, action)\n",
    "            evalV, _ = minimax(game, new_state, depth - 1, True)\n",
    "            if evalV < min_eval:\n",
    "                min_eval = evalV\n",
    "                best_action = action\n",
    "            game.delBoard(new_state)\n",
    "        return min_eval, best_action\n",
    "        \n",
    "        "
   ]
  },
  {
   "cell_type": "code",
   "execution_count": 6,
   "id": "0d1b9d84-8cc1-43e5-8253-7f67f1bd3ee8",
   "metadata": {},
   "outputs": [
    {
     "ename": "NameError",
     "evalue": "name 'minimax' is not defined",
     "output_type": "error",
     "traceback": [
      "\u001b[0;31m---------------------------------------------------------------------------\u001b[0m",
      "\u001b[0;31mNameError\u001b[0m                                 Traceback (most recent call last)",
      "Cell \u001b[0;32mIn[6], line 11\u001b[0m\n\u001b[1;32m      5\u001b[0m \u001b[38;5;28;01mwhile\u001b[39;00m i\u001b[38;5;241m<\u001b[39m\u001b[38;5;241m200000\u001b[39m:\n\u001b[1;32m      6\u001b[0m     \n\u001b[1;32m      7\u001b[0m     \u001b[38;5;66;03m#ris=GR.getActions(state)\u001b[39;00m\n\u001b[1;32m      8\u001b[0m     \u001b[38;5;66;03m# .EBoard_getNextsActions(board, ris)\u001b[39;00m\n\u001b[1;32m     10\u001b[0m     num_actions \u001b[38;5;241m=\u001b[39m ris[\u001b[38;5;241m0\u001b[39m]\n\u001b[0;32m---> 11\u001b[0m     score, best_action \u001b[38;5;241m=\u001b[39m \u001b[43mminimax\u001b[49m(GR, state, depth\u001b[38;5;241m=\u001b[39m\u001b[38;5;241m2\u001b[39m, maximizing_player\u001b[38;5;241m=\u001b[39m\u001b[38;5;28;01mTrue\u001b[39;00m)\n\u001b[1;32m     12\u001b[0m     \u001b[38;5;28mprint\u001b[39m(\u001b[38;5;124m\"\u001b[39m\u001b[38;5;124mEval:\u001b[39m\u001b[38;5;124m\"\u001b[39m ,evN)\n\u001b[1;32m     13\u001b[0m     \u001b[38;5;28mprint\u001b[39m(best_action)\n",
      "\u001b[0;31mNameError\u001b[0m: name 'minimax' is not defined"
     ]
    }
   ],
   "source": [
    "\n",
    "state = GR.init_state()\n",
    "i = 0\n",
    "totMov=0\n",
    "ris = (ctypes.c_int64 * 256)()  # buffer for actions\n",
    "while i<200000:\n",
    "    \n",
    "    #ris=GR.getActions(state)\n",
    "    # .EBoard_getNextsActions(board, ris)\n",
    "    \n",
    "    num_actions = ris[0]\n",
    "    score, best_action = minimax(GR, state, depth=2, maximizing_player=True)\n",
    "    print(\"Eval:\" ,evN)\n",
    "    print(best_action)\n",
    "    time.sleep(1)\n",
    "    out = GR.checkStatus(state)\n",
    "    if out != 1:\n",
    "        print(i)\n",
    "        break\n",
    "    totMov += 1\n",
    "    GR.next_state(state, best_action)\n",
    "\n",
    "    i += 1\n"
   ]
  },
  {
   "cell_type": "code",
   "execution_count": null,
   "id": "851e4207-1739-4aaf-8ffa-abded1db2793",
   "metadata": {},
   "outputs": [],
   "source": []
  },
  {
   "cell_type": "code",
   "execution_count": 3,
   "id": "a4d276a2-45c1-4eeb-a285-79b3388eec8f",
   "metadata": {},
   "outputs": [],
   "source": []
  },
  {
   "cell_type": "code",
   "execution_count": 15,
   "id": "0fc60652-5039-4dd4-bbcc-72b99130173b",
   "metadata": {},
   "outputs": [],
   "source": [
    "from game_rule import DLLGameRule \n",
    "GR=DLLGameRule()\n",
    "import time\n",
    "import random\n",
    "import ctypes\n",
    "import math\n",
    "import time"
   ]
  },
  {
   "cell_type": "code",
   "execution_count": 3,
   "id": "40909615-65f9-4c90-8f2d-e1c618bba863",
   "metadata": {},
   "outputs": [],
   "source": [
    "import random\n",
    "\n",
    "# contatore globale di valutazioni statiche\n",
    "evN = 0\n",
    "\n",
    "def minimax(state, depth, maximizing_player, w, alpha=-1e9, beta=+1e9, currentTurn=0):\n",
    "    \"\"\"\n",
    "    Restituisce (valore, migliore_azione)\n",
    "    \"\"\"\n",
    "    global evN\n",
    "\n",
    "    # 1) verifica immediata di terminale\n",
    "    status = GR.checkStatus(state)\n",
    "    if status != 1:  # 1 == ongoing\n",
    "        t = currentTurn% 2 == 0\n",
    "        # se è vittoria per chi muove in questo stato\n",
    "        if (status == 3 and t == 0) or (status == 4 and t == 1):\n",
    "            return +1000, None\n",
    "        else:\n",
    "            return -1000, None\n",
    "\n",
    "    # 2) cutoff di profondità → valutazione statica\n",
    "    if depth == 0:\n",
    "        evN += 1\n",
    "        return GR.calcVal(state, w), None\n",
    "\n",
    "    actions = GR.getActions(state)  # es. [n, a1, a2, ..., a_n]\n",
    "    n = actions[0]\n",
    "    best_action = actions[1]\n",
    "    \n",
    "    if maximizing_player:\n",
    "        max_eval = -1e9\n",
    "        for i in range(1, n+1):\n",
    "            action = actions[i]\n",
    "            child = GR.copyBoard(state)\n",
    "            GR.next_state(child, action)\n",
    "            evalV, _ = minimax(child, depth-1, False, w, alpha, beta,currentTurn=currentTurn+1)\n",
    "            GR.delBoard(child)\n",
    "\n",
    "            if evalV > max_eval:\n",
    "                max_eval = evalV\n",
    "                best_action = action\n",
    "\n",
    "            alpha = max(alpha, evalV)\n",
    "            if beta <= alpha:\n",
    "                break  # β-cut\n",
    "\n",
    "        return max_eval, best_action\n",
    "\n",
    "    else:\n",
    "        min_eval = +1e9\n",
    "        for i in range(1, n+1):\n",
    "            action = actions[i]\n",
    "            child = GR.copyBoard(state)\n",
    "            GR.next_state(child, action)\n",
    "            evalV, _ = minimax(child, depth-1, True, w, alpha, beta,currentTurn=currentTurn+1)\n",
    "            GR.delBoard(child)\n",
    "\n",
    "            if evalV < min_eval:\n",
    "                min_eval = evalV\n",
    "                best_action = action\n",
    "\n",
    "            beta = min(beta, evalV)\n",
    "            if beta <= alpha:\n",
    "                break  # α-cut\n",
    "\n",
    "        return min_eval, best_action\n",
    "\n",
    "\n",
    "def main():\n",
    "    Win = [0, 0]\n",
    "    \n",
    "    w=(ctypes.c_double * 6)(0,0,0,1,-2,30)\n",
    "\n",
    "    for Q in range(100):\n",
    "        state = GR.init_state()\n",
    "        i = 0\n",
    "        totMov = 0\n",
    "        while i < 300:\n",
    "            global evN\n",
    "            if i % 2 == 0:\n",
    "                evN = 0\n",
    "                score, best_action = minimax(state, 5, True, w,currentTurn=i+1)\n",
    "                print(f\"Score:: {score}\")\n",
    "            else:\n",
    "                actions = GR.getActions(state)\n",
    "                # scelta casuale per il secondo giocatore\n",
    "                m = random.randint(1, actions[0])\n",
    "                best_action = actions[m]\n",
    "\n",
    "            print(f\"Best action with: {evN} iteration for turn {i}\")\n",
    "            GR.next_state(state, best_action)\n",
    "            totMov += 1\n",
    "            i += 1\n",
    "\n",
    "            status = GR.checkStatus(state)\n",
    "            if status != 1:\n",
    "                Win[i % 2] += 1\n",
    "                break\n",
    "        GR.delBoard(state)\n",
    "        print(f\"Win: {Win[0]}   {Win[1]}\")"
   ]
  },
  {
   "cell_type": "code",
   "execution_count": 4,
   "id": "fc683528-a804-4424-824c-5e3c628c7ef4",
   "metadata": {},
   "outputs": [
    {
     "name": "stdout",
     "output_type": "stream",
     "text": [
      "Score:: 60.0\n",
      "Best action with: 1911 iteration for turn 0\n",
      "Best action with: 1911 iteration for turn 1\n",
      "Score:: 89.0\n",
      "Best action with: 6858 iteration for turn 2\n",
      "Best action with: 6858 iteration for turn 3\n",
      "Score:: 118.0\n",
      "Best action with: 21225 iteration for turn 4\n",
      "Best action with: 21225 iteration for turn 5\n",
      "Score:: 147.0\n",
      "Best action with: 27285 iteration for turn 6\n",
      "Best action with: 27285 iteration for turn 7\n",
      "Score:: 150.0\n",
      "Best action with: 180850 iteration for turn 8\n",
      "Best action with: 180850 iteration for turn 9\n",
      "Score:: 149.0\n",
      "Best action with: 333440 iteration for turn 10\n",
      "Best action with: 333440 iteration for turn 11\n",
      "Score:: 150.0\n",
      "Best action with: 895240 iteration for turn 12\n",
      "Best action with: 895240 iteration for turn 13\n",
      "Score:: 151.0\n",
      "Best action with: 238969 iteration for turn 14\n",
      "Best action with: 238969 iteration for turn 15\n",
      "Score:: 152.0\n",
      "Best action with: 592656 iteration for turn 16\n",
      "Best action with: 592656 iteration for turn 17\n",
      "Score:: 153.0\n",
      "Best action with: 357877 iteration for turn 18\n",
      "Best action with: 357877 iteration for turn 19\n",
      "Score:: 153.0\n",
      "Best action with: 911374 iteration for turn 20\n",
      "Best action with: 911374 iteration for turn 21\n",
      "Score:: 152.0\n",
      "Best action with: 1097331 iteration for turn 22\n",
      "Best action with: 1097331 iteration for turn 23\n",
      "Score:: 152.0\n",
      "Best action with: 356374 iteration for turn 24\n",
      "Best action with: 356374 iteration for turn 25\n",
      "Score:: 152.0\n",
      "Best action with: 2300228 iteration for turn 26\n",
      "Best action with: 2300228 iteration for turn 27\n",
      "Score:: 153.0\n",
      "Best action with: 2281147 iteration for turn 28\n",
      "Best action with: 2281147 iteration for turn 29\n"
     ]
    },
    {
     "ename": "KeyboardInterrupt",
     "evalue": "",
     "output_type": "error",
     "traceback": [
      "\u001b[0;31m---------------------------------------------------------------------------\u001b[0m",
      "\u001b[0;31mKeyboardInterrupt\u001b[0m                         Traceback (most recent call last)",
      "Cell \u001b[0;32mIn[4], line 1\u001b[0m\n\u001b[0;32m----> 1\u001b[0m \u001b[43mmain\u001b[49m\u001b[43m(\u001b[49m\u001b[43m)\u001b[49m\n",
      "Cell \u001b[0;32mIn[3], line 83\u001b[0m, in \u001b[0;36mmain\u001b[0;34m()\u001b[0m\n\u001b[1;32m     81\u001b[0m \u001b[38;5;28;01mif\u001b[39;00m i \u001b[38;5;241m%\u001b[39m \u001b[38;5;241m2\u001b[39m \u001b[38;5;241m==\u001b[39m \u001b[38;5;241m0\u001b[39m:\n\u001b[1;32m     82\u001b[0m     evN \u001b[38;5;241m=\u001b[39m \u001b[38;5;241m0\u001b[39m\n\u001b[0;32m---> 83\u001b[0m     score, best_action \u001b[38;5;241m=\u001b[39m \u001b[43mminimax\u001b[49m\u001b[43m(\u001b[49m\u001b[43mstate\u001b[49m\u001b[43m,\u001b[49m\u001b[43m \u001b[49m\u001b[38;5;241;43m5\u001b[39;49m\u001b[43m,\u001b[49m\u001b[43m \u001b[49m\u001b[38;5;28;43;01mTrue\u001b[39;49;00m\u001b[43m,\u001b[49m\u001b[43m \u001b[49m\u001b[43mw\u001b[49m\u001b[43m,\u001b[49m\u001b[43mcurrentTurn\u001b[49m\u001b[38;5;241;43m=\u001b[39;49m\u001b[43mi\u001b[49m\u001b[38;5;241;43m+\u001b[39;49m\u001b[38;5;241;43m1\u001b[39;49m\u001b[43m)\u001b[49m\n\u001b[1;32m     84\u001b[0m     \u001b[38;5;28mprint\u001b[39m(\u001b[38;5;124mf\u001b[39m\u001b[38;5;124m\"\u001b[39m\u001b[38;5;124mScore:: \u001b[39m\u001b[38;5;132;01m{\u001b[39;00mscore\u001b[38;5;132;01m}\u001b[39;00m\u001b[38;5;124m\"\u001b[39m)\n\u001b[1;32m     85\u001b[0m \u001b[38;5;28;01melse\u001b[39;00m:\n",
      "Cell \u001b[0;32mIn[3], line 37\u001b[0m, in \u001b[0;36mminimax\u001b[0;34m(state, depth, maximizing_player, w, alpha, beta, currentTurn)\u001b[0m\n\u001b[1;32m     35\u001b[0m child \u001b[38;5;241m=\u001b[39m GR\u001b[38;5;241m.\u001b[39mcopyBoard(state)\n\u001b[1;32m     36\u001b[0m GR\u001b[38;5;241m.\u001b[39mnext_state(child, action)\n\u001b[0;32m---> 37\u001b[0m evalV, _ \u001b[38;5;241m=\u001b[39m \u001b[43mminimax\u001b[49m\u001b[43m(\u001b[49m\u001b[43mchild\u001b[49m\u001b[43m,\u001b[49m\u001b[43m \u001b[49m\u001b[43mdepth\u001b[49m\u001b[38;5;241;43m-\u001b[39;49m\u001b[38;5;241;43m1\u001b[39;49m\u001b[43m,\u001b[49m\u001b[43m \u001b[49m\u001b[38;5;28;43;01mFalse\u001b[39;49;00m\u001b[43m,\u001b[49m\u001b[43m \u001b[49m\u001b[43mw\u001b[49m\u001b[43m,\u001b[49m\u001b[43m \u001b[49m\u001b[43malpha\u001b[49m\u001b[43m,\u001b[49m\u001b[43m \u001b[49m\u001b[43mbeta\u001b[49m\u001b[43m,\u001b[49m\u001b[43mcurrentTurn\u001b[49m\u001b[38;5;241;43m=\u001b[39;49m\u001b[43mcurrentTurn\u001b[49m\u001b[38;5;241;43m+\u001b[39;49m\u001b[38;5;241;43m1\u001b[39;49m\u001b[43m)\u001b[49m\n\u001b[1;32m     38\u001b[0m GR\u001b[38;5;241m.\u001b[39mdelBoard(child)\n\u001b[1;32m     40\u001b[0m \u001b[38;5;28;01mif\u001b[39;00m evalV \u001b[38;5;241m>\u001b[39m max_eval:\n",
      "Cell \u001b[0;32mIn[3], line 56\u001b[0m, in \u001b[0;36mminimax\u001b[0;34m(state, depth, maximizing_player, w, alpha, beta, currentTurn)\u001b[0m\n\u001b[1;32m     54\u001b[0m child \u001b[38;5;241m=\u001b[39m GR\u001b[38;5;241m.\u001b[39mcopyBoard(state)\n\u001b[1;32m     55\u001b[0m GR\u001b[38;5;241m.\u001b[39mnext_state(child, action)\n\u001b[0;32m---> 56\u001b[0m evalV, _ \u001b[38;5;241m=\u001b[39m \u001b[43mminimax\u001b[49m\u001b[43m(\u001b[49m\u001b[43mchild\u001b[49m\u001b[43m,\u001b[49m\u001b[43m \u001b[49m\u001b[43mdepth\u001b[49m\u001b[38;5;241;43m-\u001b[39;49m\u001b[38;5;241;43m1\u001b[39;49m\u001b[43m,\u001b[49m\u001b[43m \u001b[49m\u001b[38;5;28;43;01mTrue\u001b[39;49;00m\u001b[43m,\u001b[49m\u001b[43m \u001b[49m\u001b[43mw\u001b[49m\u001b[43m,\u001b[49m\u001b[43m \u001b[49m\u001b[43malpha\u001b[49m\u001b[43m,\u001b[49m\u001b[43m \u001b[49m\u001b[43mbeta\u001b[49m\u001b[43m,\u001b[49m\u001b[43mcurrentTurn\u001b[49m\u001b[38;5;241;43m=\u001b[39;49m\u001b[43mcurrentTurn\u001b[49m\u001b[38;5;241;43m+\u001b[39;49m\u001b[38;5;241;43m1\u001b[39;49m\u001b[43m)\u001b[49m\n\u001b[1;32m     57\u001b[0m GR\u001b[38;5;241m.\u001b[39mdelBoard(child)\n\u001b[1;32m     59\u001b[0m \u001b[38;5;28;01mif\u001b[39;00m evalV \u001b[38;5;241m<\u001b[39m min_eval:\n",
      "Cell \u001b[0;32mIn[3], line 37\u001b[0m, in \u001b[0;36mminimax\u001b[0;34m(state, depth, maximizing_player, w, alpha, beta, currentTurn)\u001b[0m\n\u001b[1;32m     35\u001b[0m child \u001b[38;5;241m=\u001b[39m GR\u001b[38;5;241m.\u001b[39mcopyBoard(state)\n\u001b[1;32m     36\u001b[0m GR\u001b[38;5;241m.\u001b[39mnext_state(child, action)\n\u001b[0;32m---> 37\u001b[0m evalV, _ \u001b[38;5;241m=\u001b[39m \u001b[43mminimax\u001b[49m\u001b[43m(\u001b[49m\u001b[43mchild\u001b[49m\u001b[43m,\u001b[49m\u001b[43m \u001b[49m\u001b[43mdepth\u001b[49m\u001b[38;5;241;43m-\u001b[39;49m\u001b[38;5;241;43m1\u001b[39;49m\u001b[43m,\u001b[49m\u001b[43m \u001b[49m\u001b[38;5;28;43;01mFalse\u001b[39;49;00m\u001b[43m,\u001b[49m\u001b[43m \u001b[49m\u001b[43mw\u001b[49m\u001b[43m,\u001b[49m\u001b[43m \u001b[49m\u001b[43malpha\u001b[49m\u001b[43m,\u001b[49m\u001b[43m \u001b[49m\u001b[43mbeta\u001b[49m\u001b[43m,\u001b[49m\u001b[43mcurrentTurn\u001b[49m\u001b[38;5;241;43m=\u001b[39;49m\u001b[43mcurrentTurn\u001b[49m\u001b[38;5;241;43m+\u001b[39;49m\u001b[38;5;241;43m1\u001b[39;49m\u001b[43m)\u001b[49m\n\u001b[1;32m     38\u001b[0m GR\u001b[38;5;241m.\u001b[39mdelBoard(child)\n\u001b[1;32m     40\u001b[0m \u001b[38;5;28;01mif\u001b[39;00m evalV \u001b[38;5;241m>\u001b[39m max_eval:\n",
      "Cell \u001b[0;32mIn[3], line 56\u001b[0m, in \u001b[0;36mminimax\u001b[0;34m(state, depth, maximizing_player, w, alpha, beta, currentTurn)\u001b[0m\n\u001b[1;32m     54\u001b[0m child \u001b[38;5;241m=\u001b[39m GR\u001b[38;5;241m.\u001b[39mcopyBoard(state)\n\u001b[1;32m     55\u001b[0m GR\u001b[38;5;241m.\u001b[39mnext_state(child, action)\n\u001b[0;32m---> 56\u001b[0m evalV, _ \u001b[38;5;241m=\u001b[39m \u001b[43mminimax\u001b[49m\u001b[43m(\u001b[49m\u001b[43mchild\u001b[49m\u001b[43m,\u001b[49m\u001b[43m \u001b[49m\u001b[43mdepth\u001b[49m\u001b[38;5;241;43m-\u001b[39;49m\u001b[38;5;241;43m1\u001b[39;49m\u001b[43m,\u001b[49m\u001b[43m \u001b[49m\u001b[38;5;28;43;01mTrue\u001b[39;49;00m\u001b[43m,\u001b[49m\u001b[43m \u001b[49m\u001b[43mw\u001b[49m\u001b[43m,\u001b[49m\u001b[43m \u001b[49m\u001b[43malpha\u001b[49m\u001b[43m,\u001b[49m\u001b[43m \u001b[49m\u001b[43mbeta\u001b[49m\u001b[43m,\u001b[49m\u001b[43mcurrentTurn\u001b[49m\u001b[38;5;241;43m=\u001b[39;49m\u001b[43mcurrentTurn\u001b[49m\u001b[38;5;241;43m+\u001b[39;49m\u001b[38;5;241;43m1\u001b[39;49m\u001b[43m)\u001b[49m\n\u001b[1;32m     57\u001b[0m GR\u001b[38;5;241m.\u001b[39mdelBoard(child)\n\u001b[1;32m     59\u001b[0m \u001b[38;5;28;01mif\u001b[39;00m evalV \u001b[38;5;241m<\u001b[39m min_eval:\n",
      "Cell \u001b[0;32mIn[3], line 35\u001b[0m, in \u001b[0;36mminimax\u001b[0;34m(state, depth, maximizing_player, w, alpha, beta, currentTurn)\u001b[0m\n\u001b[1;32m     33\u001b[0m \u001b[38;5;28;01mfor\u001b[39;00m i \u001b[38;5;129;01min\u001b[39;00m \u001b[38;5;28mrange\u001b[39m(\u001b[38;5;241m1\u001b[39m, n\u001b[38;5;241m+\u001b[39m\u001b[38;5;241m1\u001b[39m):\n\u001b[1;32m     34\u001b[0m     action \u001b[38;5;241m=\u001b[39m actions[i]\n\u001b[0;32m---> 35\u001b[0m     child \u001b[38;5;241m=\u001b[39m \u001b[43mGR\u001b[49m\u001b[38;5;241;43m.\u001b[39;49m\u001b[43mcopyBoard\u001b[49m\u001b[43m(\u001b[49m\u001b[43mstate\u001b[49m\u001b[43m)\u001b[49m\n\u001b[1;32m     36\u001b[0m     GR\u001b[38;5;241m.\u001b[39mnext_state(child, action)\n\u001b[1;32m     37\u001b[0m     evalV, _ \u001b[38;5;241m=\u001b[39m minimax(child, depth\u001b[38;5;241m-\u001b[39m\u001b[38;5;241m1\u001b[39m, \u001b[38;5;28;01mFalse\u001b[39;00m, w, alpha, beta,currentTurn\u001b[38;5;241m=\u001b[39mcurrentTurn\u001b[38;5;241m+\u001b[39m\u001b[38;5;241m1\u001b[39m)\n",
      "\u001b[0;31mKeyboardInterrupt\u001b[0m: "
     ]
    }
   ],
   "source": [
    "main()"
   ]
  },
  {
   "cell_type": "code",
   "execution_count": 3,
   "id": "4aa9ab25-b1cc-426d-8ac8-989feca73e55",
   "metadata": {},
   "outputs": [],
   "source": [
    "\n",
    "state = GR.init_state()\n"
   ]
  },
  {
   "cell_type": "code",
   "execution_count": 10,
   "id": "8b5bca81-21f8-4344-841b-ae1b4533cbfe",
   "metadata": {},
   "outputs": [],
   "source": [
    "V=GR.toVect(state)"
   ]
  },
  {
   "cell_type": "code",
   "execution_count": 4,
   "id": "965fb5e9-82d6-4ffe-b19a-0d2d33977e90",
   "metadata": {},
   "outputs": [],
   "source": [
    "act=GR.getActions(state)"
   ]
  },
  {
   "cell_type": "code",
   "execution_count": 9,
   "id": "e64ad4fb-1502-4842-885d-cd462b06cc9e",
   "metadata": {},
   "outputs": [
    {
     "data": {
      "text/plain": [
       "b'wA1'"
      ]
     },
     "execution_count": 9,
     "metadata": {},
     "output_type": "execute_result"
    }
   ],
   "source": [
    "GR.actionToString(act[4])"
   ]
  },
  {
   "cell_type": "code",
   "execution_count": 13,
   "id": "02affff8-94c4-4fbf-9f1a-e72f135b8f44",
   "metadata": {},
   "outputs": [
    {
     "ename": "TypeError",
     "evalue": "sequence item 0: expected str instance, bytes found",
     "output_type": "error",
     "traceback": [
      "\u001b[0;31m---------------------------------------------------------------------------\u001b[0m",
      "\u001b[0;31mTypeError\u001b[0m                                 Traceback (most recent call last)",
      "Cell \u001b[0;32mIn[13], line 1\u001b[0m\n\u001b[0;32m----> 1\u001b[0m \u001b[38;5;124;43m\"\u001b[39;49m\u001b[38;5;124;43m;\u001b[39;49m\u001b[38;5;124;43m\"\u001b[39;49m\u001b[38;5;241;43m.\u001b[39;49m\u001b[43mjoin\u001b[49m\u001b[43m(\u001b[49m\u001b[43m[\u001b[49m\u001b[43mGR\u001b[49m\u001b[38;5;241;43m.\u001b[39;49m\u001b[43mactionToString\u001b[49m\u001b[43m(\u001b[49m\u001b[43mact\u001b[49m\u001b[43m[\u001b[49m\u001b[43mi\u001b[49m\u001b[43m]\u001b[49m\u001b[43m)\u001b[49m\u001b[43m \u001b[49m\u001b[38;5;28;43;01mfor\u001b[39;49;00m\u001b[43m \u001b[49m\u001b[43mi\u001b[49m\u001b[43m \u001b[49m\u001b[38;5;129;43;01min\u001b[39;49;00m\u001b[43m \u001b[49m\u001b[38;5;28;43mrange\u001b[39;49m\u001b[43m(\u001b[49m\u001b[38;5;241;43m1\u001b[39;49m\u001b[43m,\u001b[49m\u001b[43mact\u001b[49m\u001b[43m[\u001b[49m\u001b[38;5;241;43m0\u001b[39;49m\u001b[43m]\u001b[49m\u001b[38;5;241;43m+\u001b[39;49m\u001b[38;5;241;43m1\u001b[39;49m\u001b[43m)\u001b[49m\u001b[43m]\u001b[49m\u001b[43m)\u001b[49m\n",
      "\u001b[0;31mTypeError\u001b[0m: sequence item 0: expected str instance, bytes found"
     ]
    }
   ],
   "source": [
    "\";\".join([GR.actionToString(act[i]) ])"
   ]
  },
  {
   "cell_type": "code",
   "execution_count": 22,
   "id": "8662d058-15c0-443e-8f63-5b75b9789419",
   "metadata": {},
   "outputs": [
    {
     "data": {
      "text/plain": [
       "'wS1;wB1;wG1;wA1'"
      ]
     },
     "execution_count": 22,
     "metadata": {},
     "output_type": "execute_result"
    }
   ],
   "source": [
    "\";\".join([GR.actionToString(act[i]).decode() for i in range(1,act[0]+1)])"
   ]
  },
  {
   "cell_type": "code",
   "execution_count": 2,
   "id": "146bddc4-60fb-44c3-872c-ba6b2af0d63a",
   "metadata": {},
   "outputs": [],
   "source": [
    "from subprocess import Popen, PIPE\n",
    "file_exe=\"../../../Mzinga.LinuxX64/MzingaEngine\"\n",
    "player = Popen(file_exe, stdin=PIPE, stdout=PIPE, stderr=PIPE, encoding=\"UTF8\", bufsize=1)\n",
    "\n",
    "player.stdout.readline()\n",
    "player.stdout.readline()\n",
    "player.stdout.readline()\n",
    "from game_rule import DLLGameRule \n",
    "GR=DLLGameRule()\n",
    "import time\n",
    "import random\n",
    "import ctypes\n",
    "import math\n",
    "import time\n",
    "\n"
   ]
  },
  {
   "cell_type": "code",
   "execution_count": 3,
   "id": "084304bc-dbc0-4f51-974f-3d0c9cc13a49",
   "metadata": {},
   "outputs": [],
   "source": [
    "\n",
    "interactionProgram=\"\"\n",
    "def initNewGame(player):\n",
    "    global interactionProgram\n",
    "    player.stdin.write(\"newgame\\n\")\n",
    "    interactionProgram+=\" > newgame\\n\"\n",
    "    \n",
    "    interactionProgram+=\" < \"+player.stdout.readline()+\"\\n\"\n",
    "    interactionProgram+=\" < \"+player.stdout.readline()+\"\\n\"\n",
    "    \n",
    "def getValidMoves(player):\n",
    "    global interactionProgram\n",
    "    player.stdin.write(\"validmoves\\n\")\n",
    "    interactionProgram+=\" > validmoves\\n\"\n",
    "    read=player.stdout.readline()\n",
    "    s=read[:-1].split(\";\")  \n",
    "    interactionProgram+=\" < \"+read+\"\\n\"\n",
    "    interactionProgram+=\" < \"+player.stdout.readline()+\"\\n\"\n",
    "    return s\n",
    "\n",
    "def playMove(p):\n",
    "    global interactionProgram\n",
    "    global risAct\n",
    "    player.stdin.write(\"play \"+p+\"\\n\")\n",
    "    interactionProgram+=\" > play \"+p+\"\\n\"\n",
    "    risAct=player.stdout.readline()\n",
    "    interactionProgram+=\" < \"+risAct+\"\\n\"\n",
    "    interactionProgram+=\" < \"+player.stdout.readline()+\"\\n\"\n",
    "    \n",
    "def playBoth(p,state,act):\n",
    "    playMove(act)\n",
    "    GR.next_state(state,GR.stringToAction(state,act))\n",
    "    \n",
    "    "
   ]
  },
  {
   "cell_type": "code",
   "execution_count": 4,
   "id": "7a296861-9676-47dd-8257-a63a4b9dff9c",
   "metadata": {},
   "outputs": [],
   "source": [
    "initNewGame(player)\n",
    "state = GR.init_state()\n",
    "\n",
    "GR.next_state(state,9)\n",
    "\n"
   ]
  },
  {
   "cell_type": "code",
   "execution_count": 5,
   "id": "8dabcc9e-7734-48af-ac45-3bc5e3f61e87",
   "metadata": {},
   "outputs": [],
   "source": [
    "\n",
    "actTMPC = GR.getActions(state)"
   ]
  },
  {
   "cell_type": "code",
   "execution_count": 6,
   "id": "2110e5ef-4f3f-4b84-8cd4-e2bafc430e90",
   "metadata": {},
   "outputs": [
    {
     "data": {
      "text/plain": [
       "24"
      ]
     },
     "execution_count": 6,
     "metadata": {},
     "output_type": "execute_result"
    }
   ],
   "source": [
    "actTMPC[0]"
   ]
  },
  {
   "cell_type": "code",
   "execution_count": 8,
   "id": "8d8c6af6-a29e-4158-b488-c84eecc326fe",
   "metadata": {},
   "outputs": [
    {
     "name": "stdout",
     "output_type": "stream",
     "text": [
      "173\n",
      "0\n",
      "1\n"
     ]
    },
    {
     "ename": "KeyboardInterrupt",
     "evalue": "",
     "output_type": "error",
     "traceback": [
      "\u001b[0;31m---------------------------------------------------------------------------\u001b[0m",
      "\u001b[0;31mKeyboardInterrupt\u001b[0m                         Traceback (most recent call last)",
      "Cell \u001b[0;32mIn[8], line 73\u001b[0m\n\u001b[1;32m     70\u001b[0m         \u001b[38;5;28mprint\u001b[39m(Q)\n\u001b[1;32m     71\u001b[0m         GR\u001b[38;5;241m.\u001b[39mdelBoard(state)\n\u001b[0;32m---> 73\u001b[0m \u001b[43mtest\u001b[49m\u001b[43m(\u001b[49m\u001b[43m)\u001b[49m\n",
      "Cell \u001b[0;32mIn[8], line 57\u001b[0m, in \u001b[0;36mtest\u001b[0;34m()\u001b[0m\n\u001b[1;32m     54\u001b[0m m \u001b[38;5;241m=\u001b[39m random\u001b[38;5;241m.\u001b[39mrandint(\u001b[38;5;241m1\u001b[39m, lC)\n\u001b[1;32m     56\u001b[0m \u001b[38;5;66;03m#geConf+=(f\"{iM+1}. {actStrC[m-1]}\\n\")\u001b[39;00m\n\u001b[0;32m---> 57\u001b[0m \u001b[43mplayBoth\u001b[49m\u001b[43m(\u001b[49m\u001b[43mplayer\u001b[49m\u001b[43m,\u001b[49m\u001b[43mstate\u001b[49m\u001b[43m,\u001b[49m\u001b[43mactStrC\u001b[49m\u001b[43m[\u001b[49m\u001b[43mm\u001b[49m\u001b[38;5;241;43m-\u001b[39;49m\u001b[38;5;241;43m1\u001b[39;49m\u001b[43m]\u001b[49m\u001b[43m)\u001b[49m\n\u001b[1;32m     59\u001b[0m \u001b[38;5;66;03m#GR.next_state(state,GR.stringToAction(state,actStrC[m-1]))\u001b[39;00m\n\u001b[1;32m     61\u001b[0m totMov \u001b[38;5;241m+\u001b[39m\u001b[38;5;241m=\u001b[39m \u001b[38;5;241m1\u001b[39m\n",
      "Cell \u001b[0;32mIn[3], line 30\u001b[0m, in \u001b[0;36mplayBoth\u001b[0;34m(p, state, act)\u001b[0m\n\u001b[1;32m     29\u001b[0m \u001b[38;5;28;01mdef\u001b[39;00m \u001b[38;5;21mplayBoth\u001b[39m(p,state,act):\n\u001b[0;32m---> 30\u001b[0m     \u001b[43mplayMove\u001b[49m\u001b[43m(\u001b[49m\u001b[43mact\u001b[49m\u001b[43m)\u001b[49m\n\u001b[1;32m     31\u001b[0m     GR\u001b[38;5;241m.\u001b[39mnext_state(state,GR\u001b[38;5;241m.\u001b[39mstringToAction(state,act))\n",
      "Cell \u001b[0;32mIn[3], line 25\u001b[0m, in \u001b[0;36mplayMove\u001b[0;34m(p)\u001b[0m\n\u001b[1;32m     23\u001b[0m player\u001b[38;5;241m.\u001b[39mstdin\u001b[38;5;241m.\u001b[39mwrite(\u001b[38;5;124m\"\u001b[39m\u001b[38;5;124mplay \u001b[39m\u001b[38;5;124m\"\u001b[39m\u001b[38;5;241m+\u001b[39mp\u001b[38;5;241m+\u001b[39m\u001b[38;5;124m\"\u001b[39m\u001b[38;5;130;01m\\n\u001b[39;00m\u001b[38;5;124m\"\u001b[39m)\n\u001b[1;32m     24\u001b[0m interactionProgram\u001b[38;5;241m+\u001b[39m\u001b[38;5;241m=\u001b[39m\u001b[38;5;124m\"\u001b[39m\u001b[38;5;124m > play \u001b[39m\u001b[38;5;124m\"\u001b[39m\u001b[38;5;241m+\u001b[39mp\u001b[38;5;241m+\u001b[39m\u001b[38;5;124m\"\u001b[39m\u001b[38;5;130;01m\\n\u001b[39;00m\u001b[38;5;124m\"\u001b[39m\n\u001b[0;32m---> 25\u001b[0m risAct\u001b[38;5;241m=\u001b[39m\u001b[43mplayer\u001b[49m\u001b[38;5;241;43m.\u001b[39;49m\u001b[43mstdout\u001b[49m\u001b[38;5;241;43m.\u001b[39;49m\u001b[43mreadline\u001b[49m\u001b[43m(\u001b[49m\u001b[43m)\u001b[49m\n\u001b[1;32m     26\u001b[0m interactionProgram\u001b[38;5;241m+\u001b[39m\u001b[38;5;241m=\u001b[39m\u001b[38;5;124m\"\u001b[39m\u001b[38;5;124m < \u001b[39m\u001b[38;5;124m\"\u001b[39m\u001b[38;5;241m+\u001b[39mrisAct\u001b[38;5;241m+\u001b[39m\u001b[38;5;124m\"\u001b[39m\u001b[38;5;130;01m\\n\u001b[39;00m\u001b[38;5;124m\"\u001b[39m\n\u001b[1;32m     27\u001b[0m interactionProgram\u001b[38;5;241m+\u001b[39m\u001b[38;5;241m=\u001b[39m\u001b[38;5;124m\"\u001b[39m\u001b[38;5;124m < \u001b[39m\u001b[38;5;124m\"\u001b[39m\u001b[38;5;241m+\u001b[39mplayer\u001b[38;5;241m.\u001b[39mstdout\u001b[38;5;241m.\u001b[39mreadline()\u001b[38;5;241m+\u001b[39m\u001b[38;5;124m\"\u001b[39m\u001b[38;5;130;01m\\n\u001b[39;00m\u001b[38;5;124m\"\u001b[39m\n",
      "File \u001b[0;32m~/miniconda3/lib/python3.10/codecs.py:319\u001b[0m, in \u001b[0;36mBufferedIncrementalDecoder.decode\u001b[0;34m(self, input, final)\u001b[0m\n\u001b[1;32m    314\u001b[0m \u001b[38;5;28;01mdef\u001b[39;00m \u001b[38;5;21m_buffer_decode\u001b[39m(\u001b[38;5;28mself\u001b[39m, \u001b[38;5;28minput\u001b[39m, errors, final):\n\u001b[1;32m    315\u001b[0m     \u001b[38;5;66;03m# Overwrite this method in subclasses: It must decode input\u001b[39;00m\n\u001b[1;32m    316\u001b[0m     \u001b[38;5;66;03m# and return an (output, length consumed) tuple\u001b[39;00m\n\u001b[1;32m    317\u001b[0m     \u001b[38;5;28;01mraise\u001b[39;00m \u001b[38;5;167;01mNotImplementedError\u001b[39;00m\n\u001b[0;32m--> 319\u001b[0m \u001b[38;5;28;01mdef\u001b[39;00m \u001b[38;5;21mdecode\u001b[39m(\u001b[38;5;28mself\u001b[39m, \u001b[38;5;28minput\u001b[39m, final\u001b[38;5;241m=\u001b[39m\u001b[38;5;28;01mFalse\u001b[39;00m):\n\u001b[1;32m    320\u001b[0m     \u001b[38;5;66;03m# decode input (taking the buffer into account)\u001b[39;00m\n\u001b[1;32m    321\u001b[0m     data \u001b[38;5;241m=\u001b[39m \u001b[38;5;28mself\u001b[39m\u001b[38;5;241m.\u001b[39mbuffer \u001b[38;5;241m+\u001b[39m \u001b[38;5;28minput\u001b[39m\n\u001b[1;32m    322\u001b[0m     (result, consumed) \u001b[38;5;241m=\u001b[39m \u001b[38;5;28mself\u001b[39m\u001b[38;5;241m.\u001b[39m_buffer_decode(data, \u001b[38;5;28mself\u001b[39m\u001b[38;5;241m.\u001b[39merrors, final)\n",
      "\u001b[0;31mKeyboardInterrupt\u001b[0m: "
     ]
    }
   ],
   "source": [
    "evN=0\n",
    "v1=[]\n",
    "v2=[]\n",
    "moves=\"\";\n",
    "\n",
    "def test():\n",
    "    global v1\n",
    "    global v2\n",
    "    \n",
    "    state = GR.init_state()\n",
    "    for Q in range(100):\n",
    "        \n",
    "        geConf=\"\"\n",
    "        state = GR.init_state()\n",
    "        initNewGame(player)\n",
    "\n",
    "        iM = 0\n",
    "        totMov = 0\n",
    "        while iM < 300:\n",
    "            global evN\n",
    "\n",
    "            actTMPC = GR.getActions(state)\n",
    "            actStrE = getValidMoves(player)\n",
    "\n",
    "            #actNumE=[GR.stringToAction(state,mov) for mov in actStrE]\n",
    "            actNumC=[actTMPC[i] for i in range(1,actTMPC[0]+1)]\n",
    "            \n",
    "            actStrC=[GR.actionToString(x).decode() for x in actNumC]\n",
    "            #actNumE.sort()\n",
    "            #actNumC.sort()\n",
    "            #actStrE.sort()\n",
    "            #actStrC.sort()\n",
    "\n",
    "            \n",
    "            #lE=len(actNumE)\n",
    "            lC=len(actNumC)\n",
    "            \"\"\"\n",
    "            if lE!=lC:\n",
    "                print(\"ERROR: Different lenght\")\n",
    "                v1=[GR.actionToString(x).decode() for x in actNumE]\n",
    "                v2=[GR.actionToString(x).decode() for x in actNumC]\n",
    "                print(geConf)\n",
    "                return\n",
    "            else:\n",
    "                for i in range(lE):\n",
    "                    if(actNumC[i]!=actNumE[i]):\n",
    "                        print(\"ERROR : not same actions\")\n",
    "                        v1=[GR.actionToString(x).decode() for x in actNumE]\n",
    "                        v2=[GR.actionToString(x).decode() for x in actNumC]\n",
    "                        print(gameConf)\n",
    "                        return\n",
    "            # scelta casuale per il secondo giocatore\n",
    "            \"\"\"\n",
    "            m = random.randint(1, lC)\n",
    "\n",
    "            #geConf+=(f\"{iM+1}. {actStrC[m-1]}\\n\")\n",
    "            playBoth(player,state,actStrC[m-1])\n",
    "            \n",
    "            #GR.next_state(state,GR.stringToAction(state,actStrC[m-1]))\n",
    "    \n",
    "            totMov += 1\n",
    "            iM += 1\n",
    "            \n",
    "\n",
    "            status = GR.checkStatus(state)\n",
    "            if status != 1:\n",
    "                print(iM)\n",
    "                iM=400\n",
    "                break\n",
    "        print(Q)\n",
    "        GR.delBoard(state)\n",
    "        \n",
    "test()"
   ]
  },
  {
   "cell_type": "code",
   "execution_count": null,
   "id": "2590e91f-19df-49eb-b8f3-f8e5e8103b1c",
   "metadata": {},
   "outputs": [],
   "source": [
    "l1=len(v1)\n",
    "l2=len(v2)\n",
    "l1,l2"
   ]
  },
  {
   "cell_type": "code",
   "execution_count": null,
   "id": "d6b0a27d-0bfc-4cc7-88b5-8d7fd547b20c",
   "metadata": {},
   "outputs": [],
   "source": [
    "v1.sort()\n",
    "v2.sort()"
   ]
  },
  {
   "cell_type": "code",
   "execution_count": null,
   "id": "cb0f17bf-01da-40f2-8b49-2c82df997df8",
   "metadata": {},
   "outputs": [],
   "source": [
    "for i in range(max(l1,l2)):\n",
    "    if((v1[i] if i<l1 else \"       \")!=(v2[i] if i<l2 else 0)):\n",
    "        print(v1[i] if i<l1 else \"       \",\"\\t\",v2[i] if i<l2 else 0)"
   ]
  },
  {
   "cell_type": "code",
   "execution_count": null,
   "id": "ca6fa4d8-25b9-4b7c-ae13-c4480afde4a1",
   "metadata": {},
   "outputs": [],
   "source": [
    "v1\n"
   ]
  },
  {
   "cell_type": "code",
   "execution_count": null,
   "id": "3a65e17b-0f0d-4ada-b3c0-7a046ce5f767",
   "metadata": {},
   "outputs": [],
   "source": [
    "v2\n"
   ]
  },
  {
   "cell_type": "code",
   "execution_count": null,
   "id": "62d1f24a-1328-42c4-a58c-b23e5099352e",
   "metadata": {},
   "outputs": [],
   "source": []
  },
  {
   "cell_type": "code",
   "execution_count": 17,
   "id": "be1f25e4-8a3d-476d-93fd-0e4641ca10ce",
   "metadata": {},
   "outputs": [
    {
     "name": "stdout",
     "output_type": "stream",
     "text": [
      "481\n",
      "382\n",
      "157\n",
      "188\n",
      "155\n",
      "Tempo totale mossa 0.06484582698791236 s\n",
      "1363\n"
     ]
    }
   ],
   "source": [
    "totMov = 0\n",
    "t_start = time.time()\n",
    "\n",
    "for rt in range(5):\n",
    "    initNewGame(player)    \n",
    "    i = 0\n",
    "\n",
    "    while i<200000:\n",
    "\n",
    "        # .EBoard_getNextsActions(board, ris)\n",
    "        actStrE = getValidMoves(player)\n",
    "\n",
    "        num_actions = len(actStrE)\n",
    "        m = random.randint(1, num_actions)\n",
    "        if num_actions<=1:\n",
    "            print(i)\n",
    "            break\n",
    "        playMove(actStrE[m-1])\n",
    "        \n",
    "        totMov += 1\n",
    "        \n",
    "        i += 1\n",
    "\n",
    "    \n",
    "t_end = time.time()\n",
    "print(\"Tempo totale mossa\", (t_end - t_start) /totMov, \"s\")\n",
    "print(totMov)\n"
   ]
  },
  {
   "cell_type": "code",
   "execution_count": null,
   "id": "17bd1333-018f-4cf6-9492-b4bd8c1f8f1b",
   "metadata": {},
   "outputs": [],
   "source": []
  }
 ],
 "metadata": {
  "kernelspec": {
   "display_name": "Python 3 (ipykernel)",
   "language": "python",
   "name": "python3"
  },
  "language_info": {
   "codemirror_mode": {
    "name": "ipython",
    "version": 3
   },
   "file_extension": ".py",
   "mimetype": "text/x-python",
   "name": "python",
   "nbconvert_exporter": "python",
   "pygments_lexer": "ipython3",
   "version": "3.10.9"
  }
 },
 "nbformat": 4,
 "nbformat_minor": 5
}
