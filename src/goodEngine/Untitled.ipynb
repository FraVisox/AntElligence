{
 "cells": [
  {
   "cell_type": "code",
   "execution_count": 1,
   "id": "98b0835a",
   "metadata": {},
   "outputs": [],
   "source": [
    "\n",
    "import ctypes\n",
    "import os\n",
    "from abc import ABC, abstractmethod\n"
   ]
  },
  {
   "cell_type": "code",
   "execution_count": 2,
   "id": "6d4968a3",
   "metadata": {},
   "outputs": [],
   "source": [
    "path = os.path.join(os.getcwd(), \"cpp/interface.so\")\n",
    "dll = ctypes.CDLL(path)\n",
    "\n",
    "getBoard=dll._Z10base_statei\n",
    "copyBoard=dll._Z9copyBoardP6EBoard\n",
    "updateState=dll._Z10next_stateP6EBoardl\n",
    "getAction=dll._Z10getActionsP6EBoardPl\n",
    "actionToString=dll._Z14actionToStringl\n",
    "printAct=dll._Z16printActionFancyl\n",
    "\n",
    "actionToString.restype = ctypes.c_char_p\n",
    "actionToString.argtypes = [ctypes.c_int64]\n",
    "printAct.argtypes = [ctypes.c_int64]\n",
    "getAction.argtypes = [ctypes.c_void_p,ctypes.POINTER(ctypes.c_int64)]"
   ]
  },
  {
   "cell_type": "code",
   "execution_count": 3,
   "id": "04cf47f2-f32d-40e6-a2d6-ebda4bc62da7",
   "metadata": {},
   "outputs": [],
   "source": [
    "b=getBoard()"
   ]
  },
  {
   "cell_type": "code",
   "execution_count": 4,
   "id": "e5451da3",
   "metadata": {},
   "outputs": [],
   "source": [
    "RisType = ctypes.c_int64 * 256;\n",
    "\n",
    "ris=RisType()\n",
    "ris[0]=2"
   ]
  },
  {
   "cell_type": "code",
   "execution_count": null,
   "id": "3372e96d-71b3-4b4b-97cc-cf6e63b07e30",
   "metadata": {},
   "outputs": [],
   "source": []
  },
  {
   "cell_type": "code",
   "execution_count": 5,
   "id": "929586a3-1742-4276-9575-f1e726f78feb",
   "metadata": {},
   "outputs": [
    {
     "data": {
      "text/plain": [
       "4"
      ]
     },
     "execution_count": 5,
     "metadata": {},
     "output_type": "execute_result"
    }
   ],
   "source": [
    "getAction(b,ris)\n"
   ]
  },
  {
   "cell_type": "code",
   "execution_count": 6,
   "id": "243e945e",
   "metadata": {},
   "outputs": [
    {
     "name": "stdout",
     "output_type": "stream",
     "text": [
      "1\n",
      "3\n",
      "5\n",
      "9\n"
     ]
    }
   ],
   "source": [
    "for i in range(1,ris[0]+1):\n",
    "    print(ris[i])"
   ]
  },
  {
   "cell_type": "code",
   "execution_count": 7,
   "id": "43c438f4",
   "metadata": {},
   "outputs": [
    {
     "data": {
      "text/plain": [
       "36043019"
      ]
     },
     "execution_count": 7,
     "metadata": {},
     "output_type": "execute_result"
    }
   ],
   "source": [
    "updateState(b,ris[1])"
   ]
  },
  {
   "cell_type": "code",
   "execution_count": 8,
   "id": "1b63af5c",
   "metadata": {},
   "outputs": [
    {
     "data": {
      "text/plain": [
       "24"
      ]
     },
     "execution_count": 8,
     "metadata": {},
     "output_type": "execute_result"
    }
   ],
   "source": [
    "getAction(b,ris)"
   ]
  },
  {
   "cell_type": "code",
   "execution_count": 9,
   "id": "5c13fbf4-3266-404d-95ba-e9f60706c32e",
   "metadata": {},
   "outputs": [
    {
     "data": {
      "text/plain": [
       "4294967311"
      ]
     },
     "execution_count": 9,
     "metadata": {},
     "output_type": "execute_result"
    }
   ],
   "source": [
    "ris[1]"
   ]
  },
  {
   "cell_type": "code",
   "execution_count": 10,
   "id": "d34d2095-8f2c-4f9a-8139-2c568e3fcec1",
   "metadata": {},
   "outputs": [
    {
     "name": "stdout",
     "output_type": "stream",
     "text": [
      "4294967311 bS1 wS1-\n",
      "\n",
      "1099511627791 bS1 wS1\\\n",
      "Act: bS1|   |   |   |wS1|   |   |   |\n",
      "\n",
      "281474976710671 bS1 /wS1\n",
      "Act: bS1|   |   |   |   |wS1|   |   |\n",
      "Act: bS1|   |   |   |   |   |wS1|   |\n",
      "\n",
      "271 bS1 -wS1\n",
      "\n",
      "65551 bS1 \\wS1\n",
      "\n",
      "16777231 bS1 wS1/\n",
      "\n",
      "4294967313 bB1 wS1-\n",
      "\n",
      "1099511627793 bB1 wS1\\\n",
      "\n",
      "281474976710673 bB1 /wS1\n",
      "\n",
      "273 bB1 -wS1\n",
      "\n",
      "65553 bB1 \\wS1\n",
      "\n",
      "16777233 bB1 wS1/\n",
      "\n",
      "4294967315 bG1 wS1-\n",
      "\n",
      "1099511627795 bG1 wS1\\\n",
      "\n",
      "281474976710675 bG1 /wS1\n",
      "\n",
      "275 bG1 -wS1\n",
      "\n",
      "65555 bG1 \\wS1\n",
      "\n",
      "16777235 bG1 wS1/\n",
      "\n",
      "4294967319 bA1 wS1-\n",
      "\n",
      "1099511627799 bA1 wS1\\\n",
      "\n",
      "281474976710679 bA1 /wS1\n",
      "\n",
      "279 bA1 -wS1\n",
      "\n",
      "65559 bA1 \\wS1\n",
      "\n",
      "16777239 bA1 wS1/\n",
      "\n",
      "Act: bS1|wS1|   |   |   |   |   |   |\n",
      "Act: bS1|   |wS1|   |   |   |   |   |\n",
      "Act: bS1|   |   |wS1|   |   |   |   |\n",
      "Act: bB1|   |   |   |wS1|   |   |   |\n",
      "Act: bB1|   |   |   |   |wS1|   |   |\n",
      "Act: bB1|   |   |   |   |   |wS1|   |\n",
      "Act: bB1|wS1|   |   |   |   |   |   |\n",
      "Act: bB1|   |wS1|   |   |   |   |   |\n",
      "Act: bB1|   |   |wS1|   |   |   |   |\n",
      "Act: bG1|   |   |   |wS1|   |   |   |\n",
      "Act: bG1|   |   |   |   |wS1|   |   |\n",
      "Act: bG1|   |   |   |   |   |wS1|   |\n",
      "Act: bG1|wS1|   |   |   |   |   |   |\n",
      "Act: bG1|   |wS1|   |   |   |   |   |\n",
      "Act: bG1|   |   |wS1|   |   |   |   |\n",
      "Act: bA1|   |   |   |wS1|   |   |   |\n",
      "Act: bA1|   |   |   |   |wS1|   |   |\n",
      "Act: bA1|   |   |   |   |   |wS1|   |\n",
      "Act: bA1|wS1|   |   |   |   |   |   |\n",
      "Act: bA1|   |wS1|   |   |   |   |   |\n",
      "Act: bA1|   |   |wS1|   |   |   |   |\n"
     ]
    }
   ],
   "source": [
    "for i in range(1,ris[0]+1):\n",
    "    print(ris[i], actionToString(ris[i]).decode('utf-8'))\n",
    "    printAct(ris[i])\n",
    "    print(\"\")"
   ]
  },
  {
   "cell_type": "code",
   "execution_count": 4,
   "id": "f4c1d923",
   "metadata": {},
   "outputs": [],
   "source": [
    "path = os.path.join(os.getcwd(), \"cpp/engine.dll\")\n",
    "dll = ctypes.CDLL(path)\n",
    "        "
   ]
  },
  {
   "cell_type": "code",
   "execution_count": 18,
   "id": "4ed332b6",
   "metadata": {},
   "outputs": [
    {
     "name": "stdout",
     "output_type": "stream",
     "text": [
      "40282240\n",
      "39449008\n",
      "40510320\n"
     ]
    }
   ],
   "source": [
    "dll._Z10validMovesv.restype=ctypes.POINTER(ctypes.POINTER(ctypes.c_char))# ctypes.POINTER(ctypes.c_char_p)\n",
    "r=dll._Z10validMovesv()\n"
   ]
  },
  {
   "cell_type": "code",
   "execution_count": 25,
   "id": "e0c73686",
   "metadata": {},
   "outputs": [
    {
     "data": {
      "text/plain": [
       "b'\\x05'"
      ]
     },
     "execution_count": 25,
     "metadata": {},
     "output_type": "execute_result"
    }
   ],
   "source": [
    "r[2][5]"
   ]
  },
  {
   "cell_type": "code",
   "execution_count": 21,
   "id": "92f36827",
   "metadata": {},
   "outputs": [
    {
     "ename": "NameError",
     "evalue": "name 'game_rule' is not defined",
     "output_type": "error",
     "traceback": [
      "\u001b[0;31m---------------------------------------------------------------------------\u001b[0m",
      "\u001b[0;31mNameError\u001b[0m                                 Traceback (most recent call last)",
      "Cell \u001b[0;32mIn[21], line 1\u001b[0m\n\u001b[0;32m----> 1\u001b[0m \u001b[38;5;28;01mclass\u001b[39;00m \u001b[38;5;21;01mgame_rule_cpp_imp\u001b[39;00m(\u001b[43mgame_rule\u001b[49m):\n\u001b[1;32m      2\u001b[0m     \u001b[38;5;28;01mdef\u001b[39;00m \u001b[38;5;21m__init__\u001b[39m(\u001b[38;5;28mself\u001b[39m):\n\u001b[1;32m      3\u001b[0m         path \u001b[38;5;241m=\u001b[39m os\u001b[38;5;241m.\u001b[39mpath\u001b[38;5;241m.\u001b[39mjoin(os\u001b[38;5;241m.\u001b[39mgetcwd(), \u001b[38;5;124m\"\u001b[39m\u001b[38;5;124mcpp/engine.dll\u001b[39m\u001b[38;5;124m\"\u001b[39m)\n",
      "\u001b[0;31mNameError\u001b[0m: name 'game_rule' is not defined"
     ]
    }
   ],
   "source": [
    "class game_rule_cpp_imp(game_rule):\n",
    "    def __init__(self):\n",
    "        path = os.path.join(os.getcwd(), \"cpp/engine.dll\")\n",
    "        self.dll = ctypes.CDLL(path)\n",
    "        self._setup_functions()\n",
    "\n",
    "\n",
    "    def _setup_functions(self):\n",
    "        # Set up game functions\n",
    "        self.dll._Z10init_statev.restype = ctypes.c_uint64*32;\n",
    "        \n",
    "        self.dll._Z10next_statePmm.argtypes = [ctypes.c_uint64*32];\n",
    "        self.dll._Z10next_statePmm.restype = ctypes.c_uint64*5;\n",
    "        \n",
    "        self.dll._Z10getActionsPm.argtypes = [ctypes.c_uint64*32];\n",
    "        self.dll._Z10getActionsPm.restype = ctypes.c_uint64*512;\n",
    "        \n",
    "        self.dll._Z11checkStatusPm.argtypes = [ctypes.c_uint64*32];\n",
    "        self.dll._Z11checkStatusPm.restype = ctypes.c_ushort;\n",
    "        \n",
    "    def init_state(self):\n",
    "        return self.dll._Z10init_statev()\n",
    "    \n",
    "    def next_state(self,state,action):\n",
    "        return self.dll._Z10next_statePmm(state,action)\n",
    "    \n",
    "    def getActions(self,state):\n",
    "        return self.dll._Z10next_statePmm(state)\n",
    "    \n",
    "    def checkStatus(self,state):\n",
    "        return self.dll._Z11checkStatusPm(state)"
   ]
  },
  {
   "cell_type": "code",
   "execution_count": null,
   "id": "e2258704",
   "metadata": {},
   "outputs": [],
   "source": [
    "a=game_rule_cpp_imp()"
   ]
  },
  {
   "cell_type": "code",
   "execution_count": null,
   "id": "23a1f746",
   "metadata": {},
   "outputs": [],
   "source": [
    "a.init_state()"
   ]
  },
  {
   "cell_type": "code",
   "execution_count": null,
   "id": "b91c1435",
   "metadata": {},
   "outputs": [],
   "source": []
  },
  {
   "cell_type": "code",
   "execution_count": null,
   "id": "484c82ad",
   "metadata": {},
   "outputs": [],
   "source": []
  }
 ],
 "metadata": {
  "kernelspec": {
   "display_name": "Python 3 (ipykernel)",
   "language": "python",
   "name": "python3"
  },
  "language_info": {
   "codemirror_mode": {
    "name": "ipython",
    "version": 3
   },
   "file_extension": ".py",
   "mimetype": "text/x-python",
   "name": "python",
   "nbconvert_exporter": "python",
   "pygments_lexer": "ipython3",
   "version": "3.10.9"
  }
 },
 "nbformat": 4,
 "nbformat_minor": 5
}
