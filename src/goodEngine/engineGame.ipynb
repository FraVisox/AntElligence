{
 "cells": [
  {
   "cell_type": "code",
   "execution_count": 1,
   "id": "c419018e-504a-4dd5-8848-62a820f1acc7",
   "metadata": {},
   "outputs": [],
   "source": [
    "\n",
    "from minimaxAgent import MinimaxAgentCPP as Agent\n",
    "\n"
   ]
  },
  {
   "cell_type": "code",
   "execution_count": 2,
   "id": "9431846c-de0a-4645-bb21-095a1096dddc",
   "metadata": {},
   "outputs": [],
   "source": [
    "def decodeGamemode(gamemode):\n",
    "    \n",
    "    match gamemode:\n",
    "        case \"Base\":\n",
    "            return 0\n",
    "        case \"Base+M\":\n",
    "            return 1\n",
    "        case \"Base+L\":\n",
    "            return 2\n",
    "        case \"Base+P\":\n",
    "            return 3\n",
    "        case \"Base+ML\":\n",
    "            return 4\n",
    "        case \"Base+MP\":\n",
    "            return 5\n",
    "        case \"Base+LP\":\n",
    "            return 6\n",
    "        case \"Base+MLP\":\n",
    "            return 7"
   ]
  },
  {
   "cell_type": "code",
   "execution_count": 3,
   "id": "60af8478-cfc5-43a3-9c1f-4c944fee9623",
   "metadata": {},
   "outputs": [],
   "source": [
    "def engine():\n",
    "    game=None\n",
    "    while True:\n",
    "        command = input().strip().lower()\n",
    "        if command.startswith(\"newgame\"):\n",
    "            if(command==\"newgame\"):\n",
    "                command=\"newgame Base\"\n",
    "            if game!=None:\n",
    "                game.delGame()\n",
    "            _, gt = command.split()\n",
    "            game=Agent(decodeGamemode(gt))\n",
    "        elif command.startswith(\"play\"):\n",
    "            _, action = command.split(maxsplit=1)\n",
    "            game.playmove(action)\n",
    "            \n",
    "        elif command == \"bestmove\":\n",
    "            best_move = game.bestmove()\n",
    "            print(f\"{best_move}\")\n",
    "        elif command == \"reset\":\n",
    "            game.reset()\n",
    "        elif command == \"quit\":\n",
    "            break\n",
    "        else:\n",
    "            print(f\"Unknown command: {command}\")\n",
    "        print(game.gameinfo())\n",
    "        print(\"ok\")\n",
    "\n"
   ]
  },
  {
   "cell_type": "code",
   "execution_count": null,
   "id": "dcb790b0-5e37-4c73-ae11-52151774cc0b",
   "metadata": {},
   "outputs": [
    {
     "name": "stdout",
     "output_type": "stream",
     "text": [
      " newgame\n"
     ]
    },
    {
     "name": "stdout",
     "output_type": "stream",
     "text": [
      "Base;NotStarted;White[1]\n",
      "ok\n"
     ]
    },
    {
     "name": "stdout",
     "output_type": "stream",
     "text": [
      " play wS1\n"
     ]
    },
    {
     "name": "stdout",
     "output_type": "stream",
     "text": [
      "Base;InProgress;White[1];ws1_ws1_\n",
      "\n",
      "ok\n"
     ]
    },
    {
     "name": "stdout",
     "output_type": "stream",
     "text": [
      " bestmove\n"
     ]
    },
    {
     "name": "stdout",
     "output_type": "stream",
     "text": [
      "bS1\n",
      "Base;InProgress;White[1];ws1\n",
      "ok\n"
     ]
    },
    {
     "name": "stdout",
     "output_type": "stream",
     "text": [
      " play bS1\n"
     ]
    },
    {
     "name": "stdout",
     "output_type": "stream",
     "text": [
      "Base;InProgress;White[1];ws1;bs1\n",
      "ok\n",
      "_bs1_\n"
     ]
    },
    {
     "name": "stdout",
     "output_type": "stream",
     "text": [
      " bestmove\n"
     ]
    },
    {
     "name": "stdout",
     "output_type": "stream",
     "text": [
      "wS1 wP-\n",
      "Base;InProgress;White[1];ws1;bs1\n",
      "ok\n"
     ]
    },
    {
     "name": "stdout",
     "output_type": "stream",
     "text": [
      " play wS1 wP-\n"
     ]
    }
   ],
   "source": [
    "engine()"
   ]
  },
  {
   "cell_type": "code",
   "execution_count": null,
   "id": "5a0ba00c-b73d-49c9-bdda-8c8f0c70c245",
   "metadata": {},
   "outputs": [],
   "source": []
  }
 ],
 "metadata": {
  "kernelspec": {
   "display_name": "Python 3.10.11 64-bit",
   "language": "python",
   "name": "python3"
  },
  "language_info": {
   "codemirror_mode": {
    "name": "ipython",
    "version": 3
   },
   "file_extension": ".py",
   "mimetype": "text/x-python",
   "name": "python",
   "nbconvert_exporter": "python",
   "pygments_lexer": "ipython3",
   "version": "3.10.11"
  },
  "vscode": {
   "interpreter": {
    "hash": "e7370f93d1d0cde622a1f8e1c04877d8463912d04d973331ad4851f04de6915a"
   }
  }
 },
 "nbformat": 4,
 "nbformat_minor": 5
}
