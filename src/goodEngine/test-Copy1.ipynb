{
 "cells": [
  {
   "cell_type": "code",
   "execution_count": 5,
   "id": "98b0835a",
   "metadata": {},
   "outputs": [],
   "source": [
    "\n",
    "import ctypes\n",
    "import os\n",
    "from abc import ABC, abstractmethod\n"
   ]
  },
  {
   "cell_type": "code",
   "execution_count": 6,
   "id": "6d4968a3",
   "metadata": {},
   "outputs": [
    {
     "ename": "AttributeError",
     "evalue": "/home/matteo/Desktop/Elicsir/AntElligence/src/goodEngine/cpp/interface.so: undefined symbol: _Z10next_stateP6EBoardl",
     "output_type": "error",
     "traceback": [
      "\u001b[0;31m---------------------------------------------------------------------------\u001b[0m",
      "\u001b[0;31mAttributeError\u001b[0m                            Traceback (most recent call last)",
      "Cell \u001b[0;32mIn[6], line 6\u001b[0m\n\u001b[1;32m      4\u001b[0m getBoard\u001b[38;5;241m=\u001b[39mdll\u001b[38;5;241m.\u001b[39m_Z10base_statei\n\u001b[1;32m      5\u001b[0m copyBoard\u001b[38;5;241m=\u001b[39mdll\u001b[38;5;241m.\u001b[39m_Z9copyBoardP6EBoard\n\u001b[0;32m----> 6\u001b[0m updateState\u001b[38;5;241m=\u001b[39m\u001b[43mdll\u001b[49m\u001b[38;5;241;43m.\u001b[39;49m\u001b[43m_Z10next_stateP6EBoardl\u001b[49m\n\u001b[1;32m      7\u001b[0m getAction\u001b[38;5;241m=\u001b[39mdll\u001b[38;5;241m.\u001b[39m_Z10getActionsP6EBoardPl\n\u001b[1;32m      8\u001b[0m actionToString\u001b[38;5;241m=\u001b[39mdll\u001b[38;5;241m.\u001b[39m_Z14actionToStringl\n",
      "File \u001b[0;32m~/miniconda3/lib/python3.10/ctypes/__init__.py:387\u001b[0m, in \u001b[0;36mCDLL.__getattr__\u001b[0;34m(self, name)\u001b[0m\n\u001b[1;32m    385\u001b[0m \u001b[38;5;28;01mif\u001b[39;00m name\u001b[38;5;241m.\u001b[39mstartswith(\u001b[38;5;124m'\u001b[39m\u001b[38;5;124m__\u001b[39m\u001b[38;5;124m'\u001b[39m) \u001b[38;5;129;01mand\u001b[39;00m name\u001b[38;5;241m.\u001b[39mendswith(\u001b[38;5;124m'\u001b[39m\u001b[38;5;124m__\u001b[39m\u001b[38;5;124m'\u001b[39m):\n\u001b[1;32m    386\u001b[0m     \u001b[38;5;28;01mraise\u001b[39;00m \u001b[38;5;167;01mAttributeError\u001b[39;00m(name)\n\u001b[0;32m--> 387\u001b[0m func \u001b[38;5;241m=\u001b[39m \u001b[38;5;28;43mself\u001b[39;49m\u001b[38;5;241;43m.\u001b[39;49m\u001b[38;5;21;43m__getitem__\u001b[39;49m\u001b[43m(\u001b[49m\u001b[43mname\u001b[49m\u001b[43m)\u001b[49m\n\u001b[1;32m    388\u001b[0m \u001b[38;5;28msetattr\u001b[39m(\u001b[38;5;28mself\u001b[39m, name, func)\n\u001b[1;32m    389\u001b[0m \u001b[38;5;28;01mreturn\u001b[39;00m func\n",
      "File \u001b[0;32m~/miniconda3/lib/python3.10/ctypes/__init__.py:392\u001b[0m, in \u001b[0;36mCDLL.__getitem__\u001b[0;34m(self, name_or_ordinal)\u001b[0m\n\u001b[1;32m    391\u001b[0m \u001b[38;5;28;01mdef\u001b[39;00m \u001b[38;5;21m__getitem__\u001b[39m(\u001b[38;5;28mself\u001b[39m, name_or_ordinal):\n\u001b[0;32m--> 392\u001b[0m     func \u001b[38;5;241m=\u001b[39m \u001b[38;5;28;43mself\u001b[39;49m\u001b[38;5;241;43m.\u001b[39;49m\u001b[43m_FuncPtr\u001b[49m\u001b[43m(\u001b[49m\u001b[43m(\u001b[49m\u001b[43mname_or_ordinal\u001b[49m\u001b[43m,\u001b[49m\u001b[43m \u001b[49m\u001b[38;5;28;43mself\u001b[39;49m\u001b[43m)\u001b[49m\u001b[43m)\u001b[49m\n\u001b[1;32m    393\u001b[0m     \u001b[38;5;28;01mif\u001b[39;00m \u001b[38;5;129;01mnot\u001b[39;00m \u001b[38;5;28misinstance\u001b[39m(name_or_ordinal, \u001b[38;5;28mint\u001b[39m):\n\u001b[1;32m    394\u001b[0m         func\u001b[38;5;241m.\u001b[39m\u001b[38;5;18m__name__\u001b[39m \u001b[38;5;241m=\u001b[39m name_or_ordinal\n",
      "\u001b[0;31mAttributeError\u001b[0m: /home/matteo/Desktop/Elicsir/AntElligence/src/goodEngine/cpp/interface.so: undefined symbol: _Z10next_stateP6EBoardl"
     ]
    }
   ],
   "source": [
    "path = os.path.join(os.getcwd(), \"cpp/interface.so\")\n",
    "dll = ctypes.CDLL(path)\n",
    "\n",
    "getBoard=dll._Z10base_statei\n",
    "copyBoard=dll._Z9copyBoardP6EBoard\n",
    "updateState=dll._Z10next_stateP6EBoardl\n",
    "getAction=dll._Z10getActionsP6EBoardPl\n",
    "actionToString=dll._Z14actionToStringl\n",
    "printAct=dll._Z16printActionFancyl\n",
    "\n",
    "actionToString.restype = ctypes.c_char_p\n",
    "actionToString.argtypes = [ctypes.c_uint64]\n",
    "printAct.argtypes = [ctypes.c_uint64]\n",
    "getAction.argtypes = [ctypes.c_void_p,ctypes.POINTER(ctypes.c_uint64)]"
   ]
  },
  {
   "cell_type": "code",
   "execution_count": null,
   "id": "04cf47f2-f32d-40e6-a2d6-ebda4bc62da7",
   "metadata": {},
   "outputs": [],
   "source": [
    "b=getBoard()"
   ]
  },
  {
   "cell_type": "code",
   "execution_count": null,
   "id": "e5451da3",
   "metadata": {},
   "outputs": [],
   "source": [
    "RisType = ctypes.c_uint64 * 256\n",
    "\n",
    "ris=RisType()\n",
    "ris[0]=2"
   ]
  },
  {
   "cell_type": "code",
   "execution_count": null,
   "id": "3372e96d-71b3-4b4b-97cc-cf6e63b07e30",
   "metadata": {},
   "outputs": [],
   "source": [
    "import time\n",
    "time.time()"
   ]
  },
  {
   "cell_type": "code",
   "execution_count": null,
   "id": "929586a3-1742-4276-9575-f1e726f78feb",
   "metadata": {},
   "outputs": [],
   "source": [
    "from game_rule import DLLGameRule \n",
    "GR=DLLGameRule()\n",
    "import time\n",
    "import random\n",
    "import ctypes\n",
    "import math\n",
    "import time"
   ]
  },
  {
   "cell_type": "code",
   "execution_count": null,
   "id": "243e945e",
   "metadata": {},
   "outputs": [],
   "source": [
    "totMov = 0\n",
    "t_start = time.time()\n",
    "\n",
    "for rt in range(200):\n",
    "    state = GR.init_state()\n",
    "    i = 0\n",
    "\n",
    "    ris = (ctypes.c_int * 256)()  # buffer for actions\n",
    "    while i<200000:\n",
    "\n",
    "        ris=GR.getActions(state)\n",
    "        # .EBoard_getNextsActions(board, ris)\n",
    "\n",
    "        num_actions = ris[0]\n",
    "        m = random.randint(1, num_actions)\n",
    "        GR.next_state(state, ris[m])\n",
    "\n",
    "        out = GR.checkStatus(state)\n",
    "        if out != 1:\n",
    "            print(i)\n",
    "            break\n",
    "        totMov += 1\n",
    "        \n",
    "        i += 1\n",
    "\n",
    "    \n",
    "t_end = time.time()\n",
    "print(\"Tempo totale mossa\", (t_end - t_start) /totMov, \"s\")\n",
    "print(totMov)\n"
   ]
  },
  {
   "cell_type": "code",
   "execution_count": null,
   "id": "43c438f4",
   "metadata": {},
   "outputs": [],
   "source": [
    "state = GR.init_state()\n",
    "ris=GR.getActions(state)\n",
    "GR.next_state(state, ris[0])\n",
    "out = GR.checkStatus(state)\n",
    "        "
   ]
  },
  {
   "cell_type": "code",
   "execution_count": null,
   "id": "1b63af5c",
   "metadata": {},
   "outputs": [],
   "source": [
    "\n",
    "ris=GR.getActions(state)\n",
    "GR.next_state(state, ris[0])\n",
    "out = GR.checkStatus(state)"
   ]
  },
  {
   "cell_type": "code",
   "execution_count": null,
   "id": "5c13fbf4-3266-404d-95ba-e9f60706c32e",
   "metadata": {},
   "outputs": [],
   "source": [
    "out"
   ]
  },
  {
   "cell_type": "code",
   "execution_count": null,
   "id": "d34d2095-8f2c-4f9a-8139-2c568e3fcec1",
   "metadata": {},
   "outputs": [],
   "source": [
    "for i in range(1,ris[0]+1):\n",
    "    print(ris[i], actionToString(ris[i]).decode('utf-8'))\n",
    "    printAct(ris[i])\n",
    "    print(\"\")"
   ]
  },
  {
   "cell_type": "code",
   "execution_count": null,
   "id": "f4c1d923",
   "metadata": {},
   "outputs": [],
   "source": [
    "path = os.path.join(os.getcwd(), \"cpp/engine.dll\")\n",
    "dll = ctypes.CDLL(path)\n",
    "        "
   ]
  },
  {
   "cell_type": "code",
   "execution_count": null,
   "id": "4ed332b6",
   "metadata": {},
   "outputs": [],
   "source": [
    "dll._Z10validMovesv.restype=ctypes.POINTER(ctypes.POINTER(ctypes.c_char))# ctypes.POINTER(ctypes.c_char_p)\n",
    "r=dll._Z10validMovesv()\n"
   ]
  },
  {
   "cell_type": "code",
   "execution_count": null,
   "id": "e0c73686",
   "metadata": {},
   "outputs": [],
   "source": [
    "r[2][5]"
   ]
  },
  {
   "cell_type": "code",
   "execution_count": null,
   "id": "92f36827",
   "metadata": {},
   "outputs": [],
   "source": [
    "class game_rule_cpp_imp(game_rule):\n",
    "    def __init__(self):\n",
    "        path = os.path.join(os.getcwd(), \"cpp/engine.dll\")\n",
    "        self.dll = ctypes.CDLL(path)\n",
    "        self._setup_functions()\n",
    "\n",
    "\n",
    "    def _setup_functions(self):\n",
    "        # Set up game functions\n",
    "        self.dll._Z10init_statev.restype = ctypes.c_uint64*32;\n",
    "        \n",
    "        self.dll._Z10next_statePmm.argtypes = [ctypes.c_uint64*32];\n",
    "        self.dll._Z10next_statePmm.restype = ctypes.c_uint64*5;\n",
    "        \n",
    "        self.dll._Z10getActionsPm.argtypes = [ctypes.c_uint64*32];\n",
    "        self.dll._Z10getActionsPm.restype = ctypes.c_uint64*512;\n",
    "        \n",
    "        self.dll._Z11checkStatusPm.argtypes = [ctypes.c_uint64*32];\n",
    "        self.dll._Z11checkStatusPm.restype = ctypes.c_ushort;\n",
    "        \n",
    "    def init_state(self):\n",
    "        return self.dll._Z10init_statev()\n",
    "    \n",
    "    def next_state(self,state,action):\n",
    "        return self.dll._Z10next_statePmm(state,action)\n",
    "    \n",
    "    def getActions(self,state):\n",
    "        return self.dll._Z10next_statePmm(state)\n",
    "    \n",
    "    def checkStatus(self,state):\n",
    "        return self.dll._Z11checkStatusPm(state)"
   ]
  },
  {
   "cell_type": "code",
   "execution_count": null,
   "id": "e2258704",
   "metadata": {},
   "outputs": [],
   "source": [
    "a=game_rule_cpp_imp()"
   ]
  },
  {
   "cell_type": "code",
   "execution_count": null,
   "id": "23a1f746",
   "metadata": {},
   "outputs": [],
   "source": [
    "a.init_state()"
   ]
  },
  {
   "cell_type": "code",
   "execution_count": null,
   "id": "b91c1435",
   "metadata": {},
   "outputs": [],
   "source": [
    "from game_rule import DLLGameRule \n",
    "GR=DLLGameRule()\n",
    "import time\n",
    "import random\n",
    "import ctypes\n",
    "import math\n",
    "import time"
   ]
  },
  {
   "cell_type": "code",
   "execution_count": null,
   "id": "0fc60652-5039-4dd4-bbcc-72b99130173b",
   "metadata": {},
   "outputs": [],
   "source": [
    "from game_rule import DLLGameRule \n",
    "GR=DLLGameRule()\n",
    "import time\n",
    "import random\n",
    "import ctypes\n",
    "import math\n",
    "import time"
   ]
  },
  {
   "cell_type": "code",
   "execution_count": null,
   "id": "40909615-65f9-4c90-8f2d-e1c618bba863",
   "metadata": {},
   "outputs": [],
   "source": [
    "import random\n",
    "\n",
    "# contatore globale di valutazioni statiche\n",
    "evN = 0\n",
    "\n",
    "def minimax(state, depth, maximizing_player, w, alpha=-1e9, beta=+1e9, currentTurn=0):\n",
    "    \"\"\"\n",
    "    Restituisce (valore, migliore_azione)\n",
    "    \"\"\"\n",
    "    global evN\n",
    "\n",
    "    # 1) verifica immediata di terminale\n",
    "    status = GR.checkStatus(state)\n",
    "    if status != 1:  # 1 == ongoing\n",
    "        t = currentTurn% 2 == 0\n",
    "        # se è vittoria per chi muove in questo stato\n",
    "        if (status == 3 and t == 0) or (status == 4 and t == 1):\n",
    "            return +1000, None\n",
    "        else:\n",
    "            return -1000, None\n",
    "\n",
    "    # 2) cutoff di profondità → valutazione statica\n",
    "    if depth == 0:\n",
    "        evN += 1\n",
    "        return GR.calcVal(state, w), None\n",
    "\n",
    "    actionsVect = GR.getActions(state)  # es. [n, a1, a2, ..., a_n]\n",
    "    n = actionsVect[0]\n",
    "    localActions=[actionsVect[i] for i in range(1,n+1)]\n",
    "    best_action = localActions[0]\n",
    "    \n",
    "    if maximizing_player:\n",
    "        max_eval = -1e9\n",
    "        for action in localActions:\n",
    "            child = GR.copyBoard(state)\n",
    "            GR.next_state(child, action)\n",
    "            evalV, _ = minimax(child, depth-1, False, w, alpha, beta,currentTurn=currentTurn+1)\n",
    "            GR.delBoard(child)\n",
    "\n",
    "            if evalV > max_eval:\n",
    "                max_eval = evalV\n",
    "                best_action = action\n",
    "\n",
    "            alpha = max(alpha, evalV)\n",
    "            if beta <= alpha:\n",
    "                break  # β-cut\n",
    "\n",
    "        return max_eval, best_action\n",
    "\n",
    "    else:\n",
    "        min_eval = +1e9\n",
    "        for action in localActions:\n",
    "            child = GR.copyBoard(state)\n",
    "            GR.next_state(child, action)\n",
    "            evalV, _ = minimax(child, depth-1, True, w, alpha, beta,currentTurn=currentTurn+1)\n",
    "            GR.delBoard(child)\n",
    "\n",
    "            if evalV < min_eval:\n",
    "                min_eval = evalV\n",
    "                best_action = action\n",
    "\n",
    "            beta = min(beta, evalV)\n",
    "            if beta <= alpha:\n",
    "                break  # α-cut\n",
    "\n",
    "        return min_eval, best_action\n",
    "\n",
    "\n",
    "def main():\n",
    "    Win = [0, 0]\n",
    "    \n",
    "    w=(ctypes.c_double * 6)(0,0,0,1,-2,30)\n",
    "\n",
    "    for Q in range(100):\n",
    "        state = GR.init_state()\n",
    "        i = 0\n",
    "        totMov = 0\n",
    "        while i < 300:\n",
    "            global evN\n",
    "            if i % 2 == 0:\n",
    "                evN = 0\n",
    "                score, best_action = minimax(state, 5, True, w,currentTurn=i+1)\n",
    "                print(f\"Score:: {score}\")\n",
    "            else:\n",
    "                actions = GR.getActions(state)\n",
    "                # scelta casuale per il secondo giocatore\n",
    "                m = random.randint(1, actions[0])\n",
    "                best_action = actions[m]\n",
    "\n",
    "            print(f\"Best action with: {evN} iteration for turn {i}\")\n",
    "            GR.next_state(state, best_action)\n",
    "            totMov += 1\n",
    "            i += 1\n",
    "\n",
    "            status = GR.checkStatus(state)\n",
    "            if status != 1:\n",
    "                Win[i % 2] += 1\n",
    "                break\n",
    "        GR.delBoard(state)\n",
    "        print(f\"Win: {Win[0]}   {Win[1]}\")"
   ]
  },
  {
   "cell_type": "code",
   "execution_count": null,
   "id": "fc683528-a804-4424-824c-5e3c628c7ef4",
   "metadata": {},
   "outputs": [],
   "source": [
    "main()"
   ]
  },
  {
   "cell_type": "code",
   "execution_count": null,
   "id": "4aa9ab25-b1cc-426d-8ac8-989feca73e55",
   "metadata": {},
   "outputs": [],
   "source": [
    "\n",
    "state = GR.init_state()\n"
   ]
  },
  {
   "cell_type": "code",
   "execution_count": null,
   "id": "8b5bca81-21f8-4344-841b-ae1b4533cbfe",
   "metadata": {},
   "outputs": [],
   "source": [
    "V=GR.toVect(state)"
   ]
  },
  {
   "cell_type": "code",
   "execution_count": null,
   "id": "965fb5e9-82d6-4ffe-b19a-0d2d33977e90",
   "metadata": {},
   "outputs": [],
   "source": [
    "act=GR.getActions(state)"
   ]
  },
  {
   "cell_type": "code",
   "execution_count": null,
   "id": "e64ad4fb-1502-4842-885d-cd462b06cc9e",
   "metadata": {},
   "outputs": [],
   "source": [
    "GR.actionToString(act[4])"
   ]
  },
  {
   "cell_type": "code",
   "execution_count": null,
   "id": "02affff8-94c4-4fbf-9f1a-e72f135b8f44",
   "metadata": {},
   "outputs": [],
   "source": [
    "\";\".join([GR.actionToString(act[i]) ])"
   ]
  },
  {
   "cell_type": "code",
   "execution_count": null,
   "id": "8662d058-15c0-443e-8f63-5b75b9789419",
   "metadata": {},
   "outputs": [],
   "source": [
    "\";\".join([GR.actionToString(act[i]).decode() for i in range(1,act[0]+1)])"
   ]
  },
  {
   "cell_type": "code",
   "execution_count": 1,
   "id": "146bddc4-60fb-44c3-872c-ba6b2af0d63a",
   "metadata": {},
   "outputs": [],
   "source": [
    "from subprocess import Popen, PIPE\n",
    "file_exe=\"../../../Mzinga.LinuxX64/MzingaEngine\"\n",
    "player = Popen(file_exe, stdin=PIPE, stdout=PIPE, stderr=PIPE, encoding=\"UTF8\", bufsize=1)\n",
    "\n",
    "player.stdout.readline()\n",
    "player.stdout.readline()\n",
    "player.stdout.readline()\n",
    "from game_rule import DLLGameRule \n",
    "GR=DLLGameRule()\n",
    "import time\n",
    "import random\n",
    "import ctypes\n",
    "import math\n",
    "import time\n",
    "\n"
   ]
  },
  {
   "cell_type": "code",
   "execution_count": 2,
   "id": "084304bc-dbc0-4f51-974f-3d0c9cc13a49",
   "metadata": {},
   "outputs": [],
   "source": [
    "\n",
    "interactionProgram=\"\"\n",
    "def initNewGame(player,gamemode=0):\n",
    "    global interactionProgram\n",
    "    b=\"\"\n",
    "    match gamemode:\n",
    "        case 0:\n",
    "            b=\"Base\"\n",
    "        case 1:\n",
    "            b=\"Base+M\"\n",
    "        case 2:\n",
    "            b=\"Base+L\"\n",
    "        case 3:\n",
    "            b=\"Base+P\"\n",
    "        case 4:\n",
    "            b=\"Base+ML\"\n",
    "        case 5:\n",
    "            b=\"Base+MP\"\n",
    "        case 6:\n",
    "            b=\"Base+LP\"\n",
    "        case 7:\n",
    "            b=\"Base+MLP\"\n",
    "            \n",
    "        \n",
    "    player.stdin.write(\"newgame \"+b+\"\\n\")\n",
    "    interactionProgram+=\" > newgame\\n\"\n",
    "    \n",
    "    interactionProgram+=\" < \"+player.stdout.readline()+\"\\n\"\n",
    "    interactionProgram+=\" < \"+player.stdout.readline()+\"\\n\"\n",
    "    \n",
    "def getValidMoves(player):\n",
    "    global interactionProgram\n",
    "    player.stdin.write(\"validmoves\\n\")\n",
    "    interactionProgram+=\" > validmoves\\n\"\n",
    "    read=player.stdout.readline()\n",
    "    s=read[:-1].split(\";\")  \n",
    "    interactionProgram+=\" < \"+read+\"\\n\"\n",
    "    interactionProgram+=\" < \"+player.stdout.readline()+\"\\n\"\n",
    "    return s\n",
    "\n",
    "def playMove(p):\n",
    "    global interactionProgram\n",
    "    global risAct\n",
    "    player.stdin.write(\"play \"+p+\"\\n\")\n",
    "    interactionProgram+=\" > play \"+p+\"\\n\"\n",
    "    risAct=player.stdout.readline()\n",
    "    interactionProgram+=\" < \"+risAct+\"\\n\"\n",
    "    interactionProgram+=\" < \"+player.stdout.readline()+\"\\n\"\n",
    "    \n",
    "def playBoth(p,state,act):\n",
    "    playMove(act)\n",
    "    GR.next_state(state,GR.stringToAction(state,act))\n",
    "    \n",
    "    "
   ]
  },
  {
   "cell_type": "code",
   "execution_count": 3,
   "id": "7a296861-9676-47dd-8257-a63a4b9dff9c",
   "metadata": {},
   "outputs": [
    {
     "name": "stdout",
     "output_type": "stream",
     "text": [
      "GT:1\n"
     ]
    }
   ],
   "source": [
    "initNewGame(player,1)\n",
    "state = GR.init_state(1)\n",
    "\n",
    "#GR.next_state(state,9)\n",
    "\n",
    "#[GR.boardToCVect_low(state)[i] for i in range(284)]\n"
   ]
  },
  {
   "cell_type": "code",
   "execution_count": 4,
   "id": "8d8c6af6-a29e-4158-b488-c84eecc326fe",
   "metadata": {},
   "outputs": [
    {
     "name": "stdout",
     "output_type": "stream",
     "text": [
      "GT:7\n",
      "Q: 0\n",
      "GT:7\n",
      "Q: 1\n",
      "GT:7\n",
      "iM 120\n",
      "Q: 2\n",
      "GT:7\n",
      "Q: 3\n",
      "GT:7\n",
      "Q: 4\n",
      "GT:7\n",
      "Q: 5\n",
      "GT:7\n",
      "ERROR: Different lenght\n",
      "1. wB1\n",
      "2. bG1 wB1-\n",
      "3. wM /wB1\n",
      "4. bM bG1/\n",
      "5. wA1 -wM\n",
      "6. bB1 bM/\n",
      "7. wQ /wM\n",
      "8. bQ bB1\\\n",
      "9. wA1 /bQ\n",
      "10. bL \\bM\n",
      "11. wA1 \\bL\n",
      "12. bG2 bB1-\n",
      "13. wA2 -wA1\n",
      "14. bB2 bQ\\\n",
      "15. wG1 /wA2\n",
      "16. bB2 /bQ\n",
      "17. wG2 \\wM\n",
      "18. bB2 bG1\n",
      "19. wL wA2/\n",
      "20. bB2 bG1\\\n",
      "21. wQ wM\\\n",
      "22. bB2 bG1\n",
      "23. wS1 wQ\\\n",
      "24. bG2 /bQ\n",
      "25. wG3 /wG1\n",
      "26. bA1 bB1/\n",
      "27. wA2 /wS1\n",
      "28. bA1 bQ-\n",
      "29. wP wA2\\\n",
      "30. bP bA1-\n",
      "31. wB2 wL-\n",
      "32. bA2 /bG2\n",
      "33. wS2 wP\\\n",
      "34. bA2 /bP\n",
      "35. wA3 /wL\n",
      "36. bG3 bB1-\n",
      "37. wB2 wA1\n",
      "38. bM bB1\n",
      "39. wA3 \\wG3\n",
      "40. bB2 /bB1\n",
      "\n"
     ]
    }
   ],
   "source": [
    "evN=0\n",
    "v1=[]\n",
    "v2=[]\n",
    "v2r=[]\n",
    "moves=\"\";\n",
    "allVe=[]\n",
    "\n",
    "def test():\n",
    "    global v1\n",
    "    global v2\n",
    "    global v2r\n",
    "    global allVe\n",
    "    \n",
    "    state = None\n",
    "    for Q in range(100):\n",
    "        \n",
    "        geConf=\"\"\n",
    "        state = GR.init_state(7)\n",
    "        initNewGame(player,7)\n",
    "\n",
    "        iM = 0\n",
    "        totMov = 0\n",
    "        while iM <1000:\n",
    "            global evN\n",
    "\n",
    "            actTMPC = GR.getActions(state)\n",
    "            actStrTE = getValidMoves(player)\n",
    "\n",
    "            actNumE=[GR.stringToAction(state,mov) for mov in actStrTE]\n",
    "            actNumC=[actTMPC[i] for i in range(1,actTMPC[0]+1)]\n",
    "            \n",
    "            actStrC=[GR.actionToString(x) for x in actNumC]\n",
    "            actStrE=[GR.actionToString(x) for x in actNumE]\n",
    "            actNumE.sort()\n",
    "            actNumC.sort()\n",
    "            actStrE.sort()\n",
    "            actStrC.sort()\n",
    "\n",
    "            \n",
    "            lE=len(actNumE)\n",
    "            lC=len(actNumC)\n",
    "            \n",
    "            if lE!=lC:\n",
    "                print(\"ERROR: Different lenght\")\n",
    "                v1=[GR.actionToString(x) for x in actNumE]\n",
    "                v2=[GR.actionToString(x) for x in actNumC]\n",
    "                v2r=actNumC\n",
    "                allVe=(actStrTE,actTMPC,actNumE,actNumC,actStrE,actStrC)\n",
    "                print(geConf)\n",
    "                return\n",
    "            else:\n",
    "                for i in range(lE):\n",
    "                    if(actStrC[i]!=actStrE[i]):\n",
    "                        print(\"ERROR : not same actions\")\n",
    "                        v1=[GR.actionToString(x) for x in actNumE]\n",
    "                        v2=[GR.actionToString(x) for x in actNumC]\n",
    "                        allVe=(actTMPC,actStrTE,actNumE,actNumC,actStrE,actStrC)\n",
    "                        v2r=actNumC\n",
    "                        print(geConf)\n",
    "                        return\n",
    "            # scelta casuale per il secondo giocatore\n",
    "            \n",
    "            m = random.randint(1, lC)\n",
    "\n",
    "            geConf+=(f\"{iM+1}. {actStrC[m-1]}\\n\")\n",
    "            playBoth(player,state,actStrC[m-1])\n",
    "            \n",
    "            #GR.next_state(state,GR.stringToAction(state,actStrC[m-1]))\n",
    "    \n",
    "            totMov += 1\n",
    "            iM += 1\n",
    "            \n",
    "\n",
    "            status = GR.checkStatus(state)\n",
    "            if status != 1:\n",
    "                print(\"iM\",iM)\n",
    "                iM=1000\n",
    "                break\n",
    "        print(\"Q:\",Q)\n",
    "        GR.delBoard(state)\n",
    "test()"
   ]
  },
  {
   "cell_type": "code",
   "execution_count": 5,
   "id": "d5fc6592-3af7-4ea8-a6b3-89c7c1369b24",
   "metadata": {},
   "outputs": [
    {
     "data": {
      "text/plain": [
       "(50, 51)"
      ]
     },
     "execution_count": 5,
     "metadata": {},
     "output_type": "execute_result"
    }
   ],
   "source": [
    "l1=len(v1)\n",
    "l2=len(v2)\n",
    "l1,l2\n",
    "#[(allVe[2][i]==allVe[0][i+1],allVe[2][i],allVe[0][i+1]) for i in range(l1)]"
   ]
  },
  {
   "cell_type": "code",
   "execution_count": 6,
   "id": "2590e91f-19df-49eb-b8f3-f8e5e8103b1c",
   "metadata": {},
   "outputs": [
    {
     "data": {
      "text/plain": [
       "(50, 51)"
      ]
     },
     "execution_count": 6,
     "metadata": {},
     "output_type": "execute_result"
    }
   ],
   "source": [
    "(l1,l2)"
   ]
  },
  {
   "cell_type": "code",
   "execution_count": 7,
   "id": "d6b0a27d-0bfc-4cc7-88b5-8d7fd547b20c",
   "metadata": {},
   "outputs": [],
   "source": [
    "v1.sort()\n",
    "v2.sort()"
   ]
  },
  {
   "cell_type": "code",
   "execution_count": 8,
   "id": "cb0f17bf-01da-40f2-8b49-2c82df997df8",
   "metadata": {},
   "outputs": [
    {
     "name": "stdout",
     "output_type": "stream",
     "text": [
      "wS2 -wA2 \t wL wA1-\n",
      "wS2 /wA2 \t wS2 -wA2\n",
      "wS2 /wP \t wS2 /wA2\n",
      "wS2 wP- \t wS2 /wP\n",
      "wS2 wS1- \t wS2 wP-\n",
      "wS2 wS1\\ \t wS2 wS1-\n",
      "        \t wS2 wS1\\\n"
     ]
    }
   ],
   "source": [
    "for i in range(max(l1,l2)):\n",
    "    if((v1[i] if i<l1 else \"       \")!=(v2[i] if i<l2 else 0)):\n",
    "        print(v1[i] if i<l1 else \"       \",\"\\t\",v2[i] if i<l2 else 0)"
   ]
  },
  {
   "cell_type": "code",
   "execution_count": null,
   "id": "ca6fa4d8-25b9-4b7c-ae13-c4480afde4a1",
   "metadata": {},
   "outputs": [],
   "source": [
    "v2"
   ]
  },
  {
   "cell_type": "code",
   "execution_count": null,
   "id": "3a65e17b-0f0d-4ada-b3c0-7a046ce5f767",
   "metadata": {},
   "outputs": [],
   "source": [
    "9227321486950268931>>56"
   ]
  },
  {
   "cell_type": "code",
   "execution_count": null,
   "id": "62d1f24a-1328-42c4-a58c-b23e5099352e",
   "metadata": {},
   "outputs": [],
   "source": [
    "v2"
   ]
  },
  {
   "cell_type": "code",
   "execution_count": null,
   "id": "be1f25e4-8a3d-476d-93fd-0e4641ca10ce",
   "metadata": {},
   "outputs": [],
   "source": [
    "totMov = 0\n",
    "t_start = time.time()\n",
    "\n",
    "for rt in range(5):\n",
    "    initNewGame(player)    \n",
    "    i = 0\n",
    "\n",
    "    while i<200000:\n",
    "\n",
    "        # .EBoard_getNextsActions(board, ris)\n",
    "        actStrE = getValidMoves(player)\n",
    "\n",
    "        num_actions = len(actStrE)\n",
    "        m = random.randint(1, num_actions)\n",
    "        if num_actions<=1:\n",
    "            print(i)\n",
    "            break\n",
    "        playMove(actStrE[m-1])\n",
    "        \n",
    "        totMov += 1\n",
    "        \n",
    "        i += 1\n",
    "\n",
    "    \n",
    "t_end = time.time()\n",
    "print(\"Tempo totale mossa\", (t_end - t_start) /totMov, \"s\")\n",
    "print(totMov)\n"
   ]
  },
  {
   "cell_type": "code",
   "execution_count": null,
   "id": "17bd1333-018f-4cf6-9492-b4bd8c1f8f1b",
   "metadata": {},
   "outputs": [],
   "source": [
    "(9227321486950268931>>56)&31\n"
   ]
  },
  {
   "cell_type": "code",
   "execution_count": null,
   "id": "c4fd9668-66e3-45a1-97c3-046087807494",
   "metadata": {},
   "outputs": [],
   "source": [
    "import numpy as np"
   ]
  },
  {
   "cell_type": "code",
   "execution_count": null,
   "id": "bd89182f-2727-43bf-bfc4-af48328d36d0",
   "metadata": {},
   "outputs": [],
   "source": []
  },
  {
   "cell_type": "code",
   "execution_count": null,
   "id": "fbda439f-5d1a-4c0b-bc9d-2f1c2b4430fc",
   "metadata": {},
   "outputs": [],
   "source": [
    "a=np.unpackbits(np.ctypeslib.asarray("
   ]
  },
  {
   "cell_type": "code",
   "execution_count": null,
   "id": "e3666f69-6432-40cb-9498-ec241b4e7ae1",
   "metadata": {},
   "outputs": [],
   "source": [
    "state = GR.init_state(1)\n",
    "\n",
    "GR.getActions(state)\n"
   ]
  },
  {
   "cell_type": "code",
   "execution_count": null,
   "id": "bd6881e5-652d-477f-b036-c682f64d7176",
   "metadata": {},
   "outputs": [],
   "source": [
    "GM=GR.dll._Z7getMaskP6EBoard\n",
    "GM.argtypes = [ctypes.c_void_p]\n",
    "GM.restype=np.ctypeslib.ctypes.pointer(np.ctypeslib.ctypes.c_uint8)\n",
    "#ctypes.POINTER(ctypes.c_uint8)"
   ]
  },
  {
   "cell_type": "code",
   "execution_count": null,
   "id": "11e224e0-31cb-40b6-8a43-0648762e8794",
   "metadata": {},
   "outputs": [],
   "source": [
    "ris1=GM(state)"
   ]
  },
  {
   "cell_type": "code",
   "execution_count": null,
   "id": "98d4a57c-5e66-4ca7-93a2-a3b1b3ab76c5",
   "metadata": {},
   "outputs": [],
   "source": [
    "ris1\n"
   ]
  },
  {
   "cell_type": "code",
   "execution_count": null,
   "id": "fd4b1687-3d08-432f-b90c-9ac8d5b67f9c",
   "metadata": {},
   "outputs": [],
   "source": []
  },
  {
   "cell_type": "code",
   "execution_count": null,
   "id": "5e52579a-5444-4db0-a858-e8fa9847aedd",
   "metadata": {},
   "outputs": [],
   "source": [
    "s=0\n",
    "for i in range(1575):\n",
    "    s+=ris1[i]\n",
    "print(s)"
   ]
  },
  {
   "cell_type": "code",
   "execution_count": null,
   "id": "de1c57b9-7e32-49b2-8e61-f226c6bffc08",
   "metadata": {},
   "outputs": [],
   "source": [
    "np.ctypeslib.as_array(ris1,np.zeros(1575))"
   ]
  },
  {
   "cell_type": "code",
   "execution_count": null,
   "id": "29b526bc-a23f-442c-85a1-fee1249cbdfb",
   "metadata": {},
   "outputs": [],
   "source": [
    "ris1"
   ]
  },
  {
   "cell_type": "code",
   "execution_count": null,
   "id": "5c2951af-ef0d-4046-803d-6e4e52dba61f",
   "metadata": {},
   "outputs": [],
   "source": [
    "z=np.zeros(30)"
   ]
  },
  {
   "cell_type": "code",
   "execution_count": null,
   "id": "29a613b6-8626-4f67-bf0f-2db6f0c03ea0",
   "metadata": {},
   "outputs": [],
   "source": [
    "z.ctypes"
   ]
  },
  {
   "cell_type": "code",
   "execution_count": null,
   "id": "aff23c2c-904a-4dbe-904c-2f53670a74e4",
   "metadata": {},
   "outputs": [],
   "source": []
  },
  {
   "cell_type": "code",
   "execution_count": null,
   "id": "9bfee3aa-73ce-4ad6-9d42-fbbed99c1fd9",
   "metadata": {},
   "outputs": [],
   "source": []
  }
 ],
 "metadata": {
  "kernelspec": {
   "display_name": "Python 3 (ipykernel)",
   "language": "python",
   "name": "python3"
  },
  "language_info": {
   "codemirror_mode": {
    "name": "ipython",
    "version": 3
   },
   "file_extension": ".py",
   "mimetype": "text/x-python",
   "name": "python",
   "nbconvert_exporter": "python",
   "pygments_lexer": "ipython3",
   "version": "3.10.9"
  },
  "vscode": {
   "interpreter": {
    "hash": "e7370f93d1d0cde622a1f8e1c04877d8463912d04d973331ad4851f04de6915a"
   }
  }
 },
 "nbformat": 4,
 "nbformat_minor": 5
}
